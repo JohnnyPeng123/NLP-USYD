{
  "nbformat": 4,
  "nbformat_minor": 0,
  "metadata": {
    "colab": {
      "name": "““UNIKEY_COMP5046_Ass1.ipynb”的副本”的副本",
      "provenance": [],
      "collapsed_sections": [],
      "toc_visible": true,
      "machine_shape": "hm",
      "include_colab_link": true
    },
    "kernelspec": {
      "name": "python3",
      "display_name": "Python 3"
    },
    "accelerator": "GPU"
  },
  "cells": [
    {
      "cell_type": "markdown",
      "metadata": {
        "id": "view-in-github",
        "colab_type": "text"
      },
      "source": [
        "<a href=\"https://colab.research.google.com/github/JohnnyPeng123/NLP-USYD/blob/master/JPEN6856_COMP5046_Ass1.ipynb\" target=\"_parent\"><img src=\"https://colab.research.google.com/assets/colab-badge.svg\" alt=\"Open In Colab\"/></a>"
      ]
    },
    {
      "cell_type": "markdown",
      "metadata": {
        "id": "MGHoy6KpQDfZ",
        "colab_type": "text"
      },
      "source": [
        "# COMP5046 Assignment 1\n",
        "*To skip the model training parts and save your time and, please only run cells with \"Run This Cell\" sign. Please do not run cells without this sign, unless you would like to play with codes*"
      ]
    },
    {
      "cell_type": "markdown",
      "metadata": {
        "id": "34DVNKgqQY21",
        "colab_type": "text"
      },
      "source": [
        "# 1 - Data Preprocessing"
      ]
    },
    {
      "cell_type": "markdown",
      "metadata": {
        "id": "7cWUxAQrGlq6",
        "colab_type": "text"
      },
      "source": [
        "## 1.1. Download Dataset"
      ]
    },
    {
      "cell_type": "code",
      "metadata": {
        "id": "U7C4snIcNl22",
        "colab_type": "code",
        "outputId": "7a96d2e6-77b9-43ce-843f-bdb588dd7775",
        "colab": {
          "base_uri": "https://localhost:8080/",
          "height": 605
        }
      },
      "source": [
        "####################################\n",
        "###### Run This Cell #########\n",
        "####################################\n",
        "\n",
        "# Code to download file into Colaboratory:\n",
        "!pip install -U -q PyDrive\n",
        "!pip install unidecode\n",
        "!pip3 install lemminflect\n",
        "!pip install spacy\n",
        "import unidecode\n",
        "from pydrive.auth import GoogleAuth\n",
        "from pydrive.drive import GoogleDrive\n",
        "from google.colab import auth\n",
        "from oauth2client.client import GoogleCredentials\n",
        "# Authenticate and create the PyDrive client.\n",
        "auth.authenticate_user()\n",
        "gauth = GoogleAuth()\n",
        "gauth.credentials = GoogleCredentials.get_application_default()\n",
        "drive = GoogleDrive(gauth)\n",
        "\n",
        "id = '1vF3FqgBC1Y-RPefeVmY8zetdZG1jmHzT'\n",
        "downloaded = drive.CreateFile({'id':id}) \n",
        "downloaded.GetContentFile('imdb_train.csv')\n",
        "\n",
        "id = '1XhaV8YMuQeSwozQww8PeyiWMJfia13G6'\n",
        "downloaded = drive.CreateFile({'id':id}) \n",
        "downloaded.GetContentFile('imdb_test.csv')\n",
        "\n",
        "import pandas as pd\n",
        "df_train = pd.read_csv(\"imdb_train.csv\")\n",
        "df_test = pd.read_csv(\"imdb_test.csv\")\n",
        "\n",
        "reviews_train = df_train['review'].tolist()\n",
        "sentiments_train = df_train['sentiment'].tolist()\n",
        "reviews_test = df_test['review'].tolist()\n",
        "sentiments_test = df_test['sentiment'].tolist()\n",
        "\n",
        "reviews_train_original = df_train['review'].tolist()\n",
        "reviews_test_original = df_test['review'].tolist()\n",
        "\n",
        "print(\"Training set number:\",len(reviews_train))\n",
        "print(\"Testing set number:\",len(reviews_test))"
      ],
      "execution_count": 2,
      "outputs": [
        {
          "output_type": "stream",
          "text": [
            "Collecting unidecode\n",
            "\u001b[?25l  Downloading https://files.pythonhosted.org/packages/d0/42/d9edfed04228bacea2d824904cae367ee9efd05e6cce7ceaaedd0b0ad964/Unidecode-1.1.1-py2.py3-none-any.whl (238kB)\n",
            "\r\u001b[K     |█▍                              | 10kB 25.0MB/s eta 0:00:01\r\u001b[K     |██▊                             | 20kB 1.7MB/s eta 0:00:01\r\u001b[K     |████▏                           | 30kB 2.5MB/s eta 0:00:01\r\u001b[K     |█████▌                          | 40kB 3.2MB/s eta 0:00:01\r\u001b[K     |██████▉                         | 51kB 2.0MB/s eta 0:00:01\r\u001b[K     |████████▎                       | 61kB 2.4MB/s eta 0:00:01\r\u001b[K     |█████████▋                      | 71kB 2.8MB/s eta 0:00:01\r\u001b[K     |███████████                     | 81kB 3.2MB/s eta 0:00:01\r\u001b[K     |████████████▍                   | 92kB 2.4MB/s eta 0:00:01\r\u001b[K     |█████████████▊                  | 102kB 2.7MB/s eta 0:00:01\r\u001b[K     |███████████████▏                | 112kB 2.7MB/s eta 0:00:01\r\u001b[K     |████████████████▌               | 122kB 2.7MB/s eta 0:00:01\r\u001b[K     |█████████████████▉              | 133kB 2.7MB/s eta 0:00:01\r\u001b[K     |███████████████████▎            | 143kB 2.7MB/s eta 0:00:01\r\u001b[K     |████████████████████▋           | 153kB 2.7MB/s eta 0:00:01\r\u001b[K     |██████████████████████          | 163kB 2.7MB/s eta 0:00:01\r\u001b[K     |███████████████████████▍        | 174kB 2.7MB/s eta 0:00:01\r\u001b[K     |████████████████████████▊       | 184kB 2.7MB/s eta 0:00:01\r\u001b[K     |██████████████████████████▏     | 194kB 2.7MB/s eta 0:00:01\r\u001b[K     |███████████████████████████▌    | 204kB 2.7MB/s eta 0:00:01\r\u001b[K     |████████████████████████████▉   | 215kB 2.7MB/s eta 0:00:01\r\u001b[K     |██████████████████████████████▎ | 225kB 2.7MB/s eta 0:00:01\r\u001b[K     |███████████████████████████████▋| 235kB 2.7MB/s eta 0:00:01\r\u001b[K     |████████████████████████████████| 245kB 2.7MB/s \n",
            "\u001b[?25hInstalling collected packages: unidecode\n",
            "Successfully installed unidecode-1.1.1\n",
            "Collecting lemminflect\n",
            "\u001b[?25l  Downloading https://files.pythonhosted.org/packages/8d/c5/62e8dd0b6cbfea212cf55a2338838d85a819dbda9462ba53a415dcf19b86/lemminflect-0.2.1-py3-none-any.whl (769kB)\n",
            "\u001b[K     |████████████████████████████████| 778kB 2.7MB/s \n",
            "\u001b[?25hRequirement already satisfied: numpy in /usr/local/lib/python3.6/dist-packages (from lemminflect) (1.18.2)\n",
            "Installing collected packages: lemminflect\n",
            "Successfully installed lemminflect-0.2.1\n",
            "Requirement already satisfied: spacy in /usr/local/lib/python3.6/dist-packages (2.2.4)\n",
            "Requirement already satisfied: tqdm<5.0.0,>=4.38.0 in /usr/local/lib/python3.6/dist-packages (from spacy) (4.38.0)\n",
            "Requirement already satisfied: catalogue<1.1.0,>=0.0.7 in /usr/local/lib/python3.6/dist-packages (from spacy) (1.0.0)\n",
            "Requirement already satisfied: numpy>=1.15.0 in /usr/local/lib/python3.6/dist-packages (from spacy) (1.18.2)\n",
            "Requirement already satisfied: requests<3.0.0,>=2.13.0 in /usr/local/lib/python3.6/dist-packages (from spacy) (2.21.0)\n",
            "Requirement already satisfied: preshed<3.1.0,>=3.0.2 in /usr/local/lib/python3.6/dist-packages (from spacy) (3.0.2)\n",
            "Requirement already satisfied: blis<0.5.0,>=0.4.0 in /usr/local/lib/python3.6/dist-packages (from spacy) (0.4.1)\n",
            "Requirement already satisfied: plac<1.2.0,>=0.9.6 in /usr/local/lib/python3.6/dist-packages (from spacy) (1.1.3)\n",
            "Requirement already satisfied: cymem<2.1.0,>=2.0.2 in /usr/local/lib/python3.6/dist-packages (from spacy) (2.0.3)\n",
            "Requirement already satisfied: wasabi<1.1.0,>=0.4.0 in /usr/local/lib/python3.6/dist-packages (from spacy) (0.6.0)\n",
            "Requirement already satisfied: setuptools in /usr/local/lib/python3.6/dist-packages (from spacy) (46.1.3)\n",
            "Requirement already satisfied: murmurhash<1.1.0,>=0.28.0 in /usr/local/lib/python3.6/dist-packages (from spacy) (1.0.2)\n",
            "Requirement already satisfied: srsly<1.1.0,>=1.0.2 in /usr/local/lib/python3.6/dist-packages (from spacy) (1.0.2)\n",
            "Requirement already satisfied: thinc==7.4.0 in /usr/local/lib/python3.6/dist-packages (from spacy) (7.4.0)\n",
            "Requirement already satisfied: importlib-metadata>=0.20; python_version < \"3.8\" in /usr/local/lib/python3.6/dist-packages (from catalogue<1.1.0,>=0.0.7->spacy) (1.6.0)\n",
            "Requirement already satisfied: idna<2.9,>=2.5 in /usr/local/lib/python3.6/dist-packages (from requests<3.0.0,>=2.13.0->spacy) (2.8)\n",
            "Requirement already satisfied: certifi>=2017.4.17 in /usr/local/lib/python3.6/dist-packages (from requests<3.0.0,>=2.13.0->spacy) (2020.4.5.1)\n",
            "Requirement already satisfied: urllib3<1.25,>=1.21.1 in /usr/local/lib/python3.6/dist-packages (from requests<3.0.0,>=2.13.0->spacy) (1.24.3)\n",
            "Requirement already satisfied: chardet<3.1.0,>=3.0.2 in /usr/local/lib/python3.6/dist-packages (from requests<3.0.0,>=2.13.0->spacy) (3.0.4)\n",
            "Requirement already satisfied: zipp>=0.5 in /usr/local/lib/python3.6/dist-packages (from importlib-metadata>=0.20; python_version < \"3.8\"->catalogue<1.1.0,>=0.0.7->spacy) (3.1.0)\n",
            "Training set number: 25000\n",
            "Testing set number: 25000\n"
          ],
          "name": "stdout"
        }
      ]
    },
    {
      "cell_type": "markdown",
      "metadata": {
        "id": "l9gBSgBCQh24",
        "colab_type": "text"
      },
      "source": [
        "## 1.2. Preprocess data"
      ]
    },
    {
      "cell_type": "markdown",
      "metadata": {
        "id": "8RdKI8E2KRwe",
        "colab_type": "text"
      },
      "source": [
        "Here are the processing steps that we'll take to clean up our data:\n",
        ">\n",
        "1. Case folding - Convert all the characters to lower-case.\n",
        "  * Reason: Even though Upper-case and lower-case might change the meaning of a sentence in some situation, but the overall sentiment of the reviews are unlikely to be impacted by this, and by doing this we can reduce the sparseness of our data.\n",
        "\n",
        "  * Codes: words.lower()\n",
        "\n",
        "1. Expand Contractions.\n",
        "  * Reason: Reduce sparseness of our data. It is not ideal to treat words like \"you're\" as a separate single word in our vocab.\n",
        "\n",
        "  * Codes: expand_contractions()  \n",
        "\n",
        "2. Get rid of periods and extraneous punctuation.\n",
        "  * Reason: Punctuations cannot indicate whether a review is positive or negative, rather, it indicates the magnitudes of the sentiment. Thus, it's not useful for our purpose given we are not trying to predictive the magnitudes, hence we will get rid of them.  \n",
        "\n",
        "  * Codes: remove_punctuation_re()\n",
        "\n",
        "3. Tokenisation - Convert reviews to words level.\n",
        "  * Reason: We will need to train and use embeddings at the word level, also word-level data transformation will happen in the next step.\n",
        "  \n",
        "  * Codes: word_tokenize()\n",
        "4. Normalization - Remove accents for all the words in our texts.\n",
        "  * Reason: Accents do not contribute to the sentiment of a movie review, and by doing this we can reduce the sparseness of our data.\n",
        "\n",
        "  * Codes: unidecode.unidecode()\n",
        "5. Remove misspell words and made-up words\n",
        "  * Reason: These words are likely to be very infrequent in our data, and hence it is unlikely to get a meaningful embedding out of it, might as well remove them to reduce dataset size and speed up the training process.\n",
        "\n",
        "  * Codes: words in english_words\n",
        "\n",
        "6. Remove Numbers.\n",
        "  * Reason: Like punctuations, numbers carry quantitative meanings, which contribute little to predicting the sentiment of the reviews. \n",
        "  \n",
        "  * Codes: word.isalpha()\n",
        "\n",
        "6. Remove words with single characters.\n",
        "  * Reason: After the punctuations got removed from our text, some single characters will not make sense anymore. For example, \"Jack's apple\" will become \"jack s apple\", even though that s can still provide some dependency information, however, I do not think that can change the sentiment of the review. Note that there are three exceptions, \"a\",\"i\" will be kept, and \"u\" will be converted to \"you\". \n",
        "  \n",
        "  * Codes: word not in single_words\n",
        "\n",
        "7. POS tagging.\n",
        "  * Reason: since we will be performing lemmatization in the next step, we are required to perform POS tagging beforehand to do lemmatization properly.\n",
        "\n",
        "  * Codes: nlp(' '.join(review_tmp))  \n",
        "\n",
        "8. Lemmatization\n",
        "  * Reason: Lemmatiztion helps to normalize our words by grouping the same words with different forms together, and hence reduce sparseness in our data, which would be beneficial for both training embeddings and sentiment analysis.\n",
        "\n",
        "  * Codes: w._.lemma()\n",
        "\n",
        "Note that these steps have to happen in order, otherwise the final results might be different. For example, we will be making mistake if we remove punctuations before expanding contractions, that is because after we remove punctuations \"you're\" will become \"youre\", which is not in our contractions dictionary.  \n",
        "\n",
        "Please also note that I am not happy with the accuracy of the lemmatization package from nltk, so I have installed some external libraries to perform the lemmatization task instead. These libraries include: spacy, lemminflect \n",
        "\n",
        "The english_words dictionary used in this code are from the Github below:\n",
        "https://github.com/dwyl/english-words\n",
        "\n",
        "I find the English dictionary from nltk very out-of-date. For example, the English dictionary from nltk does not even have the word \"enjoyed\" in it. so I used the one above instead."
      ]
    },
    {
      "cell_type": "code",
      "metadata": {
        "id": "xsIXp9W0TBez",
        "colab_type": "code",
        "colab": {}
      },
      "source": [
        "####################################\n",
        "######## Run This Cell #########\n",
        "####################################\n",
        "id = '1o2k7nw9oYWMAsgKEFBCAeaMIWlCqBB8m'\n",
        "downloaded = drive.CreateFile({'id':id}) \n",
        "downloaded.GetContentFile('words_alpha.txt')\n",
        "\n",
        "def load_words():\n",
        "    with open('words_alpha.txt') as word_file:\n",
        "        valid_words = set(word_file.read().split())\n",
        "\n",
        "    return valid_words\n",
        "\n",
        "english_words = load_words()\n",
        "\n",
        "import re\n",
        "contractions_dict = {\"ain't\": \"is not\", \"aren't\": \"are not\",\"can't\": \"cannot\", \"'cause\": \"because\", \"could've\": \"could have\", \n",
        "                    \"couldn't\": \"could not\", \"didn't\": \"did not\",  \"doesn't\": \"does not\", \"don't\": \"do not\", \"hadn't\": \"had not\", \n",
        "                    \"hasn't\": \"has not\", \"haven't\": \"have not\", \"he'd\": \"he would\",\"he'll\": \"he will\", \"he's\": \"he is\", \"how'd\": \"how did\", \n",
        "                    \"how'd'y\": \"how do you\", \"how'll\": \"how will\", \"how's\": \"how is\",  \"I'd\": \"I would\", \"I'd've\": \"I would have\", \n",
        "                    \"I'll\": \"I will\", \"I'll've\": \"I will have\",\"I'm\": \"I am\", \"I've\": \"I have\", \"i'd\": \"i would\", \"i'd've\": \"i would have\", \n",
        "                    \"i'll\": \"i will\",  \"i'll've\": \"i will have\",\"i'm\": \"i am\", \"i've\": \"i have\", \"isn't\": \"is not\", \"it'd\": \"it would\", \n",
        "                    \"it'd've\": \"it would have\", \"it'll\": \"it will\", \"it'll've\": \"it will have\",\"it's\": \"it is\", \"let's\": \"let us\", \n",
        "                    \"ma'am\": \"madam\", \"mayn't\": \"may not\", \"might've\": \"might have\",\"mightn't\": \"might not\",\"mightn't've\": \"might not have\", \n",
        "                    \"must've\": \"must have\", \"mustn't\": \"must not\", \"mustn't've\": \"must not have\", \"needn't\": \"need not\", \"needn't've\": \"need not have\",\n",
        "                    \"o'clock\": \"of the clock\", \"oughtn't\": \"ought not\", \"oughtn't've\": \"ought not have\", \"shan't\": \"shall not\", \"sha'n't\": \"shall not\", \n",
        "                    \"shan't've\": \"shall not have\", \"she'd\": \"she would\", \"she'd've\": \"she would have\", \"she'll\": \"she will\", \"she'll've\": \"she will have\", \n",
        "                    \"she's\": \"she is\", \"should've\": \"should have\", \"shouldn't\": \"should not\", \"shouldn't've\": \"should not have\", \"so've\": \"so have\",\n",
        "                    \"so's\": \"so as\", \"this's\": \"this is\",\"that'd\": \"that would\", \"that'd've\": \"that would have\", \"that's\": \"that is\", \"there'd\": \"there would\", \n",
        "                    \"there'd've\": \"there would have\", \"there's\": \"there is\", \"here's\": \"here is\",\"they'd\": \"they would\", \"they'd've\": \"they would have\", \n",
        "                    \"they'll\": \"they will\", \"they'll've\": \"they will have\", \"they're\": \"they are\", \"they've\": \"they have\", \"to've\": \"to have\", \"wasn't\": \"was not\", \n",
        "                    \"we'd\": \"we would\", \"we'd've\": \"we would have\", \"we'll\": \"we will\", \"we'll've\": \"we will have\", \"we're\": \"we are\", \"we've\": \"we have\", \n",
        "                    \"weren't\": \"were not\", \"what'll\": \"what will\", \"what'll've\": \"what will have\", \"what're\": \"what are\",  \"what's\": \"what is\", \"what've\": \"what have\", \n",
        "                    \"when's\": \"when is\", \"when've\": \"when have\", \"where'd\": \"where did\", \"where's\": \"where is\", \"where've\": \"where have\", \"who'll\": \"who will\", \n",
        "                    \"who'll've\": \"who will have\", \"who's\": \"who is\", \"who've\": \"who have\", \"why's\": \"why is\", \"why've\": \"why have\", \"will've\": \"will have\", \n",
        "                    \"won't\": \"will not\", \"won't've\": \"will not have\", \"would've\": \"would have\", \"wouldn't\": \"would not\", \"wouldn't've\": \"would not have\", \n",
        "                    \"y'all\": \"you all\", \"y'all'd\": \"you all would\",\"y'all'd've\": \"you all would have\",\"y'all're\": \"you all are\",\"y'all've\": \"you all have\",\n",
        "                    \"you'd\": \"you would\", \"you'd've\": \"you would have\", \"you'll\": \"you will\", \"you'll've\": \"you will have\", \"you're\": \"you are\", \"you've\": \"you have\"}\n",
        "contractions_re = re.compile('(%s)' % '|'.join(contractions_dict.keys()))\n",
        "def expand_contractions(s, contractions_dict=contractions_dict):\n",
        "    def replace(match):\n",
        "        return contractions_dict[match.group(0)]\n",
        "    s = re.sub(\"\\'\",\"'\",s)\n",
        "    return contractions_re.sub(replace, s)\n",
        "\n",
        "def remove_punctuation_re(x):\n",
        "    x = re.sub('<br />',' ',x)\n",
        "    x = re.sub(r'[^\\w\\s]',' ',x)\n",
        "    x = re.sub(' u ',' you',x)\n",
        "    return x\n",
        "\n",
        "def remove_punctuation_re2(x):\n",
        "    x = re.sub(r'[^\\w\\s]','',x)\n",
        "    return x\n",
        "\n",
        "single_words = ['b', 'c', 'd', 'e', 'f', 'g',\n",
        "         'h', 'j', 'k', 'l', 'm', 'n',\n",
        "         'o', 'p', 'q', 'r', 's', 't', 'u',\n",
        "         'v', 'w', 'x', 'y', 'z']"
      ],
      "execution_count": 0,
      "outputs": []
    },
    {
      "cell_type": "code",
      "metadata": {
        "id": "_lMbD7zYZgLj",
        "colab_type": "code",
        "colab": {}
      },
      "source": [
        "import nltk\n",
        "nltk.download('punkt')\n",
        "from nltk.tokenize import word_tokenize\n",
        "\n",
        "import lemminflect\n",
        "import spacy\n",
        "nlp = spacy.load('en_core_web_sm')\n",
        "\n",
        "def preprocess(data):\n",
        "  for i in range(len(data)):\n",
        "    review_tmp = []\n",
        "    review_final = []\n",
        "    data_temp = remove_punctuation_re(expand_contractions(data[i].lower()))\n",
        "    for word in word_tokenize(data_temp):\n",
        "      word_temp = unidecode.unidecode(word)\n",
        "      if word_temp.isalpha() and word_temp in english_words and word_temp not in single_words:\n",
        "        review_tmp.append(word_temp)\n",
        "    review_tmp1 = nlp(' '.join(review_tmp))\n",
        "    for w in review_tmp1:\n",
        "      review_final.append(remove_punctuation_re2(str(w._.lemma())))\n",
        "    data[i] = ' '.join(review_final)\n",
        "  return data\n",
        "\n",
        "reviews_train = preprocess(reviews_train)\n",
        "reviews_test = preprocess(reviews_test)\n",
        "\n",
        "# create a list that contains the all the words from both training and test dataset\n",
        "reviews = reviews_test + reviews_train\n",
        "all_text = ' '.join([w for w in reviews])\n",
        "all_words = all_text.split()"
      ],
      "execution_count": 0,
      "outputs": []
    },
    {
      "cell_type": "code",
      "metadata": {
        "id": "a9l9Wmx9XcMm",
        "colab_type": "code",
        "colab": {}
      },
      "source": [
        "# Save the pre-processed data, preventing from re-running the pre-process steps.\n",
        "with open(\"/content/drive/My Drive/reviews_test.txt\", \"w\") as f:\n",
        "    for s in reviews_test:\n",
        "        f.write(str(s) +\"\\n\")\n",
        "\n",
        "with open(\"/content/drive/My Drive/reviews_train.txt\", \"w\") as f:\n",
        "    for s in reviews_train:\n",
        "        f.write(str(s) +\"\\n\")\n",
        "\n",
        "with open(\"/content/drive/My Drive/all_words.txt\", \"w\") as f:\n",
        "    for s in all_words:\n",
        "        f.write(str(s) +\"\\n\")"
      ],
      "execution_count": 0,
      "outputs": []
    },
    {
      "cell_type": "code",
      "metadata": {
        "id": "uUG7uDcu2ylv",
        "colab_type": "code",
        "colab": {}
      },
      "source": [
        "reviews_test_original = reviews_test\n",
        "reviews_train_original = reviews_train\n",
        "all_words_original = all_words"
      ],
      "execution_count": 0,
      "outputs": []
    },
    {
      "cell_type": "code",
      "metadata": {
        "id": "RABiaNK2XtX-",
        "colab_type": "code",
        "colab": {}
      },
      "source": [
        "####################################\n",
        "######## Run This Cell #########\n",
        "####################################\n",
        "\n",
        "# Load the pre-processed data.\n",
        "reviews_test = []\n",
        "reviews_train = []\n",
        "all_words = []\n",
        "\n",
        "id = '1-8-7FqqcfhssoBtygvUk_JLUEDX_OcEn'\n",
        "downloaded = drive.CreateFile({'id':id}) \n",
        "downloaded.GetContentFile('reviews_test.txt')\n",
        "\n",
        "id = '1-8HCFH6YMo9ODwcZid5W2AauBFXjCPyI'\n",
        "downloaded = drive.CreateFile({'id':id}) \n",
        "downloaded.GetContentFile('reviews_train.txt')\n",
        "\n",
        "id = '1-8TuOnFLSxdpQv7qG8lyQORAJLQuLXDG'\n",
        "downloaded = drive.CreateFile({'id':id}) \n",
        "downloaded.GetContentFile('all_words.txt')\n",
        "\n",
        "with open(\"reviews_test.txt\", \"r\") as f:\n",
        "  for line in f:\n",
        "    reviews_test.append(line.strip())\n",
        "\n",
        "with open(\"reviews_train.txt\", \"r\") as f:\n",
        "  for line in f:\n",
        "    reviews_train.append(line.strip())\n",
        "\n",
        "with open(\"all_words.txt\", \"r\") as f:\n",
        "  for line in f:\n",
        "    all_words.append(line.strip())\n",
        "\n",
        "reviews = reviews_train + reviews_test"
      ],
      "execution_count": 0,
      "outputs": []
    },
    {
      "cell_type": "code",
      "metadata": {
        "id": "Q-Z7nuS5XQwz",
        "colab_type": "code",
        "colab": {}
      },
      "source": [
        "####################################\n",
        "######## Run This Cell #########\n",
        "####################################\n",
        "\n",
        "from collections import Counter\n",
        "import numpy as np \n",
        "\n",
        "## Build a dictionary that maps words to integers\n",
        "counts = Counter(all_words)\n",
        "vocab = sorted(counts, key=counts.get, reverse=True)\n",
        "vocab_to_int = {word: ii for ii, word in enumerate(vocab)}\n",
        "\n",
        "## use the dict to tokenize each words in reviews.split()\n",
        "## store the tokenized reviews in reviews_ints_train & reviews_ints_test\n",
        "reviews_ints_train = []\n",
        "for review in reviews_train:\n",
        "    reviews_ints_train.append([vocab_to_int[word] for word in review.split()])\n",
        "\n",
        "reviews_ints_test = []\n",
        "for review in reviews_test:\n",
        "    reviews_ints_test.append([vocab_to_int[word] for word in review.split()])  "
      ],
      "execution_count": 0,
      "outputs": []
    },
    {
      "cell_type": "code",
      "metadata": {
        "id": "LOR_f6O7zDpE",
        "colab_type": "code",
        "outputId": "cf4cf765-2697-46b8-ce21-022a10b20daa",
        "colab": {
          "base_uri": "https://localhost:8080/",
          "height": 51
        }
      },
      "source": [
        "print(len(all_words))\n",
        "print(len(vocab))"
      ],
      "execution_count": 5,
      "outputs": [
        {
          "output_type": "stream",
          "text": [
            "11385282\n",
            "43054\n"
          ],
          "name": "stdout"
        }
      ]
    },
    {
      "cell_type": "code",
      "metadata": {
        "id": "QsMYZNV_hl_K",
        "colab_type": "code",
        "outputId": "81776f87-42e8-417d-c7d8-934ece0439c9",
        "colab": {
          "base_uri": "https://localhost:8080/",
          "height": 89
        }
      },
      "source": [
        "# Manual spot check\n",
        "print(reviews_test_original[7])\n",
        "print(reviews_test[7])\n",
        "print(sentiments_test_int[7])"
      ],
      "execution_count": 98,
      "outputs": [
        {
          "output_type": "stream",
          "text": [
            "I think the film makes a subtile reference to rouge of Kieslowski, as the whole atmosphere gives me a feeling of red. It seems to be that a lot of the backgrounds contain red, think of the tea-room f.e. I also think this is one of the greatest movies of the last years.\n",
            "i think the film make a subtile reference to rouge of as the whole atmosphere give me a feeling of red it seem to be that a lot of the background contain red think of the tea room i also think this be one of the great movie of the last year\n",
            "1\n"
          ],
          "name": "stdout"
        }
      ]
    },
    {
      "cell_type": "code",
      "metadata": {
        "id": "vOzawwkPVzTL",
        "colab_type": "code",
        "colab": {}
      },
      "source": [
        "####################################\n",
        "######## Run This Cell #########\n",
        "####################################\n",
        "\n",
        "# Define efficient one-encoding function for Tensors\n",
        "def to_one_hot(y, n_dims=None):\n",
        "    \"\"\" Take integer y (tensor or variable) with n dims and convert it to 1-hot representation with n+1 dims. \"\"\"\n",
        "    y_tensor = y.data if isinstance(y, Variable) else y\n",
        "    y_tensor = y_tensor.type(torch.LongTensor).view(-1, 1)\n",
        "    n_dims = n_dims if n_dims is not None else int(torch.max(y_tensor)) + 1\n",
        "    y_one_hot = torch.zeros(y_tensor.size()[0], n_dims).scatter_(1, y_tensor, 1)\n",
        "    y_one_hot = y_one_hot.view(*y.shape, -1)\n",
        "    return Variable(y_one_hot) if isinstance(y, Variable) else y_one_hot"
      ],
      "execution_count": 0,
      "outputs": []
    },
    {
      "cell_type": "markdown",
      "metadata": {
        "id": "LIu_lkJwQ55g",
        "colab_type": "text"
      },
      "source": [
        "# 2 - Model Implementation"
      ]
    },
    {
      "cell_type": "markdown",
      "metadata": {
        "id": "daDvAftceIvr",
        "colab_type": "text"
      },
      "source": [
        "## 2.1. Word Embeddings"
      ]
    },
    {
      "cell_type": "markdown",
      "metadata": {
        "id": "lbzm-NWBTmM-",
        "colab_type": "text"
      },
      "source": [
        "We will be implementing the Skip-Gram model, which is a neural network model which use the target words to predicts its context words. All the words in our text will be the target words, and the words around each target words will be the context words.\n",
        "\n",
        "Once the model is trained, the hidden layers will be the word embeddings that we can use to train character embedding and perform sentiment analysis. \n",
        "\n",
        "The reasons that we chose Skip-Gram over CBOW is shown below:\n",
        ">\n",
        "* Skip-Gram model is better for infrequent words, although it is slower to train compared to the CBOW approach.\n",
        "  * Skip-Gram is a one-to-one model, which means that a target word is responsible to predict/explain one context word, that means when the loss was generated from the backprop, one single target word's embedding will absorb all the loss and update correspondingly. \n",
        "  \n",
        "    Whereas CBOW uses multiple context words to predict the target words, so each context words will be responsible to explain parts of the target word, which also means that each of the word embeddings will not get updated as much (as in the Skip-Gram model) during the training process.  \n",
        "\n",
        "    For frequent words, both CBOW and Skip-Gram should be fine as they appear a lot in our training dataset, and hence their word embedding got update more often.   \n",
        "    \n",
        "    However, for infrequent words, their embeddings are more likely to be under-trained in the CBOW model as the update magnitude is relatively smaller in CBOW.  \n",
        "\n",
        "    The original word2vec paper from Google also endorsed this idea:\n",
        "  https://code.google.com/archive/p/word2vec/\n",
        "  \n",
        "    (Under the \"Performance\" sub-title, search for \"performance\" to see it)\n"
      ]
    },
    {
      "cell_type": "markdown",
      "metadata": {
        "id": "GXgFpxIgl-_G",
        "colab_type": "text"
      },
      "source": [
        "### 2.1.1. Data Preprocessing for Word Embeddings"
      ]
    },
    {
      "cell_type": "markdown",
      "metadata": {
        "id": "qJrVHGYSmYMg",
        "colab_type": "text"
      },
      "source": [
        "Following are the data preprocessing done for training the word embeddings:\n",
        "\n",
        ">\n",
        "1. Sub-sampling frequent words\n",
        "  * This is a common technique used in NLP to create a more balanced training dataset, where we discard words in our training dataset based on their frequency in our data. More frequent words are more likely to get discarded. That way our training process will not be dominant by frequent but meanless stop words such as \"the\", \"is\", \"are\".    \n",
        "\n",
        "     One benefit of sub-sample frequent words is that, it does not remove all the stop words, rather, it merely reduces the frequency of the stop words in our training dataset. This is a desired feature as some of the stop words can change the sentiment of the sentence. Take \"This movie is not good.\" as an example, if we remove all the stop words, the sentence will become \"movie good.\", which has a sentiment that is opposite to the original sentence.\n",
        "\n",
        "     Other benefits of sub-sample frequent words including improving both accuracy and speed for large data sets, which endorsed by the original Word2Vec paper by Google:\n",
        "\n",
        "     https://code.google.com/archive/p/word2vec/\n",
        "\n",
        "    (Under the \"Performance\" sub-title, search for \"performance\" to see it)\n",
        "\n",
        "\n",
        "2. Break the reviews into target words and context words.\n",
        "  * Detailed process is shown in the code, which creates the training dataset for the Skip-Gram model.  \n",
        "\n",
        "3. One-hot Encoding.\n",
        "  * One-hot encoding is applied to convert the target words into a spare vector that feeds into the Skip-Gram model. Note that, due to the RAM limit on Colab, this is done by batches when training the Skip-Gram model.\n",
        "   \n",
        "Note that I did not implement the \"Negative Sampling\" or \"Hierarchical Softmax\" techniques due to time constraints on this assignment, if I have more time I would definitely give them a go."
      ]
    },
    {
      "cell_type": "code",
      "metadata": {
        "id": "yXvcCdxu5x9n",
        "colab_type": "code",
        "colab": {}
      },
      "source": [
        "import random\n",
        "random.seed(88)\n",
        "\n",
        "reviews_subsample = []\n",
        "for review in reviews:\n",
        "  review_temp = []\n",
        "  for word in review.split():\n",
        "    frac = counts[word]/len(all_words)\n",
        "    prob = (np.sqrt(frac/0.001) + 1) * (0.001/frac)\n",
        "    \n",
        "    if np.random.random() < prob:\n",
        "        review_temp.append(word)\n",
        "  \n",
        "  reviews_subsample.append(' '.join([w for w in review_temp]))  "
      ],
      "execution_count": 0,
      "outputs": []
    },
    {
      "cell_type": "code",
      "metadata": {
        "id": "YTkGebr2oEIU",
        "colab_type": "code",
        "outputId": "f0c7ed0a-a16f-4b8c-b050-48076b160a26",
        "colab": {
          "base_uri": "https://localhost:8080/",
          "height": 51
        }
      },
      "source": [
        "# Making window size 5 skip-gram\n",
        "skip_grams_target = []\n",
        "skip_grams_context = []\n",
        "vocab_size = len(vocab_to_int)\n",
        "window_size = 5\n",
        "\n",
        "for j in range(len(reviews_subsample)):\n",
        "  words = word_tokenize(reviews_subsample[j])\n",
        "  for i in range(len(words)):\n",
        "    target = vocab_to_int[words[i]]\n",
        "    context_temp = []\n",
        "    \n",
        "    if i >= window_size and i <= (len(words) - window_size):   \n",
        "      for word in words[i - window_size:i]:\n",
        "          context_temp.append(vocab_to_int[word])\n",
        "      for word in words[i+1:i + window_size + 1]:\n",
        "          context_temp.append(vocab_to_int[word])\n",
        "    \n",
        "    if i < window_size:\n",
        "      if i > 0:\n",
        "       for word in words[0:i]:\n",
        "           context_temp.append(vocab_to_int[word])\n",
        "      for word in words[i+1:i + window_size + 1]:\n",
        "          context_temp.append(vocab_to_int[word])\n",
        "\n",
        "    if i > (len(words) - window_size):\n",
        "      for word in words[i - window_size:i]:\n",
        "          context_temp.append(vocab_to_int[word])\n",
        "      if i != len(words)-1:\n",
        "       for word in words[i+1:len(words)]:\n",
        "           context_temp.append(vocab_to_int[word])\n",
        "\n",
        "    context = context_temp\n",
        "\n",
        "    # skipgrams - (target, context[0]), (target, context[1])..\n",
        "    for w in context:\n",
        "          skip_grams_target.append(target)\n",
        "          skip_grams_context.append(w)    \n",
        "\n",
        "print(len(skip_grams_target))\n",
        "print(len(skip_grams_context))"
      ],
      "execution_count": 0,
      "outputs": [
        {
          "output_type": "stream",
          "text": [
            "78945061\n",
            "78945061\n"
          ],
          "name": "stdout"
        }
      ]
    },
    {
      "cell_type": "code",
      "metadata": {
        "id": "weoNbf62wLiW",
        "colab_type": "code",
        "colab": {}
      },
      "source": [
        "# Create Batches\n",
        "import torch\n",
        "from torch.utils.data import TensorDataset, DataLoader\n",
        "batch_size = 1000\n",
        "\n",
        "# create Tensor datasets\n",
        "train_data = TensorDataset(torch.from_numpy(np.array(skip_grams_target)), torch.from_numpy(np.array(skip_grams_context)))\n",
        "train_loader = DataLoader(train_data, shuffle=True, batch_size=batch_size, num_workers = 4, pin_memory=True, drop_last=True)"
      ],
      "execution_count": 0,
      "outputs": []
    },
    {
      "cell_type": "markdown",
      "metadata": {
        "id": "qhAgWf_AmbZ8",
        "colab_type": "text"
      },
      "source": [
        "### 2.1.2. Build Word Embeddings Model"
      ]
    },
    {
      "cell_type": "markdown",
      "metadata": {
        "id": "AJ8rU7JbiBVS",
        "colab_type": "text"
      },
      "source": [
        "Here are justifications for the hyperparameter choices:\n",
        ">\n",
        "1. Number of Epoch = 1\n",
        "  * Reason: Our training dataset is too big, even 1 epoch will takes at least a few hours to train (also depends on other hyperparameters). Given the Colab's runtime will be reset after every 12 hours or when the laptop is not active, if I set the number epoch to be greater than 1, it's very likely the Colab runtime will be reset before the training process finish. At that point, I will have to re-train everything again. So even though I believe more epoch here might gives a more accurate results, but I still set it to be 1 here. \n",
        "\n",
        "    In addition, the loss is pretty much converged at end of the first epoch, so marginal benefit from additional epoch would be minimal.   \n",
        "2. Batch Size = 1000\n",
        "  * Reason: Given the large dataset that we are working with, I tried to set the batch size as high as possible to speed up the training process. Due to the RAM constraints on the CPU in Colab, 1000 batch size is roughtly the highest batch size I can set.  \n",
        "\n",
        "3. Window Size = 5\n",
        "  * Reason: Even though the orignal paper word2vec paper from google recommended window size of 10 for skip-gram model, however it will makes the training dataset significantly bigger than window size of 5. Due to the time constraints on this assignmetn, and the runtime & RAM limits on Colab, I decided to go with the window size of 5.  \n",
        "  \n",
        "4. Probability threshold for the sub-sampling frequent words = 1e-3\n",
        "  * Reason: The original word2vec paper by Google recommended 1e-3 to 1e-5 for this hyperparameter. After trying out both 1e-3 and 1e-5, training with 1e-3 lead to a much lower losses compare to training with 1e-5. That might because the probability threshold 1e-5 is too low, which causing too many words being  removed, and thus destoryed the relevance between target words and context words.    \n",
        "  \n",
        "5. Learning Rate = 0.0001\n",
        "  * Reason: After multiple trial and errors, this learning rate = 0.0001 seems to give the lowest and the most stable losses.\n",
        "\n",
        "6. Embedding Size = 100\n",
        "  * Reason: After trying out different embedding sizes (50, 100, 300), I found that there is no signifcant difference in losses between embedding size of 100 and 300, whlist training with embedding size = 100 is signficantly faster. However, dropping the embedding size from 100 to 50 signifcantly increased the losses, which is not desired. Thus, the embedding size was set at 100.  \n",
        "\n",
        "Note that, some of the reasoning above are based on the training losses and trial & errors. Even though I forgot to keep a track of all the results (otherwise I could have visualize them here), I hope explain them as text would makes sense to you. \n",
        "\n",
        "In addition, even though I understand that the losses from training the word embedding may not indicates its effectiveness in the end-application (which is sentiment analysis in this case). However, due to the time constraints, I am unable to run the end-to-end process (training word embedding + training character embedding + sentiment analysis) multiple times to find the best hyperparameter for training the word embedding.   "
      ]
    },
    {
      "cell_type": "code",
      "metadata": {
        "id": "TVPuwWgvNjOU",
        "colab_type": "code",
        "colab": {}
      },
      "source": [
        "import torch\n",
        "import torch.nn as nn\n",
        "import torch.optim as optim\n",
        "from torch.autograd import Variable\n",
        "device = torch.device(\"cuda\" if torch.cuda.is_available() else \"cpu\")\n",
        "\n",
        "#hyperparameters\n",
        "learning_rate = 0.0001\n",
        "embedding_size = 100\n",
        "voc_size = len(vocab_to_int)\n",
        "\n",
        "class SkipGram(nn.Module):\n",
        "    def __init__(self):\n",
        "        super(SkipGram, self).__init__()\n",
        "        self.linear1 = nn.Linear(voc_size, embedding_size,bias=False)\n",
        "        self.linear2 = nn.Linear(embedding_size, voc_size,bias=False)\n",
        "\n",
        "    def forward(self, x):\n",
        "        hidden = self.linear1(x)\n",
        "        out = self.linear2(hidden)\n",
        "        return out\n",
        "\n",
        "skip_gram_model = SkipGram().to(device)\n",
        "criterion = nn.CrossEntropyLoss() #please note we are using \"CrossEntropyLoss\" here\n",
        "optimiser = optim.Adam(skip_gram_model.parameters(), lr=learning_rate)"
      ],
      "execution_count": 0,
      "outputs": []
    },
    {
      "cell_type": "markdown",
      "metadata": {
        "id": "LNys5HOdISK-",
        "colab_type": "text"
      },
      "source": [
        "### 2.1.3. Train Word Embeddings Model"
      ]
    },
    {
      "cell_type": "code",
      "metadata": {
        "id": "Ae8i7Z2kIef-",
        "colab_type": "code",
        "outputId": "afb08ae0-21a6-489c-be4a-356d88265331",
        "colab": {
          "base_uri": "https://localhost:8080/",
          "height": 1000
        }
      },
      "source": [
        "data_len = len(skip_grams_target)\n",
        "epoch_count = 0\n",
        "        \n",
        "for epoch in range(1):\n",
        "     epoch_count += 1  \n",
        "     for batch_idx, (inputs, labels) in enumerate(train_loader):\n",
        "       inputs_torch = to_one_hot(inputs,len(vocab_to_int)).to(device)\n",
        "       labels_torch = labels.to(device)\n",
        "       \n",
        "       skip_gram_model.train()\n",
        "       # zero the parameter gradients\n",
        "       optimiser.zero_grad()\n",
        "\n",
        "       # forward + backward + optimize\n",
        "       outputs = skip_gram_model(inputs_torch)\n",
        "       loss = criterion(outputs, labels_torch) # We don't need to calcualte logsoftmax here\n",
        "       loss.backward()\n",
        "       optimiser.step()\n",
        "       if batch_idx == 0:\n",
        "         print('epoch: %d, loss: %.4f' %(0, loss))\n",
        "       if batch_idx % 1000 == 0:\n",
        "        print(' Iteration: %d, loss: %.4f' %(batch_idx, loss))\n",
        "     print('epoch: %d, loss: %.4f' %(epoch_count, loss))"
      ],
      "execution_count": 0,
      "outputs": [
        {
          "output_type": "stream",
          "text": [
            "epoch: 0, loss: 10.6703\n",
            " Iteration: 0, loss: 10.6703\n",
            " Iteration: 1000, loss: 9.5605\n",
            " Iteration: 2000, loss: 8.1712\n",
            " Iteration: 3000, loss: 7.8316\n",
            " Iteration: 4000, loss: 7.6837\n",
            " Iteration: 5000, loss: 7.7350\n",
            " Iteration: 6000, loss: 7.6231\n",
            " Iteration: 7000, loss: 7.4257\n",
            " Iteration: 8000, loss: 7.5012\n",
            " Iteration: 9000, loss: 7.6593\n",
            " Iteration: 10000, loss: 7.5217\n",
            " Iteration: 11000, loss: 7.6611\n",
            " Iteration: 12000, loss: 7.4782\n",
            " Iteration: 13000, loss: 7.5563\n",
            " Iteration: 14000, loss: 7.4403\n",
            " Iteration: 15000, loss: 7.4649\n",
            " Iteration: 16000, loss: 7.4638\n",
            " Iteration: 17000, loss: 7.4529\n",
            " Iteration: 18000, loss: 7.6235\n",
            " Iteration: 19000, loss: 7.5052\n",
            " Iteration: 20000, loss: 7.3947\n",
            " Iteration: 21000, loss: 7.4397\n",
            " Iteration: 22000, loss: 7.5182\n",
            " Iteration: 23000, loss: 7.4472\n",
            " Iteration: 24000, loss: 7.3619\n",
            " Iteration: 25000, loss: 7.4264\n",
            " Iteration: 26000, loss: 7.4095\n",
            " Iteration: 27000, loss: 7.4824\n",
            " Iteration: 28000, loss: 7.4344\n",
            " Iteration: 29000, loss: 7.2796\n",
            " Iteration: 30000, loss: 7.5384\n",
            " Iteration: 31000, loss: 7.4815\n",
            " Iteration: 32000, loss: 7.5152\n",
            " Iteration: 33000, loss: 7.4510\n",
            " Iteration: 34000, loss: 7.4221\n",
            " Iteration: 35000, loss: 7.4807\n",
            " Iteration: 36000, loss: 7.4058\n",
            " Iteration: 37000, loss: 7.4353\n",
            " Iteration: 38000, loss: 7.4388\n",
            " Iteration: 39000, loss: 7.4621\n",
            " Iteration: 40000, loss: 7.3123\n",
            " Iteration: 41000, loss: 7.4274\n",
            " Iteration: 42000, loss: 7.4653\n",
            " Iteration: 43000, loss: 7.4638\n",
            " Iteration: 44000, loss: 7.3436\n",
            " Iteration: 45000, loss: 7.5106\n",
            " Iteration: 46000, loss: 7.3692\n",
            " Iteration: 47000, loss: 7.3627\n",
            " Iteration: 48000, loss: 7.5108\n",
            " Iteration: 49000, loss: 7.5998\n",
            " Iteration: 50000, loss: 7.3952\n",
            " Iteration: 51000, loss: 7.4839\n",
            " Iteration: 52000, loss: 7.3538\n",
            " Iteration: 53000, loss: 7.3775\n",
            " Iteration: 54000, loss: 7.2694\n",
            " Iteration: 55000, loss: 7.4415\n",
            " Iteration: 56000, loss: 7.4205\n",
            " Iteration: 57000, loss: 7.5476\n",
            " Iteration: 58000, loss: 7.3872\n",
            " Iteration: 59000, loss: 7.3225\n",
            " Iteration: 60000, loss: 7.4548\n",
            " Iteration: 61000, loss: 7.3260\n",
            " Iteration: 62000, loss: 7.4028\n",
            " Iteration: 63000, loss: 7.2466\n",
            " Iteration: 64000, loss: 7.2553\n",
            " Iteration: 65000, loss: 7.4693\n",
            " Iteration: 66000, loss: 7.3398\n",
            " Iteration: 67000, loss: 7.4345\n",
            " Iteration: 68000, loss: 7.6511\n",
            " Iteration: 69000, loss: 7.3621\n",
            " Iteration: 70000, loss: 7.3260\n",
            " Iteration: 71000, loss: 7.2788\n",
            " Iteration: 72000, loss: 7.4427\n",
            " Iteration: 73000, loss: 7.3177\n",
            " Iteration: 74000, loss: 7.3841\n",
            " Iteration: 75000, loss: 7.4843\n",
            " Iteration: 76000, loss: 7.3387\n",
            " Iteration: 77000, loss: 7.3165\n",
            " Iteration: 78000, loss: 7.3312\n",
            "epoch: 1, loss: 7.5048\n"
          ],
          "name": "stdout"
        }
      ]
    },
    {
      "cell_type": "markdown",
      "metadata": {
        "colab_type": "text",
        "id": "3uICZ7LzoG1_"
      },
      "source": [
        "### 2.1.4. Save Word Embeddings Model"
      ]
    },
    {
      "cell_type": "code",
      "metadata": {
        "id": "FLIrJeMR8oS9",
        "colab_type": "code",
        "outputId": "040c18b4-5ba0-4f5e-af5c-75a9fc16cbf4",
        "colab": {
          "base_uri": "https://localhost:8080/",
          "height": 71
        }
      },
      "source": [
        "torch.save(skip_gram_model, '/content/drive/My Drive/word_embedding.pt')"
      ],
      "execution_count": 0,
      "outputs": [
        {
          "output_type": "stream",
          "text": [
            "/usr/local/lib/python3.6/dist-packages/torch/serialization.py:360: UserWarning: Couldn't retrieve source code for container of type SkipGram. It won't be checked for correctness upon loading.\n",
            "  \"type \" + obj.__name__ + \". It won't be checked \"\n"
          ],
          "name": "stderr"
        }
      ]
    },
    {
      "cell_type": "markdown",
      "metadata": {
        "id": "Yn16xrDrIs8B",
        "colab_type": "text"
      },
      "source": [
        "### 2.1.5. Load Word Embeddings Model"
      ]
    },
    {
      "cell_type": "code",
      "metadata": {
        "id": "-IebpYFsIvgh",
        "colab_type": "code",
        "colab": {}
      },
      "source": [
        "####################################\n",
        "######## Run This Cell #########\n",
        "####################################\n",
        "\n",
        "import torch\n",
        "import torch.nn as nn\n",
        "import torch.optim as optim\n",
        "from torch.autograd import Variable \n",
        "\n",
        "class SkipGram(nn.Module):\n",
        "    def __init__(self):\n",
        "        super(SkipGram, self).__init__()\n",
        "        self.linear1 = nn.Linear(voc_size, embedding_size,bias=False)\n",
        "        self.linear2 = nn.Linear(embedding_size, voc_size,bias=False)\n",
        "\n",
        "    def forward(self, x):\n",
        "        hidden = self.linear1(x)\n",
        "        out = self.linear2(hidden)\n",
        "        return out\n",
        "\n",
        "id = '1Pv9s7gmJxllyF6zN7aX8il8k3JmQjRWA'\n",
        "downloaded = drive.CreateFile({'id':id}) \n",
        "downloaded.GetContentFile('word_embedding.pt')\n",
        "\n",
        "skip_gram_model_load = torch.load('word_embedding.pt')\n",
        "weight1 = skip_gram_model_load.linear1.weight.data\n",
        "trained_embeddings = weight1.detach().cpu().T.numpy()"
      ],
      "execution_count": 0,
      "outputs": []
    },
    {
      "cell_type": "markdown",
      "metadata": {
        "colab_type": "text",
        "id": "T0ap96aeGlIk"
      },
      "source": [
        "## 2.2. Character Embeddings"
      ]
    },
    {
      "cell_type": "markdown",
      "metadata": {
        "colab_type": "text",
        "id": "d16v3oKaGlI0"
      },
      "source": [
        "### 2.2.1. Data Preprocessing for Character Embeddings"
      ]
    },
    {
      "cell_type": "markdown",
      "metadata": {
        "colab_type": "text",
        "id": "AKbLnN-3GlI1"
      },
      "source": [
        "most of the pre-process works have already been done in the previous sessions.\n",
        "So the only pre-processing work that we will be doing for training our character embedding is padding.\n",
        "\n",
        "As we can see, the longest words in our dictonary has 20 characters, hence we will be pad all the inputs to character embedding to have a length of 20."
      ]
    },
    {
      "cell_type": "code",
      "metadata": {
        "colab_type": "code",
        "id": "i2CUCL1cGlI2",
        "outputId": "f36eda5a-98eb-45b5-99fc-479e980a3b4c",
        "colab": {
          "base_uri": "https://localhost:8080/",
          "height": 34
        }
      },
      "source": [
        "####################################\n",
        "######## Run This Cell #########\n",
        "####################################\n",
        "\n",
        "#Assume that we have the following character instances\n",
        "char_arr = ['a', 'b', 'c', 'd', 'e', 'f', 'g',\n",
        "            'h', 'i', 'j', 'k', 'l', 'm', 'n',\n",
        "\n",
        "            'o', 'p', 'q', 'r', 's', 't', 'u',\n",
        "            'v', 'w', 'x', 'y', 'z','pad']\n",
        "\n",
        "# one-hot encoding and decoding \n",
        "# {'a': 0, 'b': 1, 'c': 2, ..., 'j': 9, 'k', 10, ...}\n",
        "num_dic = {n: i for i, n in enumerate(char_arr)}\n",
        "dic_len = len(num_dic)\n",
        "\n",
        "word_len = {}\n",
        "\n",
        "list_words = list(vocab_to_int.keys())\n",
        "for i in range(len(list_words)):\n",
        "  char_tmp = [num_dic[n] for n in list_words[i]]\n",
        "  word_len[list_words[i]] = len(char_tmp) \n",
        "word_len = {k: v for k, v in sorted(word_len.items(), key=lambda item: item[1],reverse=True)}\n",
        "max_word_len = list(word_len.items())[0][1]\n",
        "print(max_word_len)"
      ],
      "execution_count": 8,
      "outputs": [
        {
          "output_type": "stream",
          "text": [
            "20\n"
          ],
          "name": "stdout"
        }
      ]
    },
    {
      "cell_type": "code",
      "metadata": {
        "id": "6DO-dRf7AMoM",
        "colab_type": "code",
        "outputId": "75c8600c-d1a2-467e-b756-a47abba7d3d3",
        "colab": {
          "base_uri": "https://localhost:8080/",
          "height": 34
        }
      },
      "source": [
        "# Make a batch to have sequence data for input and ouput\n",
        "def make_batch(seq_data):\n",
        "    input_batch = []\n",
        "    target_batch = []\n",
        "    \n",
        "    for seq in seq_data:\n",
        "        input_data = list([num_dic[n] for n in seq])\n",
        "        for i in range(max_word_len - len(input_data)):\n",
        "          input_data.append(26) \n",
        "        target = trained_embeddings[vocab_to_int[seq]]\n",
        "        \n",
        "        input_batch.append(input_data)      \n",
        "        target_batch.append(target)\n",
        "\n",
        "    return input_batch, target_batch\n",
        "\n",
        "# Preparing input\n",
        "input_batch, target_batch = make_batch(all_words)\n",
        "# Convert input into tensors and move them to GPU by uting tensor.to(device)\n",
        "print(len(input_batch))"
      ],
      "execution_count": 8,
      "outputs": [
        {
          "output_type": "stream",
          "text": [
            "11385282\n"
          ],
          "name": "stdout"
        }
      ]
    },
    {
      "cell_type": "markdown",
      "metadata": {
        "colab_type": "text",
        "id": "zgiOPcsTGlI6"
      },
      "source": [
        "### 2.2.2. Build Character Embeddings Model"
      ]
    },
    {
      "cell_type": "markdown",
      "metadata": {
        "colab_type": "text",
        "id": "4NtqFFcjGlI7"
      },
      "source": [
        "Here are justifications for the hyperparameter choices:\n",
        ">\n",
        "1. Number of Epoch = 30\n",
        "  * Reason: Based on trial and errors, the losses will be converged after 30 epoch.   \n",
        "\n",
        "2. Batch Size = 1000\n",
        "  * Reason: Given the large dataset that we are working with, I tried to set the batch size as high as possible to speed up the training process. Due to the RAM constraints on the CPU in Colab, 1000 batch size is roughtly the highest batch size I can set.    \n",
        "  \n",
        "3. Learning Rate = 0.0001\n",
        "  * Reason: After multiple trial and errors, this learning rate gives the lowest and the most stable losses.\n",
        "\n",
        "6. Embedding Size = 100\n",
        "  * Reason: After trying out different embedding sizes, I found that there is no signifcant difference in losses between embedding size of 100 and 300, whlist training with embedding size = 100 is signficantly faster. However, dropping the embedding size from 100 to 50 signifcantly increased the losses, which is not desired. Thus, the embedding size was set at 100.  \n",
        "\n",
        "Note that, even though I understand that the losses from training the word embedding may not indicates its effectiveness in the end-application (which is sentiment analysis in this case). However, due to the time constraints, I am unable to run the end-to-end process (training word embedding + training character embedding + sentiment analysis) multiple times to find the best hyperparameter for training the character embedding.   "
      ]
    },
    {
      "cell_type": "code",
      "metadata": {
        "id": "CGzXW6CCXZ_c",
        "colab_type": "code",
        "colab": {}
      },
      "source": [
        "### Setting hyperparameters\n",
        "learning_rate = 0.0001\n",
        "n_hidden = 128\n",
        "total_epoch = 50\n",
        "batch_size = 1000\n",
        "n_layers = 2\n",
        "# number of inputs (dimension of input vector) = 27\n",
        "n_input = dic_len\n",
        "word_embedding_size = trained_embeddings.shape[1]"
      ],
      "execution_count": 0,
      "outputs": []
    },
    {
      "cell_type": "code",
      "metadata": {
        "colab_type": "code",
        "id": "jj3YZ3PWGlI8",
        "colab": {}
      },
      "source": [
        "import torch.nn as nn\n",
        "import torch.optim as optim\n",
        "from sklearn.metrics import accuracy_score\n",
        "device = 'cuda'\n",
        "class Net(nn.Module):\n",
        "    def __init__(self):\n",
        "        super(Net, self).__init__()\n",
        "        self.lstm = nn.LSTM(n_input, n_hidden,num_layers = n_layers, batch_first =True,bidirectional=True)\n",
        "        self.linear = nn.Linear(n_hidden * 2,word_embedding_size)\n",
        "\n",
        "    def forward(self, x):\n",
        "        x,(h_n,_) = self.lstm(x)\n",
        "        #concat the last hidden state from two direction\n",
        "        hidden_out =torch.cat((h_n.view(n_layers,2,-1,n_hidden)[1,0,:,:],h_n.view(n_layers,2,-1,n_hidden)[1,1,:,:]),1)\n",
        "        x = self.linear(hidden_out)\n",
        "        return x, hidden_out\n",
        "\n",
        "# Move the model to GPU\n",
        "net = Net().to(device)\n",
        "# Loss function and optimizer\n",
        "criterion = nn.MSELoss()\n",
        "optimizer = optim.Adam(net.parameters(), lr=learning_rate)"
      ],
      "execution_count": 0,
      "outputs": []
    },
    {
      "cell_type": "markdown",
      "metadata": {
        "colab_type": "text",
        "id": "46W0zFfWGlI_"
      },
      "source": [
        "### 2.1.4. Train Character Embeddings Model"
      ]
    },
    {
      "cell_type": "code",
      "metadata": {
        "id": "yJSso4qTW-Q5",
        "colab_type": "code",
        "colab": {}
      },
      "source": [
        "import torch\n",
        "from torch.utils.data import TensorDataset, DataLoader\n",
        "\n",
        "# create Tensor datasets\n",
        "train_char_data = TensorDataset(torch.from_numpy(np.array(input_batch)), torch.from_numpy(np.array(target_batch)))\n",
        "train_char_loader = DataLoader(train_char_data, shuffle=True, batch_size=batch_size, num_workers = 4, pin_memory=True)"
      ],
      "execution_count": 0,
      "outputs": []
    },
    {
      "cell_type": "code",
      "metadata": {
        "id": "v_yvdYBCBXBn",
        "colab_type": "code",
        "outputId": "9f2d6f63-697a-4574-9cc3-5f7eb7e661ba",
        "colab": {
          "base_uri": "https://localhost:8080/",
          "height": 894
        }
      },
      "source": [
        "epoch_count = 0\n",
        "        \n",
        "for epoch in range(total_epoch):\n",
        "     epoch_count += 1  \n",
        "     for batch_idx, (inputs, labels) in enumerate(train_char_loader):\n",
        "       inputs_torch = to_one_hot(inputs,dic_len).to(device)\n",
        "       labels_torch = labels.to(device)\n",
        "       \n",
        "       net.train()\n",
        "       # zero the parameter gradients\n",
        "       optimizer.zero_grad()\n",
        "\n",
        "       # forward + backward + optimize\n",
        "       outputs,_ = net(inputs_torch)\n",
        "       loss = criterion(outputs, labels_torch)\n",
        "       loss.backward()\n",
        "       optimizer.step()\n",
        "       if epoch_count == 1 and batch_idx == 0:\n",
        "         print('epoch: %d, loss: %.7f' %(0, loss))\n",
        "     print('epoch: %d, loss: %.7f' %(epoch_count, loss))"
      ],
      "execution_count": 0,
      "outputs": [
        {
          "output_type": "stream",
          "text": [
            "epoch: 0, loss: 0.0199098\n",
            "epoch: 1, loss: 0.0012489\n",
            "epoch: 2, loss: 0.0006878\n",
            "epoch: 3, loss: 0.0004288\n",
            "epoch: 4, loss: 0.0003632\n",
            "epoch: 5, loss: 0.0002016\n",
            "epoch: 6, loss: 0.0001986\n",
            "epoch: 7, loss: 0.0001720\n",
            "epoch: 8, loss: 0.0001560\n",
            "epoch: 9, loss: 0.0001180\n",
            "epoch: 10, loss: 0.0001096\n",
            "epoch: 11, loss: 0.0001536\n",
            "epoch: 12, loss: 0.0001326\n",
            "epoch: 13, loss: 0.0001496\n",
            "epoch: 14, loss: 0.0001168\n",
            "epoch: 15, loss: 0.0001258\n",
            "epoch: 16, loss: 0.0000939\n",
            "epoch: 17, loss: 0.0000809\n",
            "epoch: 18, loss: 0.0000928\n",
            "epoch: 19, loss: 0.0000878\n",
            "epoch: 20, loss: 0.0001030\n",
            "epoch: 21, loss: 0.0000928\n",
            "epoch: 22, loss: 0.0000599\n",
            "epoch: 23, loss: 0.0000672\n",
            "epoch: 24, loss: 0.0000611\n",
            "epoch: 25, loss: 0.0001030\n",
            "epoch: 26, loss: 0.0000595\n",
            "epoch: 27, loss: 0.0000538\n",
            "epoch: 28, loss: 0.0000532\n",
            "epoch: 29, loss: 0.0000659\n",
            "epoch: 30, loss: 0.0000421\n",
            "epoch: 31, loss: 0.0000659\n",
            "epoch: 32, loss: 0.0000564\n",
            "epoch: 33, loss: 0.0000472\n",
            "epoch: 34, loss: 0.0000962\n",
            "epoch: 35, loss: 0.0000305\n",
            "epoch: 36, loss: 0.0000675\n",
            "epoch: 37, loss: 0.0000339\n",
            "epoch: 38, loss: 0.0000477\n",
            "epoch: 39, loss: 0.0000333\n",
            "epoch: 40, loss: 0.0000777\n",
            "epoch: 41, loss: 0.0000435\n",
            "epoch: 42, loss: 0.0000430\n",
            "epoch: 43, loss: 0.0000334\n",
            "epoch: 44, loss: 0.0000347\n",
            "epoch: 45, loss: 0.0000370\n",
            "epoch: 46, loss: 0.0000391\n",
            "epoch: 47, loss: 0.0000786\n",
            "epoch: 48, loss: 0.0000386\n",
            "epoch: 49, loss: 0.0000362\n",
            "epoch: 50, loss: 0.0000624\n"
          ],
          "name": "stdout"
        }
      ]
    },
    {
      "cell_type": "markdown",
      "metadata": {
        "colab_type": "text",
        "id": "R5Bym9bBGlJE"
      },
      "source": [
        "### 2.1.5. Save Character Embeddings Model"
      ]
    },
    {
      "cell_type": "code",
      "metadata": {
        "colab_type": "code",
        "id": "ggTsYIm7GlJF",
        "outputId": "a1b6ab0d-ce22-44e7-ad39-98c706671c05",
        "colab": {
          "base_uri": "https://localhost:8080/",
          "height": 71
        }
      },
      "source": [
        "torch.save(net, '/content/drive/My Drive/character_embedding.pt')"
      ],
      "execution_count": 0,
      "outputs": [
        {
          "output_type": "stream",
          "text": [
            "/usr/local/lib/python3.6/dist-packages/torch/serialization.py:360: UserWarning: Couldn't retrieve source code for container of type Net. It won't be checked for correctness upon loading.\n",
            "  \"type \" + obj.__name__ + \". It won't be checked \"\n"
          ],
          "name": "stderr"
        }
      ]
    },
    {
      "cell_type": "markdown",
      "metadata": {
        "colab_type": "text",
        "id": "JwOI-wIKGlJI"
      },
      "source": [
        "### 2.1.6. Load Character Embeddings Model"
      ]
    },
    {
      "cell_type": "code",
      "metadata": {
        "id": "4-jyj-lOHWWj",
        "colab_type": "code",
        "colab": {}
      },
      "source": [
        "####################################\n",
        "######## Run This Cell #########\n",
        "####################################\n",
        "\n",
        "import torch\n",
        "import torch.nn as nn\n",
        "import torch.optim as optim\n",
        "from sklearn.metrics import accuracy_score\n",
        "from torch.autograd import Variable \n",
        "\n",
        "### Setting hyperparameters\n",
        "learning_rate = 0.0001\n",
        "n_hidden = 128\n",
        "total_epoch = 50\n",
        "batch_size = 1000\n",
        "n_layers = 2\n",
        "# number of inputs (dimension of input vector) = 27\n",
        "n_input = dic_len\n",
        "word_embedding_size = trained_embeddings.shape[1]\n",
        "\n",
        "class Net(nn.Module):\n",
        "    def __init__(self):\n",
        "        super(Net, self).__init__()\n",
        "        self.lstm = nn.LSTM(n_input, n_hidden,num_layers = n_layers, batch_first =True,bidirectional=True)\n",
        "        self.linear = nn.Linear(n_hidden * 2,word_embedding_size)\n",
        "\n",
        "    def forward(self, x):\n",
        "        x,(h_n,_) = self.lstm(x)\n",
        "        #concat the last hidden state from two direction\n",
        "        hidden_out =torch.cat((h_n.view(n_layers,2,-1,n_hidden)[1,0,:,:],h_n.view(n_layers,2,-1,n_hidden)[1,1,:,:]),1)\n",
        "        x = self.linear(hidden_out)\n",
        "        return x, hidden_out\n",
        "\n",
        "id = '1MXa9Le0F1Y39kJNL5kcoYhuXzAgai4Wb'\n",
        "downloaded = drive.CreateFile({'id':id}) \n",
        "downloaded.GetContentFile('character_embedding.pt')\n",
        "\n",
        "net_load = torch.load('character_embedding.pt')"
      ],
      "execution_count": 0,
      "outputs": []
    },
    {
      "cell_type": "markdown",
      "metadata": {
        "id": "tlCeWT8eeLnd",
        "colab_type": "text"
      },
      "source": [
        "## 2.3. Sequence model"
      ]
    },
    {
      "cell_type": "markdown",
      "metadata": {
        "id": "fwA-NN3EJ4Ig",
        "colab_type": "text"
      },
      "source": [
        "### 2.3.1. Apply/Import Word Embedding and Character Embedding Model"
      ]
    },
    {
      "cell_type": "markdown",
      "metadata": {
        "id": "UAMJrxx-iOVn",
        "colab_type": "text"
      },
      "source": [
        "Following steps were taken in this session:\n",
        ">\n",
        "1. Numeric encoding the training and test lables.('pos' -> 1, 'neg' -> 2)\n",
        "\n",
        "2. Adding a token to represent the paddings ('padword') to out dictionary. \n",
        "  \n",
        "3. Create the corresponding word & character embeddings for 'padword' (zeros)\n",
        "\n",
        "4. Decide the max length for our reviews.\n",
        "  * Set maximum length of the review to be 1027, which is the 60th percentile in terms of review length. The argument is that review length increased at a significantly faster rate after 60th percentile, so I think that would be a natural cut-off.\n",
        "\n",
        "5. Finally, we created the data batches for training and testing. The batch size was set to 100 purely based on concern about the RAM limit.  "
      ]
    },
    {
      "cell_type": "code",
      "metadata": {
        "id": "g7PKX1gIePA2",
        "colab_type": "code",
        "outputId": "f6349592-0c75-4095-efff-9cb4397030f8",
        "colab": {
          "base_uri": "https://localhost:8080/",
          "height": 51
        }
      },
      "source": [
        "####################################\n",
        "######## Run This Cell #########\n",
        "####################################\n",
        "\n",
        "# 1=positive, 0=negative label conversion\n",
        "\n",
        "sentiments_train_int = np.array([1 if sentiment == 'pos' else 0 for sentiment in sentiments_train])\n",
        "sentiments_test_int = np.array([1 if sentiment == 'pos' else 0 for sentiment in sentiments_test])\n",
        "\n",
        "print(len(reviews_train))\n",
        "print(len(sentiments_train_int))"
      ],
      "execution_count": 10,
      "outputs": [
        {
          "output_type": "stream",
          "text": [
            "25000\n",
            "25000\n"
          ],
          "name": "stdout"
        }
      ]
    },
    {
      "cell_type": "code",
      "metadata": {
        "id": "pf0sJ_opxruf",
        "colab_type": "code",
        "colab": {}
      },
      "source": [
        "####################################\n",
        "######## Run This Cell #########\n",
        "####################################\n",
        "\n",
        "# Add \"padword\" to existing dictionary\n",
        "vocab_to_int.update({'padword':len(vocab)})\n",
        "vocab.append(\"padword\")"
      ],
      "execution_count": 0,
      "outputs": []
    },
    {
      "cell_type": "code",
      "metadata": {
        "id": "MfnLdBX_wXLN",
        "colab_type": "code",
        "colab": {
          "base_uri": "https://localhost:8080/",
          "height": 34
        },
        "outputId": "77152cbe-e17a-4eb8-e8dc-0064c27eba83"
      },
      "source": [
        "print(len(vocab))"
      ],
      "execution_count": 17,
      "outputs": [
        {
          "output_type": "stream",
          "text": [
            "43055\n"
          ],
          "name": "stdout"
        }
      ]
    },
    {
      "cell_type": "code",
      "metadata": {
        "id": "xeFmyvfX1MnQ",
        "colab_type": "code",
        "outputId": "2dd80505-722d-476b-ba8d-24868b0b4564",
        "colab": {
          "base_uri": "https://localhost:8080/",
          "height": 137
        }
      },
      "source": [
        "####################################\n",
        "######## Run This Cell #########\n",
        "####################################\n",
        "\n",
        "# Add \"padword\"'s corresponding word embedding\n",
        "trained_word_embeddings = np.vstack((trained_embeddings,np.zeros(100))) \n",
        "print(trained_embeddings.shape)\n",
        "print(trained_word_embeddings.shape)\n",
        "print(trained_word_embeddings[trained_word_embeddings.shape[0]-1])"
      ],
      "execution_count": 12,
      "outputs": [
        {
          "output_type": "stream",
          "text": [
            "(43054, 100)\n",
            "(43055, 100)\n",
            "[0. 0. 0. 0. 0. 0. 0. 0. 0. 0. 0. 0. 0. 0. 0. 0. 0. 0. 0. 0. 0. 0. 0. 0.\n",
            " 0. 0. 0. 0. 0. 0. 0. 0. 0. 0. 0. 0. 0. 0. 0. 0. 0. 0. 0. 0. 0. 0. 0. 0.\n",
            " 0. 0. 0. 0. 0. 0. 0. 0. 0. 0. 0. 0. 0. 0. 0. 0. 0. 0. 0. 0. 0. 0. 0. 0.\n",
            " 0. 0. 0. 0. 0. 0. 0. 0. 0. 0. 0. 0. 0. 0. 0. 0. 0. 0. 0. 0. 0. 0. 0. 0.\n",
            " 0. 0. 0. 0.]\n"
          ],
          "name": "stdout"
        }
      ]
    },
    {
      "cell_type": "code",
      "metadata": {
        "colab_type": "code",
        "id": "avIYeHhSwQdD",
        "colab": {}
      },
      "source": [
        "####################################\n",
        "######## Run This Cell #########\n",
        "####################################\n",
        "\n",
        "def vocab_to_character_embeddings(voc_cab):\n",
        "    trained_character_embeddings = []    \n",
        "    for w in voc_cab:\n",
        "      if w != 'padword':\n",
        "        input_data = list([num_dic[n] for n in w])\n",
        "        for i in range(max_word_len - len(input_data)):\n",
        "          input_data.append(26)\n",
        "        input_onehot = to_one_hot(torch.from_numpy(np.array(input_data)),27).view(1,20,27).to('cuda')\n",
        "        _,hidden_output = net_load(input_onehot)\n",
        "        trained_character_embeddings.append(hidden_output.view(-1).detach().cpu().numpy())\n",
        "      else:\n",
        "        trained_character_embeddings.append(np.zeros((256)))\n",
        "\n",
        "    return np.array(trained_character_embeddings)\n",
        "\n",
        "trained_character_embeddings = vocab_to_character_embeddings(vocab)"
      ],
      "execution_count": 0,
      "outputs": []
    },
    {
      "cell_type": "code",
      "metadata": {
        "id": "ZI3cP0aRiqSF",
        "colab_type": "code",
        "outputId": "d3798696-cb08-431b-fb29-94c491f464f1",
        "colab": {
          "base_uri": "https://localhost:8080/",
          "height": 69
        }
      },
      "source": [
        "print(trained_character_embeddings.shape)\n",
        "print(len(trained_character_embeddings))\n",
        "print(len(vocab))"
      ],
      "execution_count": 20,
      "outputs": [
        {
          "output_type": "stream",
          "text": [
            "(43055, 256)\n",
            "43055\n",
            "43055\n"
          ],
          "name": "stdout"
        }
      ]
    },
    {
      "cell_type": "code",
      "metadata": {
        "id": "y6VTRX3Ht-D1",
        "colab_type": "code",
        "colab": {
          "base_uri": "https://localhost:8080/",
          "height": 282
        },
        "outputId": "89b49d20-d8de-4cfd-ecfd-0440c18e5a3e"
      },
      "source": [
        "####################################\n",
        "######## Run This Cell #########\n",
        "####################################\n",
        "\n",
        "import matplotlib\n",
        "\n",
        "len1 = []\n",
        "for r in reviews:\n",
        "  len1.append(len(r)) \n",
        "\n",
        "len2 =[]\n",
        "\n",
        "for i in [0,10,20,30,40,50,60,70,80,90,95]:\n",
        "  len2.append(int(np.percentile(np.array(len1),i)))\n",
        "  matplotlib.pyplot.plot(len2)\n",
        "\n",
        "# Before 60th percentile, between 20th and 60th percentile, the rate of increase in length is a linear relationship\n",
        "# After 60th percentile, the length of the reviews increase at an exponential rate\n",
        "# Thus, it seems to be a natural cut-off, and we will use the 60th percentile as the max length for all the reviews,\n",
        "\n",
        "max_review_len = int(np.percentile(np.array(len1),60))\n",
        "print(max_review_len)"
      ],
      "execution_count": 14,
      "outputs": [
        {
          "output_type": "stream",
          "text": [
            "1027\n"
          ],
          "name": "stdout"
        },
        {
          "output_type": "display_data",
          "data": {
            "image/png": "[encoded data removed]",
            "text/plain": [
              "<Figure size 432x288 with 1 Axes>"
            ]
          },
          "metadata": {
            "tags": [],
            "needs_background": "light"
          }
        }
      ]
    },
    {
      "cell_type": "code",
      "metadata": {
        "id": "H_vx1FnRBQLr",
        "colab_type": "code",
        "outputId": "301faaa6-9bc8-42e7-c486-cfe09d355919",
        "colab": {
          "base_uri": "https://localhost:8080/",
          "height": 51
        }
      },
      "source": [
        "####################################\n",
        "######## Run This Cell #########\n",
        "####################################\n",
        "\n",
        "# Make a batch to have sequence data for input and ouput\n",
        "import nltk\n",
        "nltk.download('punkt')\n",
        "  \n",
        "from nltk.tokenize import word_tokenize\n",
        "\n",
        "def data_prep_sentiment(reviews,sentiments):\n",
        "    x_train = []\n",
        "    y_train = []\n",
        "    count = -1\n",
        "    for r in reviews:\n",
        "      count+=1\n",
        "      words = []\n",
        "      if len(word_tokenize(r)) < max_review_len:\n",
        "        for i in range(max_review_len - len(word_tokenize(r))):\n",
        "            words.append(vocab_to_int[\"padword\"]) \n",
        "        for w in word_tokenize(r):\n",
        "            word = vocab_to_int[w]\n",
        "            words.append(word)\n",
        "      else:\n",
        "        r_temp = word_tokenize(r)\n",
        "        for i in range(max_review_len):\n",
        "            word = vocab_to_int[r_temp[i]]\n",
        "            words.append(word)\n",
        "        \n",
        "      x_train.append(words)\n",
        "      y_train.append(sentiments[count])\n",
        "\n",
        "    return x_train, y_train\n",
        "\n",
        "# Preparing input\n",
        "x_train, y_train = data_prep_sentiment(reviews_train,sentiments_train_int)\n",
        "x_test, y_test = data_prep_sentiment(reviews_test,sentiments_test_int)"
      ],
      "execution_count": 15,
      "outputs": [
        {
          "output_type": "stream",
          "text": [
            "[nltk_data] Downloading package punkt to /root/nltk_data...\n",
            "[nltk_data]   Unzipping tokenizers/punkt.zip.\n"
          ],
          "name": "stdout"
        }
      ]
    },
    {
      "cell_type": "code",
      "metadata": {
        "id": "k0P25tIn5gip",
        "colab_type": "code",
        "outputId": "7aabf419-16ae-4619-95b4-6431e886c9d6",
        "colab": {
          "base_uri": "https://localhost:8080/",
          "height": 51
        }
      },
      "source": [
        "print(trained_character_embeddings.shape)\n",
        "print(trained_word_embeddings.shape)"
      ],
      "execution_count": 210,
      "outputs": [
        {
          "output_type": "stream",
          "text": [
            "(43055, 256)\n",
            "(43055, 100)\n"
          ],
          "name": "stdout"
        }
      ]
    },
    {
      "cell_type": "code",
      "metadata": {
        "id": "d3oyartpIqPF",
        "colab_type": "code",
        "colab": {}
      },
      "source": [
        "####################################\n",
        "######## Run This Cell #########\n",
        "####################################\n",
        "\n",
        "# create Tensor datasets\n",
        "import torch\n",
        "from torch.utils.data import TensorDataset, DataLoader\n",
        "batch_size = 100\n",
        "\n",
        "all_sequence_data = TensorDataset(torch.from_numpy(np.array(x_train)),torch.from_numpy(np.array(y_train)),torch.from_numpy(np.array(x_test)),torch.from_numpy(np.array(y_test))) \n",
        "all_sequence_loader = DataLoader(all_sequence_data, batch_size=batch_size, num_workers = 4, pin_memory=True)"
      ],
      "execution_count": 0,
      "outputs": []
    },
    {
      "cell_type": "markdown",
      "metadata": {
        "id": "DpYCL17JKZxl",
        "colab_type": "text"
      },
      "source": [
        "### 2.3.2. Build Sequence Model"
      ]
    },
    {
      "cell_type": "markdown",
      "metadata": {
        "id": "R204UIyDKhZ4",
        "colab_type": "text"
      },
      "source": [
        "Here are justifications for the hyperparameter choices:\n",
        ">\n",
        "1. Total Number of Epoch = 25\n",
        "  * Reason: Based on the trial and error, I found that optimal accuracy was achieved at after 20th epoch, but I would like to show that the model will overfit if we keep on training after epoch 20, so I set the total number of epoch to be 25.\n",
        "\n",
        "2. Batch Size = 100\n",
        "  * Reason: Based on trial and errors, this batch size is the sweet spot which gives a stable decrease in losses after each epoch, while it does not seem to be too slow to train, and finally this batch size will not cause the RAM and GPU memory usage to exceeds Colab's limit.\n",
        "  \n",
        "3. Learning Rate = 0.001\n",
        "  * Reason: This is purely based on trial and errors.\n",
        "\n",
        "4. Number of neuron in the LSTM = 128\n",
        "  * Reason: Purely based on trial and errors, the GPU memory limits were also being considered there. If this parameter is too big, the GPU won't have enough memory to construct the model.\n",
        "\n",
        "5. Probability of dropout = 0.05\n",
        "  * Reason: Purely based on trial and errors, I have tried 0.2 before as well, but it would cause the model to under-fit.\n",
        "\n",
        "Overall network architecture is very simple due to the memory constraints of the GPU and to save runtime. I believe a bigger or more complex model with higher maximum review length will probably lead to a higher F1 score, however, I ran out of time to test them."
      ]
    },
    {
      "cell_type": "code",
      "metadata": {
        "id": "G6GuZAznGDpu",
        "colab_type": "code",
        "colab": {}
      },
      "source": [
        "####################################\n",
        "######## Run This Cell #########\n",
        "####################################\n",
        "\n",
        "import numpy as np\n",
        "import torch.optim as optim\n",
        "import torch.nn as nn\n",
        "import torch.nn.functional as F\n",
        "\n",
        "# Please assign values to these variables by using other variables (instead of hard code)\n",
        "n_input = trained_word_embeddings.shape[1] + trained_character_embeddings.shape[1]\n",
        "\n",
        "#Please decide the hyperparameters here by yourself\n",
        "n_hidden = 128\n",
        "total_epoch = 20\n",
        "learning_rate = 0.001\n",
        "shown_interval = 1\n",
        "\n",
        "class Sentiment_Model(nn.Module):\n",
        "    def __init__(self):\n",
        "        super(Sentiment_Model, self).__init__()\n",
        "        self.lstm = nn.LSTM(n_input, n_hidden, num_layers=1, batch_first =True, bidirectional=True)\n",
        "        self.linear = nn.Linear(n_hidden * 2,1)\n",
        "        self.dropout = nn.Dropout(0.05)\n",
        "        self.sigmoid = nn.Sigmoid() \n",
        "        \n",
        "\n",
        "    def forward(self, x):\n",
        "        x,_ = self.lstm(x)\n",
        "        x = self.linear(x[:,-1,:])\n",
        "        x = self.dropout(x) \n",
        "        x = self.sigmoid(x)\n",
        "        return x"
      ],
      "execution_count": 0,
      "outputs": []
    },
    {
      "cell_type": "markdown",
      "metadata": {
        "id": "6BaOiaGRLW7R",
        "colab_type": "text"
      },
      "source": [
        "### 2.3.3. Train Sequence Model"
      ]
    },
    {
      "cell_type": "code",
      "metadata": {
        "id": "8-8Zm7tBJQb9",
        "colab_type": "code",
        "colab": {
          "base_uri": "https://localhost:8080/",
          "height": 378
        },
        "outputId": "e6766c18-4421-4ece-e809-3726a559387d"
      },
      "source": [
        "from sklearn.metrics import f1_score\n",
        "\n",
        "device = 'cuda'\n",
        "Sentiment_Model = Sentiment_Model().to(device)\n",
        "criterion = nn.BCELoss()\n",
        "\n",
        "# Please find which optimizer provide higher f1\n",
        "optimizer = optim.Adam(Sentiment_Model.parameters(), lr=learning_rate) \n",
        "\n",
        "f1_list_train = []\n",
        "f1_list_test = []\n",
        "\n",
        "for epoch in range(total_epoch):\n",
        "    predictions_train = [] \n",
        "    predictions_test = []\n",
        "\n",
        "    for batch_idx, (inputs, labels, inputs_test, labels_test) in enumerate(all_sequence_loader):      \n",
        "      reviews_embeddings = []\n",
        "      \n",
        "      for r in inputs:\n",
        "        inputs_embedding = []\n",
        "        \n",
        "        for w in r:\n",
        "          trained_word_embedding = trained_word_embeddings[w].reshape(1,-1)\n",
        "          trained_character_embedding = trained_character_embeddings[w].reshape(1,-1)\n",
        "          inputs_embedding_temp = np.hstack((trained_word_embedding,trained_character_embedding))\n",
        "          inputs_embedding.append(inputs_embedding_temp)\n",
        "        \n",
        "        reviews_embeddings.append(np.array(inputs_embedding).reshape(max_review_len,n_input))\n",
        "      \n",
        "      inputs_embeddings = torch.from_numpy(np.array(reviews_embeddings)).float() \n",
        "      inputs_torch = inputs_embeddings.to(device)\n",
        "      labels_torch = labels.to(device)\n",
        "    \n",
        "      reviews_embeddings_test = []\n",
        "      for r in inputs_test:\n",
        "        inputs_embedding = []\n",
        "        \n",
        "        for w in r:\n",
        "          trained_word_embedding = trained_word_embeddings[w].reshape(1,-1)\n",
        "          trained_character_embedding = trained_character_embeddings[w].reshape(1,-1)\n",
        "          inputs_embedding_temp = np.hstack((trained_word_embedding,trained_character_embedding))\n",
        "          inputs_embedding.append(inputs_embedding_temp)\n",
        "        \n",
        "        reviews_embeddings_test.append(np.array(inputs_embedding).reshape(max_review_len,n_input))\n",
        "      \n",
        "      inputs_embeddings_test = torch.from_numpy(np.array(reviews_embeddings_test)).float() \n",
        "      inputs_torch_test = inputs_embeddings_test.to(device)\n",
        "      labels_torch_test = labels_test.to(device)\n",
        "\n",
        "      Sentiment_Model.eval()\n",
        "      outputs_test = Sentiment_Model(inputs_torch_test).view(-1)\n",
        "      loss_test = criterion(outputs_test, labels_torch_test.float())\n",
        "      \n",
        "      Sentiment_Model.train()\n",
        "      optimizer.zero_grad()\n",
        "      outputs = Sentiment_Model(inputs_torch).view(-1)\n",
        "      loss = criterion(outputs, labels_torch.float())\n",
        "      loss.backward()\n",
        "      optimizer.step()\n",
        "\n",
        "      Sentiment_Model.eval()\n",
        "        \n",
        "      outputs_train = Sentiment_Model(inputs_torch).view(-1) \n",
        "      train_loss = criterion(outputs_train, labels_torch.float())\n",
        "      predicted_train = outputs_train.detach().cpu().numpy()\n",
        "        \n",
        "      for i in range(predicted_train.shape[0]):\n",
        "        if predicted_train[i] > 0.5:\n",
        "          predictions_train.append(1)\n",
        "        else:\n",
        "          predictions_train.append(0)\n",
        "\n",
        "      outputs_test = Sentiment_Model(inputs_torch_test).view(-1) \n",
        "      test_loss = criterion(outputs_test, labels_torch_test.float())\n",
        "      predicted_test = outputs_test.detach().cpu().numpy()\n",
        "        \n",
        "      for i in range(predicted_test.shape[0]):\n",
        "        if predicted_test[i] > 0.5:\n",
        "          predictions_test.append(1)\n",
        "        else:\n",
        "          predictions_test.append(0)\n",
        "\n",
        "    if epoch % shown_interval == 0:\n",
        "      train_F1= round(f1_score(np.array(predictions_train),np.array(y_train)),4)      \n",
        "      test_F1= round(f1_score(np.array(predictions_test),np.array(y_test)),4)\n",
        "      print('Epoch: %d, train loss: %.5f, train_F1: %.4f, test loss: %.5f, test_F1: %.4f'%(epoch + 1, train_loss.item(), train_F1, test_loss.item(), test_F1))\n",
        "\n",
        "      f1_list_train.append(train_F1)\n",
        "      f1_list_test.append(test_F1)\n",
        "\n",
        "print('Finished Training')"
      ],
      "execution_count": 19,
      "outputs": [
        {
          "output_type": "stream",
          "text": [
            "Epoch: 1, train loss: 0.65479, train_F1: 0.6133, test loss: 0.62483, test_F1: 0.6136\n",
            "Epoch: 2, train loss: 0.56883, train_F1: 0.6845, test loss: 0.53443, test_F1: 0.6856\n",
            "Epoch: 3, train loss: 0.65964, train_F1: 0.6762, test loss: 0.64156, test_F1: 0.6777\n",
            "Epoch: 4, train loss: 0.59021, train_F1: 0.6766, test loss: 0.60961, test_F1: 0.6757\n",
            "Epoch: 5, train loss: 0.66596, train_F1: 0.6682, test loss: 0.67578, test_F1: 0.6605\n",
            "Epoch: 6, train loss: 0.64229, train_F1: 0.6775, test loss: 0.65813, test_F1: 0.6665\n",
            "Epoch: 7, train loss: 0.49066, train_F1: 0.7621, test loss: 0.49663, test_F1: 0.7534\n",
            "Epoch: 8, train loss: 0.47378, train_F1: 0.8038, test loss: 0.42361, test_F1: 0.8008\n",
            "Epoch: 9, train loss: 0.40060, train_F1: 0.8300, test loss: 0.37011, test_F1: 0.8237\n",
            "Epoch: 10, train loss: 0.36552, train_F1: 0.8459, test loss: 0.32410, test_F1: 0.8397\n",
            "Epoch: 11, train loss: 0.38846, train_F1: 0.8568, test loss: 0.33815, test_F1: 0.8479\n",
            "Epoch: 12, train loss: 0.36043, train_F1: 0.8651, test loss: 0.32550, test_F1: 0.8535\n",
            "Epoch: 13, train loss: 0.35961, train_F1: 0.8707, test loss: 0.30585, test_F1: 0.8562\n",
            "Epoch: 14, train loss: 0.32909, train_F1: 0.8768, test loss: 0.27919, test_F1: 0.8577\n",
            "Epoch: 15, train loss: 0.33605, train_F1: 0.8829, test loss: 0.27002, test_F1: 0.8635\n",
            "Epoch: 16, train loss: 0.31124, train_F1: 0.8879, test loss: 0.27423, test_F1: 0.8629\n",
            "Epoch: 17, train loss: 0.31402, train_F1: 0.8915, test loss: 0.27412, test_F1: 0.8651\n",
            "Epoch: 18, train loss: 0.31337, train_F1: 0.8923, test loss: 0.29129, test_F1: 0.8645\n",
            "Epoch: 19, train loss: 0.31343, train_F1: 0.8970, test loss: 0.28200, test_F1: 0.8645\n",
            "Epoch: 20, train loss: 0.31533, train_F1: 0.9016, test loss: 0.28570, test_F1: 0.8672\n",
            "Finished Training\n"
          ],
          "name": "stdout"
        }
      ]
    },
    {
      "cell_type": "code",
      "metadata": {
        "id": "56ZqmDcF2cTb",
        "colab_type": "code",
        "colab": {}
      },
      "source": [
        "torch.save(Sentiment_Model.state_dict(), '/content/drive/My Drive/Sentiment_Model.pt')"
      ],
      "execution_count": 0,
      "outputs": []
    },
    {
      "cell_type": "code",
      "metadata": {
        "id": "d4pkkZT_1c5E",
        "colab_type": "code",
        "colab": {
          "base_uri": "https://localhost:8080/",
          "height": 120
        },
        "outputId": "eed47549-e8ba-4ed5-a699-35efad3bd1bd"
      },
      "source": [
        "# Train another 5 Epoch to check whether this model has converged\n",
        "\n",
        "for epoch in range(20,25):\n",
        "    predictions_train = [] \n",
        "    predictions_test = []\n",
        "\n",
        "    for batch_idx, (inputs, labels, inputs_test, labels_test) in enumerate(all_sequence_loader):      \n",
        "      reviews_embeddings = []\n",
        "      \n",
        "      for r in inputs:\n",
        "        inputs_embedding = []\n",
        "        \n",
        "        for w in r:\n",
        "          trained_word_embedding = trained_word_embeddings[w].reshape(1,-1)\n",
        "          trained_character_embedding = trained_character_embeddings[w].reshape(1,-1)\n",
        "          inputs_embedding_temp = np.hstack((trained_word_embedding,trained_character_embedding))\n",
        "          inputs_embedding.append(inputs_embedding_temp)\n",
        "        \n",
        "        reviews_embeddings.append(np.array(inputs_embedding).reshape(max_review_len,n_input))\n",
        "      \n",
        "      inputs_embeddings = torch.from_numpy(np.array(reviews_embeddings)).float() \n",
        "      inputs_torch = inputs_embeddings.to(device)\n",
        "      labels_torch = labels.to(device)\n",
        "    \n",
        "      reviews_embeddings_test = []\n",
        "      for r in inputs_test:\n",
        "        inputs_embedding = []\n",
        "        \n",
        "        for w in r:\n",
        "          trained_word_embedding = trained_word_embeddings[w].reshape(1,-1)\n",
        "          trained_character_embedding = trained_character_embeddings[w].reshape(1,-1)\n",
        "          inputs_embedding_temp = np.hstack((trained_word_embedding,trained_character_embedding))\n",
        "          inputs_embedding.append(inputs_embedding_temp)\n",
        "        \n",
        "        reviews_embeddings_test.append(np.array(inputs_embedding).reshape(max_review_len,n_input))\n",
        "      \n",
        "      inputs_embeddings_test = torch.from_numpy(np.array(reviews_embeddings_test)).float() \n",
        "      inputs_torch_test = inputs_embeddings_test.to(device)\n",
        "      labels_torch_test = labels_test.to(device)\n",
        "\n",
        "      Sentiment_Model.eval()\n",
        "      outputs_test = Sentiment_Model(inputs_torch_test).view(-1)\n",
        "      loss_test = criterion(outputs_test, labels_torch_test.float())\n",
        "      \n",
        "      Sentiment_Model.train()\n",
        "      optimizer.zero_grad()\n",
        "      outputs = Sentiment_Model(inputs_torch).view(-1)\n",
        "      loss = criterion(outputs, labels_torch.float())\n",
        "      loss.backward()\n",
        "      optimizer.step()\n",
        "\n",
        "      Sentiment_Model.eval()\n",
        "        \n",
        "      outputs_train = Sentiment_Model(inputs_torch).view(-1) \n",
        "      train_loss = criterion(outputs_train, labels_torch.float())\n",
        "      predicted_train = outputs_train.detach().cpu().numpy()\n",
        "        \n",
        "      for i in range(predicted_train.shape[0]):\n",
        "        if predicted_train[i] > 0.5:\n",
        "          predictions_train.append(1)\n",
        "        else:\n",
        "          predictions_train.append(0)\n",
        "\n",
        "      outputs_test = Sentiment_Model(inputs_torch_test).view(-1) \n",
        "      test_loss = criterion(outputs_test, labels_torch_test.float())\n",
        "      predicted_test = outputs_test.detach().cpu().numpy()\n",
        "        \n",
        "      for i in range(predicted_test.shape[0]):\n",
        "        if predicted_test[i] > 0.5:\n",
        "          predictions_test.append(1)\n",
        "        else:\n",
        "          predictions_test.append(0)\n",
        "\n",
        "    if epoch % shown_interval == 0:\n",
        "      train_F1= round(f1_score(np.array(predictions_train),np.array(y_train)),4)      \n",
        "      test_F1= round(f1_score(np.array(predictions_test),np.array(y_test)),4)\n",
        "      print('Epoch: %d, train loss: %.5f, train_F1: %.4f, test loss: %.5f, test_F1: %.4f'%(epoch + 1, train_loss.item(), train_F1, test_loss.item(), test_F1))\n",
        "\n",
        "      f1_list_train.append(train_F1)\n",
        "      f1_list_test.append(test_F1)\n",
        "\n",
        "print('Finished Training')\n"
      ],
      "execution_count": 24,
      "outputs": [
        {
          "output_type": "stream",
          "text": [
            "Epoch: 21, train loss: 0.31232, train_F1: 0.9046, test loss: 0.29601, test_F1: 0.8664\n",
            "Epoch: 22, train loss: 0.31420, train_F1: 0.9096, test loss: 0.30772, test_F1: 0.8670\n",
            "Epoch: 23, train loss: 0.30215, train_F1: 0.9151, test loss: 0.29472, test_F1: 0.8651\n",
            "Epoch: 24, train loss: 0.28153, train_F1: 0.9161, test loss: 0.29577, test_F1: 0.8664\n",
            "Epoch: 25, train loss: 0.27377, train_F1: 0.9208, test loss: 0.29607, test_F1: 0.8661\n",
            "Finished Training\n"
          ],
          "name": "stdout"
        }
      ]
    },
    {
      "cell_type": "code",
      "metadata": {
        "id": "auz_sJVsSyhT",
        "colab_type": "code",
        "colab": {}
      },
      "source": [
        "torch.save(Sentiment_Model.state_dict(), '/content/drive/My Drive/Sentiment_Model - Overfit.pt')"
      ],
      "execution_count": 0,
      "outputs": []
    },
    {
      "cell_type": "markdown",
      "metadata": {
        "id": "-2feNpG-LZx2",
        "colab_type": "text"
      },
      "source": [
        "### 2.3.4. Save Sequence Model\n",
        "(*This step has been done as part of training, please refer to the previous session for details*)"
      ]
    },
    {
      "cell_type": "markdown",
      "metadata": {
        "id": "4zFo6YppL6w3",
        "colab_type": "text"
      },
      "source": [
        "### 2.3.5. Load Sequence Model"
      ]
    },
    {
      "cell_type": "code",
      "metadata": {
        "id": "OtNxLzDGMCan",
        "colab_type": "code",
        "colab": {
          "base_uri": "https://localhost:8080/",
          "height": 34
        },
        "outputId": "177ad6e6-5927-4727-8cd1-c7f58536c065"
      },
      "source": [
        "####################################\n",
        "######## Run This Cell #########\n",
        "####################################\n",
        "id = '18v8UNfPpcwkn_tzPeuAcfGHmymD0pjVv'\n",
        "downloaded = drive.CreateFile({'id':id}) \n",
        "downloaded.GetContentFile('Sentiment_Model.pt')\n",
        "\n",
        "Sentiment_Model_load = Sentiment_Model().to('cuda')\n",
        "Sentiment_Model_load.load_state_dict(torch.load('Sentiment_Model.pt'))"
      ],
      "execution_count": 37,
      "outputs": [
        {
          "output_type": "execute_result",
          "data": {
            "text/plain": [
              "<All keys matched successfully>"
            ]
          },
          "metadata": {
            "tags": []
          },
          "execution_count": 37
        }
      ]
    },
    {
      "cell_type": "markdown",
      "metadata": {
        "id": "a4mpRpocePLN",
        "colab_type": "text"
      },
      "source": [
        "# 3 - Evaluation\n",
        "\n",
        "(*Please show your empirical evidence*)"
      ]
    },
    {
      "cell_type": "markdown",
      "metadata": {
        "id": "KEW1zMgVMREr",
        "colab_type": "text"
      },
      "source": [
        "## 3.1. Performance Evaluation\n",
        "\n",
        "\n",
        "You are required to provide the table with precision, recall, f1 of test set."
      ]
    },
    {
      "cell_type": "code",
      "metadata": {
        "id": "aKbo1c4yxjw0",
        "colab_type": "code",
        "colab": {}
      },
      "source": [
        "####################################\n",
        "######## Run This Cell #########\n",
        "####################################\n",
        "\n",
        "device = 'cuda'\n",
        "for epoch in range(1):\n",
        "    predictions_test = []\n",
        "\n",
        "    for batch_idx, (inputs, labels, inputs_test, labels_test) in enumerate(all_sequence_loader):      \n",
        "\n",
        "      reviews_embeddings_test = []\n",
        "      for r in inputs_test:\n",
        "        inputs_embedding = []\n",
        "        \n",
        "        for w in r:\n",
        "          trained_word_embedding = trained_word_embeddings[w].reshape(1,-1)\n",
        "          trained_character_embedding = trained_character_embeddings[w].reshape(1,-1)\n",
        "          inputs_embedding_temp = np.hstack((trained_word_embedding,trained_character_embedding))\n",
        "          inputs_embedding.append(inputs_embedding_temp)\n",
        "        \n",
        "        reviews_embeddings_test.append(np.array(inputs_embedding).reshape(max_review_len,n_input))\n",
        "      \n",
        "      inputs_embeddings_test = torch.from_numpy(np.array(reviews_embeddings_test)).float() \n",
        "      inputs_torch_test = inputs_embeddings_test.to(device)\n",
        "      labels_torch_test = labels_test.to(device)\n",
        "\n",
        "      Sentiment_Model_load.eval()\n",
        "        \n",
        "      outputs_test = Sentiment_Model_load(inputs_torch_test).view(-1) \n",
        "      predicted_test = outputs_test.detach().cpu().numpy()\n",
        "        \n",
        "      for i in range(predicted_test.shape[0]):\n",
        "        if predicted_test[i] > 0.5:\n",
        "          predictions_test.append(1)\n",
        "        else:\n",
        "          predictions_test.append(0)"
      ],
      "execution_count": 0,
      "outputs": []
    },
    {
      "cell_type": "code",
      "metadata": {
        "id": "LPHCb-bneTI9",
        "colab_type": "code",
        "colab": {
          "base_uri": "https://localhost:8080/",
          "height": 172
        },
        "outputId": "c44cc57a-00dc-4be7-a79b-3047944bdaa1"
      },
      "source": [
        "####################################\n",
        "######## Run This Cell #########\n",
        "####################################\n",
        "\n",
        "from sklearn.metrics import classification_report\n",
        "print(classification_report(y_test, predictions_test,digits=4))"
      ],
      "execution_count": 39,
      "outputs": [
        {
          "output_type": "stream",
          "text": [
            "              precision    recall  f1-score   support\n",
            "\n",
            "           0     0.8644    0.8774    0.8708     12500\n",
            "           1     0.8755    0.8623    0.8689     12500\n",
            "\n",
            "    accuracy                         0.8698     25000\n",
            "   macro avg     0.8699    0.8698    0.8698     25000\n",
            "weighted avg     0.8699    0.8698    0.8698     25000\n",
            "\n"
          ],
          "name": "stdout"
        }
      ]
    },
    {
      "cell_type": "markdown",
      "metadata": {
        "id": "P28Z1k36MZuo",
        "colab_type": "text"
      },
      "source": [
        "## 3.2. Hyperparameter Testing\n",
        "Based on the graph below, the F1 score on test dataset started to converged and even decreased slightly after the 20th epoch, while the F1 score on training dataset continues to increase. That is a sign of over-fitting. Thus, the optimal number of epoch for the given hyper-parameters should be 20."
      ]
    },
    {
      "cell_type": "code",
      "metadata": {
        "id": "tmN5Fxo65U6E",
        "colab_type": "code",
        "colab": {
          "base_uri": "https://localhost:8080/",
          "height": 279
        },
        "outputId": "0bcb73b2-9789-4a46-9eb9-7592d85df29d"
      },
      "source": [
        "import matplotlib as matplot\n",
        "epoch_num = np.array(range(1,26))\n",
        "matplot.pyplot.plot(epoch_num,np.array(f1_list_test),color=\"green\",label=\"test F1\")\n",
        "matplot.pyplot.plot(epoch_num,np.array(f1_list_train),color=\"red\",label=\"train F1\")\n",
        "matplot.pyplot.xlabel(\"Number of Epoch\")\n",
        "matplot.pyplot.ylabel(\"F1 scores\")\n",
        "matplot.pyplot.legend(bbox_to_anchor=(1.05, 1), loc='upper left', borderaxespad=0.)\n",
        "\n",
        "matplot.pyplot.show()"
      ],
      "execution_count": 48,
      "outputs": [
        {
          "output_type": "display_data",
          "data": {
            "image/png": "[encoded data removed]",
            "text/plain": [
              "<Figure size 432x288 with 1 Axes>"
            ]
          },
          "metadata": {
            "tags": [],
            "needs_background": "light"
          }
        }
      ]
    }
  ]
}