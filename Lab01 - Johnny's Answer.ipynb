{
  "nbformat": 4,
  "nbformat_minor": 0,
  "metadata": {
    "colab": {
      "name": "Lab01.ipynb",
      "provenance": [],
      "collapsed_sections": [],
      "toc_visible": true,
      "include_colab_link": true
    },
    "kernelspec": {
      "name": "python3",
      "display_name": "Python 3"
    },
    "accelerator": "GPU"
  },
  "cells": [
    {
      "cell_type": "markdown",
      "metadata": {
        "id": "view-in-github",
        "colab_type": "text"
      },
      "source": [
        "<a href=\"https://colab.research.google.com/github/JohnnyPeng123/NLP-USYD/blob/master/Lab01%20-%20Johnny's%20Answer.ipynb\" target=\"_parent\"><img src=\"https://colab.research.google.com/assets/colab-badge.svg\" alt=\"Open In Colab\"/></a>"
      ]
    },
    {
      "cell_type": "markdown",
      "metadata": {
        "id": "3-tNXEbFOf-g",
        "colab_type": "text"
      },
      "source": [
        "# Lab 01"
      ]
    },
    {
      "cell_type": "markdown",
      "metadata": {
        "id": "6Vmb3ZK5SOhz",
        "colab_type": "text"
      },
      "source": [
        "# PyTorch"
      ]
    },
    {
      "cell_type": "markdown",
      "metadata": {
        "id": "9jJgT_lITGdG",
        "colab_type": "text"
      },
      "source": [
        "[PyTorch](https://pytorch.org/) is an open source machine learning library used for applications such as natural language processing and computer vision. It is based on the [Torch](http://torch.ch/) library.\n",
        "\n",
        "Before we use Pytorch it is (obviously) neccessary to understand what Pytorch is. Let's start from the two core concepts: **Tensor**, **(Computational) Graph** and **Automatic Differentiation**\n",
        "\n",
        "\n",
        "## Tensor\n",
        "A tensor is a generalization of vectors and matrices to potentially higher dimensions. It is the primary data structure used by neural networks. Normally, we can use **nd**-tensor to call any of its instances where **nd** stands for **n** **dimensional**.\n",
        "\n",
        "There are three basic attributes we need to know about tensors:\n",
        "*   *Rank*: The number of dimensions present within the tensor. e.g. rank-2 tensor means 2d-tensor.\n",
        "*   *Axes*: Used to refer to a specific dimensions. The number of axes equals to the number of dimensions. The length of an axis represents the number of elements running along this axis. \n",
        "*   *Shape*: Formed by the length of each axis. e.g. shape(1,2) means a 2d-tensor with the first axis of length 1 and the second axis of length 2. \n",
        "\n",
        "\n",
        "![Tensor_Rank](https://drive.google.com/uc?id=1o5wulLHGxUuPxH3t3xfV8U7d2CrsL1oG)\n",
        "\n",
        "\n",
        "A [torch.Tensor](https://pytorch.org/docs/stable/tensors.html) (tensor in PyTorch) has the following key properties : \n",
        "*   *torch.dtype*: an object representing the data type of a torch.Tensor. e.g. torch.float32\n",
        "*   *torch.device*: an object representing the device on which a torch.Tensor is or will be allocated. e.g. CPU or CUDA (GPU)\n",
        "*   *torch.layout*: an object representing the memory layout of a torch.Tensor.\n",
        "\n",
        "More details with illustrative examples can be found [here](https://pytorch.org/docs/stable/tensor_attributes.html#tensor-attributes-doc) \n",
        "\n",
        "\n"
      ]
    },
    {
      "cell_type": "markdown",
      "metadata": {
        "id": "lONWx3FtSwWJ",
        "colab_type": "text"
      },
      "source": [
        "## Computational Graph and Automatic Differentiation\n",
        "PyTorch uses (directed acyclic) computational graphs  to graph the functional operations that are applied to tensors inside neural networks so as to computationally calculate derivatives for the network optimization. In graphs, the nodes are Tensors while the eages are functions that produce output Tensors from input Tensors (e.g. summation, mutiplication). Those graphs enable PyTorch to do the automatic differentiation for us, i.e. it can automatically calculate the derivatives that are needed for network optimization. We will learn more about it through pratical examples in following sections.\n",
        "\n",
        "Specifically, PyTorch generates the computational graph on the fly as when operations are created during forward passes in neural networks, which is refered as dynamic computational graph. This is the one of the main differences between PyTorch and TensorFlow which uses static computational graphs.  \n",
        "\n"
      ]
    },
    {
      "cell_type": "markdown",
      "metadata": {
        "id": "xWQxFb_W8flk",
        "colab_type": "text"
      },
      "source": [
        "## Importing PyTorch library\n",
        "[Google Colab](https://colab.research.google.com/notebooks/welcome.ipynb) has torch library installed as default so you just need to import it as below:"
      ]
    },
    {
      "cell_type": "code",
      "metadata": {
        "id": "horLjqk6TNZX",
        "colab_type": "code",
        "outputId": "8dcd1c53-779f-4cf1-bce3-0f0d09ee1513",
        "colab": {
          "base_uri": "https://localhost:8080/",
          "height": 35
        }
      },
      "source": [
        "import torch\n",
        "print(torch.__version__) #check version"
      ],
      "execution_count": 1,
      "outputs": [
        {
          "output_type": "stream",
          "text": [
            "1.4.0\n"
          ],
          "name": "stdout"
        }
      ]
    },
    {
      "cell_type": "markdown",
      "metadata": {
        "id": "XPp2MGCe1apL",
        "colab_type": "text"
      },
      "source": [
        "## Tensor creation\n",
        "With PyTorch, we will be implementing lots of models. To get started, let's  have a look at how to create a tensor.\n",
        "\n",
        "We can creating tensors **with numerical data**, typically numpy arrays."
      ]
    },
    {
      "cell_type": "code",
      "metadata": {
        "id": "bSymfXYxUT-8",
        "colab_type": "code",
        "outputId": "cc5597a5-81af-42a2-c17b-1aeee9ee356c",
        "colab": {
          "base_uri": "https://localhost:8080/",
          "height": 105
        }
      },
      "source": [
        "import numpy as np\n",
        "\n",
        "# Scalar (0 Rank)\n",
        "data = torch.tensor(1)\n",
        "print(data.shape)\n",
        "\n",
        "\n",
        "# Vector (1 Rank)\n",
        "data = np.array([1,2]) \n",
        "data = torch.Tensor(data)\n",
        "print(data.shape)\n",
        "\n",
        "\n",
        "# Matrix (2 Rank)\n",
        "data = np.ones((2,2,)) \n",
        "data = torch.Tensor(data)\n",
        "print(data.shape)\n",
        "\n",
        "\n",
        "# Cube (3 Rank)\n",
        "data = np.ones((2,2,2)) \n",
        "data = torch.Tensor(data)\n",
        "print(data.shape)\n",
        "\n",
        "\n",
        "# Vector of cubes (4 Rank)\n",
        "data = np.ones((2,2,2,2)) \n",
        "data = torch.Tensor(data)\n",
        "print(data.shape)"
      ],
      "execution_count": 3,
      "outputs": [
        {
          "output_type": "stream",
          "text": [
            "torch.Size([])\n",
            "torch.Size([2])\n",
            "torch.Size([2, 2])\n",
            "torch.Size([2, 2, 2])\n",
            "torch.Size([2, 2, 2, 2])\n"
          ],
          "name": "stdout"
        }
      ]
    },
    {
      "cell_type": "markdown",
      "metadata": {
        "id": "6LEAyEhrn03F",
        "colab_type": "text"
      },
      "source": [
        "Notice that although both torch.Tensor() and torch.tensor() can be used to are used to generate tensors, there are some differences:\n",
        "\n",
        "*   uppercase t VS. lowercase T (obviously)\n",
        "*   torch.Tensor() is the constructor of the torch.Tensor class while the torch.tensor() is a factory function that constructs torch.Tensor objects and return them to the caller \n",
        "*   torch.Tensor() can return an empty tensor without specifying incoming data while torch.tensor() with no input data will prouduce a TypeError (you can try)\n",
        "*   torch.Tensor uses the default dtype \"float32\" while the torch.tensor() choose the same dtype based on the incoming data (type inference), this can be easily illustrated thorugh following example:\n",
        "\n"
      ]
    },
    {
      "cell_type": "code",
      "metadata": {
        "id": "fxsULaaptyF7",
        "colab_type": "code",
        "outputId": "afc5a42c-116e-43b2-b3c7-f7bad4161384",
        "colab": {
          "base_uri": "https://localhost:8080/",
          "height": 193
        }
      },
      "source": [
        "data = np.array([1,2]) \n",
        "print(data.dtype)\n",
        "\n",
        "data_T = torch.Tensor(data)\n",
        "print(data_T)\n",
        "print(data_T.dtype)\n",
        "print(data_T.dtype==torch.get_default_dtype()) #get the torch default data type, which can also be changed through 'torch.set_default_dtype(dtype)'\n",
        "print()\n",
        "\n",
        "data_t = torch.tensor(data)\n",
        "print(data_t)\n",
        "print(data_t.dtype)\n",
        "print()\n",
        "\n",
        "#we can also specify a datatype with torch.tensor()\n",
        "data_t = torch.tensor(data, dtype=torch.float64)\n",
        "print(data_t)\n",
        "print(data_t.dtype)"
      ],
      "execution_count": 4,
      "outputs": [
        {
          "output_type": "stream",
          "text": [
            "int64\n",
            "tensor([1., 2.])\n",
            "torch.float32\n",
            "True\n",
            "\n",
            "tensor([1, 2])\n",
            "torch.int64\n",
            "\n",
            "tensor([1., 2.], dtype=torch.float64)\n",
            "torch.float64\n"
          ],
          "name": "stdout"
        }
      ]
    },
    {
      "cell_type": "markdown",
      "metadata": {
        "id": "cE2tWt771BYk",
        "colab_type": "text"
      },
      "source": [
        "Expect for torch.Tensor() and torch.tensor(), We can also use torch.as_tensor and torch.from_numpy"
      ]
    },
    {
      "cell_type": "code",
      "metadata": {
        "id": "hE5zySUlbYPK",
        "colab_type": "code",
        "outputId": "7474b436-e911-4a14-f5dd-6a202c46cb4d",
        "colab": {
          "base_uri": "https://localhost:8080/",
          "height": 52
        }
      },
      "source": [
        "# Create tensor using torch.as_tensor \n",
        "data = np.ones((2,2,2)) \n",
        "data = torch.as_tensor(data)\n",
        "print(data.shape)\n",
        "\n",
        "# Create tensor using torch.from_numpy\n",
        "data = np.ones((2,2,2,2))\n",
        "data = torch.from_numpy(data)\n",
        "print(data.shape)"
      ],
      "execution_count": 5,
      "outputs": [
        {
          "output_type": "stream",
          "text": [
            "torch.Size([2, 2, 2])\n",
            "torch.Size([2, 2, 2, 2])\n"
          ],
          "name": "stdout"
        }
      ]
    },
    {
      "cell_type": "markdown",
      "metadata": {
        "id": "Q-hrVh5Eb50F",
        "colab_type": "text"
      },
      "source": [
        "Alternatively, we can also create tensors **without data** using factory functions"
      ]
    },
    {
      "cell_type": "code",
      "metadata": {
        "id": "XGnl32afcBnv",
        "colab_type": "code",
        "outputId": "5e9ea5aa-2634-4993-8167-5ed23e0b7482",
        "colab": {
          "base_uri": "https://localhost:8080/",
          "height": 52
        }
      },
      "source": [
        "# torch.eye: Returns an identity matrix \n",
        "torch.eye(2)"
      ],
      "execution_count": 6,
      "outputs": [
        {
          "output_type": "execute_result",
          "data": {
            "text/plain": [
              "tensor([[1., 0.],\n",
              "        [0., 1.]])"
            ]
          },
          "metadata": {
            "tags": []
          },
          "execution_count": 6
        }
      ]
    },
    {
      "cell_type": "code",
      "metadata": {
        "id": "R8QlyKrPcxs_",
        "colab_type": "code",
        "outputId": "a2b15f8e-ab5c-450a-df36-3fd670cbb558",
        "colab": {
          "base_uri": "https://localhost:8080/",
          "height": 52
        }
      },
      "source": [
        "# torch.zeros: Returns a tensor of given shape filled with all zeros\n",
        "torch.zeros(2,2)"
      ],
      "execution_count": 7,
      "outputs": [
        {
          "output_type": "execute_result",
          "data": {
            "text/plain": [
              "tensor([[0., 0.],\n",
              "        [0., 0.]])"
            ]
          },
          "metadata": {
            "tags": []
          },
          "execution_count": 7
        }
      ]
    },
    {
      "cell_type": "code",
      "metadata": {
        "id": "rO_IkTuSc66X",
        "colab_type": "code",
        "outputId": "db3c8181-7c6f-40f0-ed8b-132b578b311a",
        "colab": {
          "base_uri": "https://localhost:8080/",
          "height": 52
        }
      },
      "source": [
        "# torch.ones: Returns a tensor of given shape filled with all ones\n",
        "torch.ones(2,2)"
      ],
      "execution_count": 8,
      "outputs": [
        {
          "output_type": "execute_result",
          "data": {
            "text/plain": [
              "tensor([[1., 1.],\n",
              "        [1., 1.]])"
            ]
          },
          "metadata": {
            "tags": []
          },
          "execution_count": 8
        }
      ]
    },
    {
      "cell_type": "code",
      "metadata": {
        "id": "BZqJpoIXc8wL",
        "colab_type": "code",
        "outputId": "2df0b530-33cf-45e7-cbd0-88c6eb79adf2",
        "colab": {
          "base_uri": "https://localhost:8080/",
          "height": 52
        }
      },
      "source": [
        "# torch.rand: Returns a tensor of given shape filled with values drawn from a uniform distribution on [0, 1).\n",
        "torch.rand(2,2)"
      ],
      "execution_count": 9,
      "outputs": [
        {
          "output_type": "execute_result",
          "data": {
            "text/plain": [
              "tensor([[0.4698, 0.8208],\n",
              "        [0.9462, 0.4228]])"
            ]
          },
          "metadata": {
            "tags": []
          },
          "execution_count": 9
        }
      ]
    },
    {
      "cell_type": "markdown",
      "metadata": {
        "id": "NTOQtikExO7M",
        "colab_type": "text"
      },
      "source": [
        "More factory functions for tensor creation can be found [here](https://pytorch.org/cppdocs/notes/tensor_creation.html#factory-functions)"
      ]
    },
    {
      "cell_type": "markdown",
      "metadata": {
        "id": "Bff_DPKHbSvY",
        "colab_type": "text"
      },
      "source": [
        "## Basic tensor operations"
      ]
    },
    {
      "cell_type": "markdown",
      "metadata": {
        "id": "rKz1UOFEHYVr",
        "colab_type": "text"
      },
      "source": [
        "The list of operations with examples can be found [here](https://pytorch.org/docs/stable/torch.html#math-operations). Please go through and try to practice yourself with examples before you move on. You don't need to remember all of them, you can easily refer back when needed."
      ]
    },
    {
      "cell_type": "markdown",
      "metadata": {
        "id": "IE91VTvN_YVB",
        "colab_type": "text"
      },
      "source": [
        "## Simple Linear Regression\n",
        "\n",
        "![Linear_Regression](https://upload.wikimedia.org/wikipedia/commons/thumb/3/3a/Linear_regression.svg/320px-Linear_regression.svg.png)\n",
        "\n",
        "The following code implements a simple linear regression algorithm.\n",
        "\n"
      ]
    },
    {
      "cell_type": "markdown",
      "metadata": {
        "id": "3fXyR-6lGlie",
        "colab_type": "text"
      },
      "source": [
        "### Linear Regression from scratch"
      ]
    },
    {
      "cell_type": "markdown",
      "metadata": {
        "id": "ALnKOtUpGZyk",
        "colab_type": "text"
      },
      "source": [
        "Prepare data"
      ]
    },
    {
      "cell_type": "code",
      "metadata": {
        "id": "uK900tGJBcbt",
        "colab_type": "code",
        "colab": {}
      },
      "source": [
        "import numpy\n",
        "import matplotlib.pyplot as plt\n",
        "import torch\n",
        "\n",
        "# training data\n",
        "x_training = numpy.asarray([1,2,5,8,9,12,14,16,18,20])\n",
        "y_training = numpy.asarray([1500,3500,7200,11000,12500,18500,22000,24500,28000,30500])\n",
        "\n",
        "x_test = numpy.asarray([3,7,13,15,19])\n",
        "y_test = numpy.asarray([4400,10000,19500,23500,29000])\n",
        "\n",
        "# creating tensor for trainig from training data\n",
        "x_data = torch.from_numpy(x_training)\n",
        "y_data = torch.from_numpy(y_training)\n",
        "x_test_data = torch.from_numpy(x_test)\n",
        "y_test_data = torch.from_numpy(y_test)\n"
      ],
      "execution_count": 0,
      "outputs": []
    },
    {
      "cell_type": "markdown",
      "metadata": {
        "id": "u4DA9NoJG10G",
        "colab_type": "text"
      },
      "source": [
        " Once the dataset is prepared, we can start defining our model architecture\n",
        " \n",
        " Let's first build it from scratch so as to gain a clear understanding about how the automatic differentiation works\n",
        "\n"
      ]
    },
    {
      "cell_type": "code",
      "metadata": {
        "id": "IzlkNOOpGk8r",
        "colab_type": "code",
        "outputId": "7f0f92e4-aa4f-476b-d9f1-099d2d68346c",
        "colab": {
          "base_uri": "https://localhost:8080/",
          "height": 52
        }
      },
      "source": [
        "# Define weights and biases\n",
        "weight = torch.tensor(numpy.random.randn(), requires_grad=True)\n",
        "bias = torch.tensor(numpy.random.randn(), requires_grad=True)\n",
        "print(weight)\n",
        "print(bias)"
      ],
      "execution_count": 11,
      "outputs": [
        {
          "output_type": "stream",
          "text": [
            "tensor(-0.3148, requires_grad=True)\n",
            "tensor(-2.8430, requires_grad=True)\n"
          ],
          "name": "stdout"
        }
      ]
    },
    {
      "cell_type": "markdown",
      "metadata": {
        "id": "9p3lWE7DL_c2",
        "colab_type": "text"
      },
      "source": [
        "Note that we set 'requires_grad=True' above, which turns on the automatic gradient computation for weight and bias"
      ]
    },
    {
      "cell_type": "code",
      "metadata": {
        "id": "FnGNiyccJEU7",
        "colab_type": "code",
        "colab": {}
      },
      "source": [
        "# Define the model\n",
        "# Hypothesis = W * X + b (Linear Model)\n",
        "def linearRegression(x):\n",
        "  return x * weight + bias"
      ],
      "execution_count": 0,
      "outputs": []
    },
    {
      "cell_type": "code",
      "metadata": {
        "id": "eYVxYYEaJw_9",
        "colab_type": "code",
        "outputId": "0d67459e-0655-40a5-a2da-bfa9d21499bc",
        "colab": {
          "base_uri": "https://localhost:8080/",
          "height": 70
        }
      },
      "source": [
        "# Generate predictions and compare with ground truth labels\n",
        "# As we can see, we randomly initialise the weight and bias, the model does not predict properly at the moment\n",
        "predictions = linearRegression(x_data)\n",
        "print(predictions)\n",
        "print(y_data)"
      ],
      "execution_count": 13,
      "outputs": [
        {
          "output_type": "stream",
          "text": [
            "tensor([-3.1578, -3.4726, -4.4171, -5.3615, -5.6763, -6.6208, -7.2504, -7.8801,\n",
            "        -8.5097, -9.1393], grad_fn=<AddBackward0>)\n",
            "tensor([ 1500,  3500,  7200, 11000, 12500, 18500, 22000, 24500, 28000, 30500])\n"
          ],
          "name": "stdout"
        }
      ]
    },
    {
      "cell_type": "code",
      "metadata": {
        "id": "4rjCmeI3KxEy",
        "colab_type": "code",
        "colab": {}
      },
      "source": [
        "# Define loss function \n",
        "# here we use mean squared error (MSE)\n",
        "def mse(x1, x2):\n",
        "  diff = x1 - x2\n",
        "  return torch.sum(diff*diff)/diff.numel()"
      ],
      "execution_count": 0,
      "outputs": []
    },
    {
      "cell_type": "code",
      "metadata": {
        "id": "MnnZ_W8yLPLw",
        "colab_type": "code",
        "outputId": "04228bb3-23dc-4611-c039-2b3c5e1fb544",
        "colab": {
          "base_uri": "https://localhost:8080/",
          "height": 35
        }
      },
      "source": [
        "# Compute loss\n",
        "# As we all know, the lower, the better\n",
        "loss = mse(predictions, y_data)\n",
        "print(loss)"
      ],
      "execution_count": 15,
      "outputs": [
        {
          "output_type": "stream",
          "text": [
            "tensor(3.4867e+08, grad_fn=<DivBackward0>)\n"
          ],
          "name": "stdout"
        }
      ]
    },
    {
      "cell_type": "markdown",
      "metadata": {
        "id": "Ua8D9hd2MmSb",
        "colab_type": "text"
      },
      "source": [
        "As is mentioned, PyTorch automatically compute the gradient/derivative of the loss (with regard to the weight and bias here). This was enabled when we set 'requires_grad=True' to them.\n",
        "\n",
        "All we need to do now is to call the backward() over our loss, which will trigger the automatical computation of gradients based on the chain rule."
      ]
    },
    {
      "cell_type": "code",
      "metadata": {
        "id": "cQ5PL5rbNJ09",
        "colab_type": "code",
        "colab": {}
      },
      "source": [
        "# Compute gradients\n",
        "loss.backward()"
      ],
      "execution_count": 0,
      "outputs": []
    },
    {
      "cell_type": "markdown",
      "metadata": {
        "id": "qwuD_tYMNnZP",
        "colab_type": "text"
      },
      "source": [
        "After the backward passing, the gradients are stored in the .grad property of the involved tensors. Let's have a look."
      ]
    },
    {
      "cell_type": "code",
      "metadata": {
        "id": "w5glqZhkN1Fl",
        "colab_type": "code",
        "outputId": "fc5018dc-20de-47d1-8d4a-2b7fb1f11ed3",
        "colab": {
          "base_uri": "https://localhost:8080/",
          "height": 105
        }
      },
      "source": [
        "# Gradient for weight\n",
        "print(weight)\n",
        "print(weight.grad)\n",
        "print()\n",
        "\n",
        "# Gradient for bias\n",
        "print(bias)\n",
        "print(bias.grad)"
      ],
      "execution_count": 17,
      "outputs": [
        {
          "output_type": "stream",
          "text": [
            "tensor(-0.3148, requires_grad=True)\n",
            "tensor(-456353.8750)\n",
            "\n",
            "tensor(-2.8430, requires_grad=True)\n",
            "tensor(-31852.2969)\n"
          ],
          "name": "stdout"
        }
      ]
    },
    {
      "cell_type": "markdown",
      "metadata": {
        "id": "bvHjhErrPiDk",
        "colab_type": "text"
      },
      "source": [
        "Now we can easily adjust the weight and bias using the gradients.\n",
        "\n",
        "We need to reset the gradients after before next forward pass, because PyTorch accumulates gradients."
      ]
    },
    {
      "cell_type": "code",
      "metadata": {
        "id": "F_HXZkOUP-vB",
        "colab_type": "code",
        "outputId": "3c5fe0bb-6e73-4709-91fc-7ae6d2c2a594",
        "colab": {
          "base_uri": "https://localhost:8080/",
          "height": 52
        }
      },
      "source": [
        "# We do not want gradient for the updation operation\n",
        "# There will not be automatic gradient computation within the torch.no_grad() \n",
        "\n",
        "with torch.no_grad(): \n",
        "  weight -= weight.grad * 1e-5\n",
        "  bias -= bias * 1e-5\n",
        "  # remember to reset the gradients\n",
        "  weight.grad.zero_()\n",
        "  bias.grad.zero_()\n",
        "print(weight)\n",
        "print(bias)\n"
      ],
      "execution_count": 18,
      "outputs": [
        {
          "output_type": "stream",
          "text": [
            "tensor(4.2487, requires_grad=True)\n",
            "tensor(-2.8430, requires_grad=True)\n"
          ],
          "name": "stdout"
        }
      ]
    },
    {
      "cell_type": "code",
      "metadata": {
        "id": "MSj4yiSSSOJj",
        "colab_type": "code",
        "outputId": "0de791bc-1089-43cb-9681-2f81fa30f35b",
        "colab": {
          "base_uri": "https://localhost:8080/",
          "height": 52
        }
      },
      "source": [
        "print(weight.grad)\n",
        "print(bias.grad)"
      ],
      "execution_count": 19,
      "outputs": [
        {
          "output_type": "stream",
          "text": [
            "tensor(0.)\n",
            "tensor(0.)\n"
          ],
          "name": "stdout"
        }
      ]
    },
    {
      "cell_type": "markdown",
      "metadata": {
        "id": "3rmo63CASlPp",
        "colab_type": "text"
      },
      "source": [
        "Let's predict and compute loss again. The loss should be lower with new weights and biases"
      ]
    },
    {
      "cell_type": "code",
      "metadata": {
        "id": "xRBatrmLSxmW",
        "colab_type": "code",
        "outputId": "fd7cb80f-3091-488c-c4f2-88865c4e4b44",
        "colab": {
          "base_uri": "https://localhost:8080/",
          "height": 35
        }
      },
      "source": [
        "predictions = linearRegression(x_data)\n",
        "loss = mse(predictions, y_data)\n",
        "print(loss)"
      ],
      "execution_count": 20,
      "outputs": [
        {
          "output_type": "stream",
          "text": [
            "tensor(3.4659e+08, grad_fn=<DivBackward0>)\n"
          ],
          "name": "stdout"
        }
      ]
    },
    {
      "cell_type": "markdown",
      "metadata": {
        "id": "OE05OxGETIGd",
        "colab_type": "text"
      },
      "source": [
        "Hope you now have an initial clear understanding of how automatic gradient computing works.\n",
        "\n",
        "Let's start training the model for multiple epochs.\n",
        "\n",
        "We can just simply create python loop to do it."
      ]
    },
    {
      "cell_type": "code",
      "metadata": {
        "id": "glakWvo4TmmU",
        "colab_type": "code",
        "outputId": "a56eb21a-0f46-4292-8c15-d0e56cf88376",
        "colab": {
          "base_uri": "https://localhost:8080/",
          "height": 1000
        }
      },
      "source": [
        "# An epoch is one iteration over the entire input data\n",
        "no_of_epochs = 5000\n",
        "# How often you want to display training info.\n",
        "display_interval = 200\n",
        "\n",
        "for epoch in range(no_of_epochs):\n",
        "  predictions = linearRegression(x_data)\n",
        "  loss = mse(predictions, y_data)\n",
        "  loss.backward()\n",
        "  with torch.no_grad():\n",
        "    weight -= weight.grad * 1e-5\n",
        "    bias -= bias.grad * 1e-5\n",
        "    weight.grad.zero_()\n",
        "    bias.grad.zero_()\n",
        "  if epoch % display_interval == 0 :\n",
        "      # calculate the cost of the current model\n",
        "      predictions = linearRegression(x_data)\n",
        "      loss = mse(predictions, y_data)           \n",
        "      print(\"Epoch:\", '%04d' %(epoch), \"loss=\", \"{:.8f}\".format(loss), \"W=\", \"{:.4f}\".format(weight), \"b=\",  \"{:.4f}\".format(bias))\n",
        "\n",
        "print(\"=========================================================\")\n",
        "training_loss = mse(linearRegression(x_data), y_data)   \n",
        "print(\"Optimised:\", \"lost=\", \"{:.9f}\".format(training_loss.data), \\\n",
        "              \"W=\", \"{:.9f}\".format(weight.data), \"b=\", \"{:.9f}\".format(bias.data))\n",
        "    \n",
        "# Plot training data on the graph\n",
        "plt.plot(x_training, y_training, 'ro', label='Training data')\n",
        "plt.plot(x_training, weight.data * x_training + bias.data, label='Linear')\n",
        "plt.legend()\n",
        "plt.show()\n",
        "\n",
        "# Calculate testing loss\n",
        "testing_loss = mse(linearRegression(x_test_data), y_test_data) \n",
        "print(\"Testing loss=\", \"{:.9f}\".format(testing_loss.data))\n",
        "print(\"Absolute mean square loss difference:\", \"{:.9f}\".format(abs(\n",
        "      training_loss.data - testing_loss.data)))\n",
        "  \n",
        "# Plot testing data on the graph\n",
        "plt.plot(x_test, y_test, 'bo', label='Testing data')\n",
        "plt.plot(x_test, weight.data * x_test + bias.data, label='Linear')\n",
        "plt.legend()\n",
        "plt.show()"
      ],
      "execution_count": 21,
      "outputs": [
        {
          "output_type": "stream",
          "text": [
            "Epoch: 0000 loss= 344511584.00000000 W= 8.7986 b= -2.5254\n",
            "Epoch: 0200 loss= 103682920.00000000 W= 691.4930 b= 44.9967\n",
            "Epoch: 0400 loss= 31415994.00000000 W= 1065.4833 b= 70.7999\n",
            "Epoch: 0600 loss= 9730302.00000000 W= 1270.3684 b= 84.7059\n",
            "Epoch: 0800 loss= 3222821.75000000 W= 1382.6195 b= 92.0949\n",
            "Epoch: 1000 loss= 1270010.75000000 W= 1444.1256 b= 95.9142\n",
            "Epoch: 1200 loss= 683933.43750000 W= 1477.8341 b= 97.7782\n",
            "Epoch: 1400 loss= 507978.34375000 W= 1496.3149 b= 98.5714\n",
            "Epoch: 1600 loss= 455091.43750000 W= 1506.4542 b= 98.7783\n",
            "Epoch: 1800 loss= 439128.75000000 W= 1512.0253 b= 98.6643\n",
            "Epoch: 2000 loss= 434250.18750000 W= 1515.0929 b= 98.3746\n",
            "Epoch: 2200 loss= 432698.00000000 W= 1516.7892 b= 97.9891\n",
            "Epoch: 2400 loss= 432143.09375000 W= 1517.7345 b= 97.5512\n",
            "Epoch: 2600 loss= 431888.93750000 W= 1518.2682 b= 97.0848\n",
            "Epoch: 2800 loss= 431723.93750000 W= 1518.5765 b= 96.6032\n",
            "Epoch: 3000 loss= 431586.68750000 W= 1518.7606 b= 96.1134\n",
            "Epoch: 3200 loss= 431457.56250000 W= 1518.8772 b= 95.6194\n",
            "Epoch: 3400 loss= 431331.40625000 W= 1518.9570 b= 95.1234\n",
            "Epoch: 3600 loss= 431205.68750000 W= 1519.0139 b= 94.6260\n",
            "Epoch: 3800 loss= 431081.15625000 W= 1519.0627 b= 94.1286\n",
            "Epoch: 4000 loss= 430956.34375000 W= 1519.1116 b= 93.6311\n",
            "Epoch: 4200 loss= 430832.50000000 W= 1519.1500 b= 93.1337\n",
            "Epoch: 4400 loss= 430708.59375000 W= 1519.1849 b= 92.6373\n",
            "Epoch: 4600 loss= 430584.93750000 W= 1519.2197 b= 92.1414\n",
            "Epoch: 4800 loss= 430461.50000000 W= 1519.2546 b= 91.6455\n",
            "=========================================================\n",
            "Optimised: lost= 430338.906250000 W= 1519.289184570 b= 91.153175354\n"
          ],
          "name": "stdout"
        },
        {
          "output_type": "display_data",
          "data": {
            "image/png": "[encoded data removed]",
            "text/plain": [
              "<Figure size 432x288 with 1 Axes>"
            ]
          },
          "metadata": {
            "tags": []
          }
        },
        {
          "output_type": "stream",
          "text": [
            "Testing loss= 218367.125000000\n",
            "Absolute mean square loss difference: 211971.781250000\n"
          ],
          "name": "stdout"
        },
        {
          "output_type": "display_data",
          "data": {
            "image/png": "[encoded data removed]",
            "text/plain": [
              "<Figure size 432x288 with 1 Axes>"
            ]
          },
          "metadata": {
            "tags": []
          }
        }
      ]
    },
    {
      "cell_type": "markdown",
      "metadata": {
        "id": "54_Tj-BIaDPU",
        "colab_type": "text"
      },
      "source": [
        "### Linear Regression using PyTorch built-ins"
      ]
    },
    {
      "cell_type": "markdown",
      "metadata": {
        "id": "yUrcVErtayVN",
        "colab_type": "text"
      },
      "source": [
        "Prepare data"
      ]
    },
    {
      "cell_type": "code",
      "metadata": {
        "id": "5DwoqFKbaiSY",
        "colab_type": "code",
        "colab": {}
      },
      "source": [
        "import numpy\n",
        "import matplotlib.pyplot as plt\n",
        "import torch\n",
        "import torch.nn as nn\n",
        "\n",
        "# training data: this time we use 2d array\n",
        "# Assuming we have 90 samples of 10 featues about a house condition, such as bedroom number, distance to city center etc.\n",
        "# and will predict the house price \n",
        "x_data = torch.randn(90, 10)\n",
        "y_data = torch.randn(90, 1)\n",
        "\n",
        "# testing data:\n",
        "x_test_data = torch.randn(10, 10)\n",
        "y_test_data = torch.randn(10, 1)\n",
        "\n"
      ],
      "execution_count": 0,
      "outputs": []
    },
    {
      "cell_type": "markdown",
      "metadata": {
        "id": "79_tCTbKa_Go",
        "colab_type": "text"
      },
      "source": [
        "This time we don't need to initialize the weight and bias manually. Instead, we will define the model using the built-in [torch.nn.Linear](https://pytorch.org/docs/stable/nn.html#linear).\n",
        "\n",
        "[**torch.nn**](https://pytorch.org/docs/stable/nn.html) is a subpackage that contains modules and extensible classes for us to build neural networks.\n",
        "\n"
      ]
    },
    {
      "cell_type": "code",
      "metadata": {
        "id": "rA8sqMF_bOSL",
        "colab_type": "code",
        "outputId": "655a951c-96b5-4a4e-daa9-4f1b43bac611",
        "colab": {
          "base_uri": "https://localhost:8080/",
          "height": 105
        }
      },
      "source": [
        "# Define model\n",
        "linearRegression =  nn.Linear(10,1)\n",
        "print(linearRegression.weight)\n",
        "print(linearRegression.bias)"
      ],
      "execution_count": 23,
      "outputs": [
        {
          "output_type": "stream",
          "text": [
            "Parameter containing:\n",
            "tensor([[-0.2248,  0.2368,  0.0493, -0.2252,  0.2220, -0.1025,  0.2685, -0.1953,\n",
            "         -0.2361, -0.1089]], requires_grad=True)\n",
            "Parameter containing:\n",
            "tensor([-0.0570], requires_grad=True)\n"
          ],
          "name": "stdout"
        }
      ]
    },
    {
      "cell_type": "markdown",
      "metadata": {
        "id": "D4UxFi0bbeC3",
        "colab_type": "text"
      },
      "source": [
        "Similarly, we don't mannually updating the weight and bias using gradients by ouselves. Instead, we will use the optimizer optim.SGD.\n",
        "\n",
        "[**torhc.optim**](https://pytorch.org/docs/stable/optim.html) is a subpackage that contains the standard optimization operations like Adam and SGD.\n",
        "\n"
      ]
    },
    {
      "cell_type": "code",
      "metadata": {
        "id": "k62ayy77bu5W",
        "colab_type": "code",
        "colab": {}
      },
      "source": [
        "# Define optimizer\n",
        "# Just pass the model parameters to be updated and specify the learning rate when calling optim.SGD\n",
        "# SGD optimizer in PyTorch actually is Mini-batch Gradient Descent with momentum.\n",
        "# In this case, as the batch size of our model is N, SGD here is actually Batch Gradient Descent.\n",
        "optimizer = torch.optim.SGD(linearRegression.parameters(), lr=1e-5)"
      ],
      "execution_count": 0,
      "outputs": []
    },
    {
      "cell_type": "markdown",
      "metadata": {
        "id": "vfKM513UcH-4",
        "colab_type": "text"
      },
      "source": [
        "Again, we use the built-in loss function mse_loss instead of defining it mannually.\n",
        "\n",
        "We will need the [**torch.nn.functional**](https://pytorch.org/docs/stable/nn.functional.html) interface, which contains typical operations used for building neural networks such as convolution operations, activation functions and loss functions we need here."
      ]
    },
    {
      "cell_type": "code",
      "metadata": {
        "id": "sKWCYuiocOUS",
        "colab_type": "code",
        "outputId": "1136b9e0-0cc6-4622-b729-8af772d6725d",
        "colab": {
          "base_uri": "https://localhost:8080/",
          "height": 35
        }
      },
      "source": [
        "# Import nn.functional \n",
        "import torch.nn.functional as F\n",
        "\n",
        "# Define the loss function\n",
        "loss_func = F.mse_loss\n",
        "\n",
        "# Calculate loss\n",
        "loss = loss_func(linearRegression(x_data), y_data)\n",
        "print(loss)"
      ],
      "execution_count": 27,
      "outputs": [
        {
          "output_type": "stream",
          "text": [
            "tensor(1.5314, grad_fn=<MseLossBackward>)\n"
          ],
          "name": "stdout"
        }
      ]
    },
    {
      "cell_type": "markdown",
      "metadata": {
        "id": "l1pjqzZCNJgJ",
        "colab_type": "text"
      },
      "source": [
        "Train the model"
      ]
    },
    {
      "cell_type": "code",
      "metadata": {
        "id": "xbYtLruwwRfr",
        "colab_type": "code",
        "outputId": "b7edb777-9a7f-4634-eb84-8dbbfad4d069",
        "colab": {
          "base_uri": "https://localhost:8080/",
          "height": 527
        }
      },
      "source": [
        "# An epoch is one iteration over the entire input data\n",
        "no_of_epochs = 5000\n",
        "# How often you want to display training info.\n",
        "display_interval = 200\n",
        "\n",
        "for epoch in range(no_of_epochs):\n",
        "  predictions = linearRegression(x_data)\n",
        "  loss = loss_func(predictions, y_data)\n",
        "  loss.backward()\n",
        "  optimizer.step() #call step() to automatically update the parameters through our defined optimizer, which can be called once after backward()\n",
        "  optimizer.zero_grad() #reset the gradient as what we did before\n",
        "  if epoch % display_interval == 0 :\n",
        "      # calculate the cost of the current model\n",
        "      predictions = linearRegression(x_data)\n",
        "      loss = loss_func(predictions, y_data)          \n",
        "      print(\"Epoch:\", '%04d' % (epoch), \"loss=\", \"{:.8f}\".format(loss))\n",
        "\n",
        "print(\"=========================================================\")\n",
        "training_loss = mse(linearRegression(x_data), y_data)   \n",
        "print(\"Optimised:\", \"lost=\", \"{:.9f}\".format(training_loss.data))\n",
        "\n",
        "\n",
        "# Calculate testing loss\n",
        "testing_loss = loss_func(linearRegression(x_test_data), y_test_data) \n",
        "print(\"Testing loss=\", \"{:.9f}\".format(testing_loss.data))\n",
        "print(\"Absolute mean square loss difference:\", \"{:.9f}\".format(abs(\n",
        "      training_loss.data - testing_loss.data)))"
      ],
      "execution_count": 28,
      "outputs": [
        {
          "output_type": "stream",
          "text": [
            "Epoch: 0000 loss= 1.53134489\n",
            "Epoch: 0200 loss= 1.52791440\n",
            "Epoch: 0400 loss= 1.52450633\n",
            "Epoch: 0600 loss= 1.52112305\n",
            "Epoch: 0800 loss= 1.51776445\n",
            "Epoch: 1000 loss= 1.51442885\n",
            "Epoch: 1200 loss= 1.51111603\n",
            "Epoch: 1400 loss= 1.50782609\n",
            "Epoch: 1600 loss= 1.50455809\n",
            "Epoch: 1800 loss= 1.50131297\n",
            "Epoch: 2000 loss= 1.49809146\n",
            "Epoch: 2200 loss= 1.49489164\n",
            "Epoch: 2400 loss= 1.49171436\n",
            "Epoch: 2600 loss= 1.48855805\n",
            "Epoch: 2800 loss= 1.48542333\n",
            "Epoch: 3000 loss= 1.48230934\n",
            "Epoch: 3200 loss= 1.47921944\n",
            "Epoch: 3400 loss= 1.47614968\n",
            "Epoch: 3600 loss= 1.47310162\n",
            "Epoch: 3800 loss= 1.47007322\n",
            "Epoch: 4000 loss= 1.46706510\n",
            "Epoch: 4200 loss= 1.46407747\n",
            "Epoch: 4400 loss= 1.46111226\n",
            "Epoch: 4600 loss= 1.45816648\n",
            "Epoch: 4800 loss= 1.45524025\n",
            "=========================================================\n",
            "Optimised: lost= 1.452348113\n",
            "Testing loss= 1.944238067\n",
            "Absolute mean square loss difference: 0.491889954\n"
          ],
          "name": "stdout"
        }
      ]
    },
    {
      "cell_type": "markdown",
      "metadata": {
        "id": "7g3eNemEOklg",
        "colab_type": "text"
      },
      "source": [
        "# NLTK Library and WordNet"
      ]
    },
    {
      "cell_type": "markdown",
      "metadata": {
        "id": "D8btJKEBxSS1",
        "colab_type": "text"
      },
      "source": [
        "WordNet® is a large lexical database of English. Nouns, verbs, adjectives and adverbs are grouped into sets of cognitive synonyms (synsets), each expressing a distinct concept."
      ]
    },
    {
      "cell_type": "markdown",
      "metadata": {
        "id": "ofWRw7omOeWf",
        "colab_type": "text"
      },
      "source": [
        "In Python, NLTK library includes English WordNet.\n",
        "\n",
        "**To use wordnet, you need to download the wordnet data via NLTK library**\n",
        "\n",
        " * **[NLTK](https://www.nltk.org/)** is a **N**atural **L**anguage **T**ool**k**iit for python. "
      ]
    },
    {
      "cell_type": "code",
      "metadata": {
        "id": "iVqxuaIpOIOl",
        "colab_type": "code",
        "colab": {}
      },
      "source": [
        "import nltk"
      ],
      "execution_count": 0,
      "outputs": []
    },
    {
      "cell_type": "markdown",
      "metadata": {
        "id": "I2cusD7IovCi",
        "colab_type": "text"
      },
      "source": [
        "## WordNet"
      ]
    },
    {
      "cell_type": "code",
      "metadata": {
        "id": "OuDwzN6OosjB",
        "colab_type": "code",
        "outputId": "b8dbf544-3943-43a0-9925-65ceee89592c",
        "colab": {
          "base_uri": "https://localhost:8080/",
          "height": 70
        }
      },
      "source": [
        "nltk.download('wordnet')"
      ],
      "execution_count": 30,
      "outputs": [
        {
          "output_type": "stream",
          "text": [
            "[nltk_data] Downloading package wordnet to /root/nltk_data...\n",
            "[nltk_data]   Unzipping corpora/wordnet.zip.\n"
          ],
          "name": "stdout"
        },
        {
          "output_type": "execute_result",
          "data": {
            "text/plain": [
              "True"
            ]
          },
          "metadata": {
            "tags": []
          },
          "execution_count": 30
        }
      ]
    },
    {
      "cell_type": "code",
      "metadata": {
        "id": "1JKvb0XKNzxw",
        "colab_type": "code",
        "colab": {}
      },
      "source": [
        "from nltk.corpus import wordnet as wn"
      ],
      "execution_count": 0,
      "outputs": []
    },
    {
      "cell_type": "markdown",
      "metadata": {
        "id": "ucVb1XeAnnFo",
        "colab_type": "text"
      },
      "source": [
        "Let's get a set of synonyms that share a common meaning."
      ]
    },
    {
      "cell_type": "code",
      "metadata": {
        "id": "ecoLLQPlxlOc",
        "colab_type": "code",
        "colab": {}
      },
      "source": [
        "dog = wn.synset('dog.n.01')\n",
        "person = wn.synset('person.n.01')\n",
        "cat = wn.synset('cat.n.01')\n",
        "computer = wn.synset('computer.n.01')"
      ],
      "execution_count": 0,
      "outputs": []
    },
    {
      "cell_type": "markdown",
      "metadata": {
        "id": "P4rd7JPrr4sc",
        "colab_type": "text"
      },
      "source": [
        "### path_similarity()\n",
        "path_similarity() returns a score denoting how similar two word senses are, based on the shortest path that connects the senses in the is-a (hypernym/hypnoym) taxonomy. The score is in the range 0 to 1."
      ]
    },
    {
      "cell_type": "code",
      "metadata": {
        "id": "aiTFSsHqsREt",
        "colab_type": "code",
        "outputId": "f0bc533c-724d-476f-c2f5-2be84483aff7",
        "colab": {
          "base_uri": "https://localhost:8080/",
          "height": 87
        }
      },
      "source": [
        "print(\"dog<->cat : \", wn.path_similarity(dog,cat))\n",
        "print(\"person<->cat : \", wn.path_similarity(person,cat))\n",
        "print(\"person<->dog : \", wn.path_similarity(person,dog))\n",
        "print(\"person<->computer : \", wn.path_similarity(person,computer))"
      ],
      "execution_count": 33,
      "outputs": [
        {
          "output_type": "stream",
          "text": [
            "dog<->cat :  0.2\n",
            "person<->cat :  0.1\n",
            "person<->dog :  0.2\n",
            "person<->computer :  0.1111111111111111\n"
          ],
          "name": "stdout"
        }
      ]
    },
    {
      "cell_type": "markdown",
      "metadata": {
        "id": "rJfYbAtPrMNS",
        "colab_type": "text"
      },
      "source": [
        "### Wu-Palmer Similarity (wup_similarity() )\n",
        "wup_similarity() returns a score denoting how similar two word senses are, based on the depth of the two senses in the taxonomy and that of their Least Common Subsumer (most specific ancestor node)."
      ]
    },
    {
      "cell_type": "code",
      "metadata": {
        "id": "Jno6d9Mdrbu0",
        "colab_type": "code",
        "outputId": "6c5072cb-6f41-4c6b-8250-5de634f76817",
        "colab": {
          "base_uri": "https://localhost:8080/",
          "height": 87
        }
      },
      "source": [
        "print(\"dog<->cat : \", wn.wup_similarity(dog,cat))\n",
        "print(\"person<->cat : \", wn.wup_similarity(person,cat))\n",
        "print(\"person<->dog : \", wn.wup_similarity(person,dog))\n",
        "print(\"person<->computer : \", wn.wup_similarity(person,computer))"
      ],
      "execution_count": 34,
      "outputs": [
        {
          "output_type": "stream",
          "text": [
            "dog<->cat :  0.8571428571428571\n",
            "person<->cat :  0.5714285714285714\n",
            "person<->dog :  0.75\n",
            "person<->computer :  0.5\n"
          ],
          "name": "stdout"
        }
      ]
    },
    {
      "cell_type": "markdown",
      "metadata": {
        "id": "RVtVC7LnqS9T",
        "colab_type": "text"
      },
      "source": [
        "# TFIDF (Term Frequency Inverse Document Frequency)\n",
        "\n",
        "TFIDF is a statistical measure used to evaluate how important a word is to a document in a collection or corpus. The importance increases proportionally to the number of times a word appears in the document but is offset by the frequency of the word in the corpus.\n",
        "\n",
        "\n",
        "**Tokenization**"
      ]
    },
    {
      "cell_type": "code",
      "metadata": {
        "id": "hcjJPxPIHsVo",
        "colab_type": "code",
        "outputId": "896b277e-8219-4142-abea-cfc95532313d",
        "colab": {
          "base_uri": "https://localhost:8080/",
          "height": 422
        }
      },
      "source": [
        "import nltk\n",
        "nltk.download('punkt')\n",
        "from nltk.tokenize import word_tokenize, sent_tokenize\n",
        "\n",
        "import re\n",
        "import numpy as np\n",
        "\n",
        "nltk.download('stopwords')\n",
        "from nltk.corpus import stopwords as sw\n",
        "\n",
        "corpus = [\n",
        "    'Caren loves the NLP. The NLP hates Caren', #document 1\n",
        "    'Caren hates the NLP' #document 2\n",
        "]\n",
        "\n",
        "#Tokenize sentences - for only doc1\n",
        "tokenized_sentence = sent_tokenize(corpus[0])\n",
        "print(\"\\ntokenized_sentence: \")\n",
        "print(tokenized_sentence)\n",
        "\n",
        "#Remove punctuations - for only doc1\n",
        "clean_doc1 = re.sub(r'[^\\w\\s]','',corpus[0])\n",
        "print(\"\\nclean_sentence: \")\n",
        "print(clean_doc1)\n",
        "\n",
        "#Tokenize words - for only doc1\n",
        "tokenized_doc1 = word_tokenize(clean_doc1)\n",
        "print(\"\\ntokenized_word: \")\n",
        "print(tokenized_doc1)\n",
        "\n",
        "# Convert the tokens into lowercase: lower_tokens\n",
        "lower_tokens = [t.lower() for t in tokenized_doc1]\n",
        "print(\"\\nlower_case: \")\n",
        "print(lower_tokens)\n",
        "\n",
        "#stop word removal\n",
        "sww = sw.words()\n",
        "tokenized_doc1 = [w for w in lower_tokens if not w in sww]\n",
        "print(\"\\ntokensized_word (in lower case, w/o stopwords): \")\n",
        "print(tokenized_doc1)\n",
        "\n",
        "#same process for doc2\n",
        "clean_doc2 = re.sub(r'[^\\w\\s]','',corpus[1])\n",
        "tokenized_doc2 = word_tokenize(clean_doc2)\n",
        "lower_tokens2 = [t.lower() for t in tokenized_doc2]\n",
        "tokenized_doc2 = [w for w in lower_tokens2 if not w in sww]\n",
        "\n",
        "tokensized_docs = [tokenized_doc1, tokenized_doc2]\n",
        "print(\"\\nfinal_docs: \")\n",
        "print(tokensized_docs[0])\n",
        "print(tokensized_docs[1])"
      ],
      "execution_count": 35,
      "outputs": [
        {
          "output_type": "stream",
          "text": [
            "[nltk_data] Downloading package punkt to /root/nltk_data...\n",
            "[nltk_data]   Unzipping tokenizers/punkt.zip.\n",
            "[nltk_data] Downloading package stopwords to /root/nltk_data...\n",
            "[nltk_data]   Unzipping corpora/stopwords.zip.\n",
            "\n",
            "tokenized_sentence: \n",
            "['Caren loves the NLP.', 'The NLP hates Caren']\n",
            "\n",
            "clean_sentence: \n",
            "Caren loves the NLP The NLP hates Caren\n",
            "\n",
            "tokenized_word: \n",
            "['Caren', 'loves', 'the', 'NLP', 'The', 'NLP', 'hates', 'Caren']\n",
            "\n",
            "lower_case: \n",
            "['caren', 'loves', 'the', 'nlp', 'the', 'nlp', 'hates', 'caren']\n",
            "\n",
            "tokensized_word (in lower case, w/o stopwords): \n",
            "['caren', 'loves', 'nlp', 'nlp', 'hates', 'caren']\n",
            "\n",
            "final_docs: \n",
            "['caren', 'loves', 'nlp', 'nlp', 'hates', 'caren']\n",
            "['caren', 'hates', 'nlp']\n"
          ],
          "name": "stdout"
        }
      ]
    },
    {
      "cell_type": "markdown",
      "metadata": {
        "id": "NSeX6VnhTeA5",
        "colab_type": "text"
      },
      "source": [
        "**Document Frequency (DF)**\n",
        "\n",
        "DF is the count of occurrences of term t in the document set N\n",
        "\n",
        "*df(t) = occurrence of t in documents*\n",
        "\n",
        "*idf(t) = log(N/(df + 1))*\n",
        "\n"
      ]
    },
    {
      "cell_type": "code",
      "metadata": {
        "id": "aEOTCuiZTdl6",
        "colab_type": "code",
        "outputId": "de91174e-677b-4940-94b2-546792f118e0",
        "colab": {
          "base_uri": "https://localhost:8080/",
          "height": 35
        }
      },
      "source": [
        "DF = {}\n",
        "\n",
        "for tokensized_doc in tokensized_docs:\n",
        "    # get each unique word in the doc - we need to know whether the word is appeared in the document\n",
        "    for term in np.unique(tokensized_doc):\n",
        "        try:\n",
        "            DF[term] +=1\n",
        "        except:\n",
        "            DF[term] =1\n",
        "\n",
        "DF"
      ],
      "execution_count": 36,
      "outputs": [
        {
          "output_type": "execute_result",
          "data": {
            "text/plain": [
              "{'caren': 2, 'hates': 2, 'loves': 1, 'nlp': 2}"
            ]
          },
          "metadata": {
            "tags": []
          },
          "execution_count": 36
        }
      ]
    },
    {
      "cell_type": "code",
      "metadata": {
        "id": "G6s15-FpdhrM",
        "colab_type": "code",
        "outputId": "b9850335-4fe4-470d-f841-f634af866464",
        "colab": {
          "base_uri": "https://localhost:8080/",
          "height": 35
        }
      },
      "source": [
        "DF['caren']"
      ],
      "execution_count": 37,
      "outputs": [
        {
          "output_type": "execute_result",
          "data": {
            "text/plain": [
              "2"
            ]
          },
          "metadata": {
            "tags": []
          },
          "execution_count": 37
        }
      ]
    },
    {
      "cell_type": "markdown",
      "metadata": {
        "id": "AEpq2ws8Lsos",
        "colab_type": "text"
      },
      "source": [
        "**TF-IDF calculation**"
      ]
    },
    {
      "cell_type": "code",
      "metadata": {
        "id": "tNeraCvfIO3E",
        "colab_type": "code",
        "outputId": "293b0212-68d0-4231-b96d-8f2e25524195",
        "colab": {
          "base_uri": "https://localhost:8080/",
          "height": 140
        }
      },
      "source": [
        "from nltk.corpus import stopwords\n",
        "from nltk.tokenize import word_tokenize\n",
        "from collections import Counter\n",
        "import math\n",
        "\n",
        "\n",
        "tf_idf = {}\n",
        "\n",
        "# total number of documents\n",
        "N = len(tokensized_docs)\n",
        "\n",
        "doc_id = 0\n",
        "# get each tokenised doc\n",
        "for tokensized_doc in tokensized_docs:\n",
        "    # initialise counter for the doc\n",
        "    counter = Counter(tokensized_doc)\n",
        "    # calculate total number of words in the doc\n",
        "    total_num_words = len(tokensized_doc)    \n",
        "\n",
        "    # get each unique word in the doc\n",
        "    for term in np.unique(tokensized_doc):\n",
        "\n",
        "        #calculate Term Frequency \n",
        "        tf = counter[term]/total_num_words\n",
        "        \n",
        "        #calculate Document Frequency\n",
        "        df = DF[term]\n",
        "\n",
        "        # calculate Inverse Document Frequency\n",
        "        idf = math.log(N/(df+1))+1\n",
        "\n",
        "        # calculate TF-IDF\n",
        "        tf_idf[doc_id, term] = tf*idf\n",
        "\n",
        "    doc_id += 1\n",
        "\n",
        "tf_idf"
      ],
      "execution_count": 105,
      "outputs": [
        {
          "output_type": "execute_result",
          "data": {
            "text/plain": [
              "{(0, 'caren'): 0.19817829729727854,\n",
              " (0, 'hates'): 0.09908914864863927,\n",
              " (0, 'loves'): 0.16666666666666666,\n",
              " (0, 'nlp'): 0.19817829729727854,\n",
              " (1, 'caren'): 0.19817829729727854,\n",
              " (1, 'hates'): 0.19817829729727854,\n",
              " (1, 'nlp'): 0.19817829729727854}"
            ]
          },
          "metadata": {
            "tags": []
          },
          "execution_count": 105
        }
      ]
    },
    {
      "cell_type": "markdown",
      "metadata": {
        "id": "tETfBpygMC-u",
        "colab_type": "text"
      },
      "source": [
        "**Sort by the importance - Descending Order**"
      ]
    },
    {
      "cell_type": "code",
      "metadata": {
        "id": "0R4BI1-UH35-",
        "colab_type": "code",
        "outputId": "e394e364-4282-4b13-919b-97018fc787e2",
        "colab": {
          "base_uri": "https://localhost:8080/",
          "height": 140
        }
      },
      "source": [
        "import numpy as np\n",
        "#sort the dictionary based on values\n",
        "dict_exmaple = tf_idf\n",
        "sorted_dict = sorted(dict_exmaple.items(), key=lambda x: x[1], reverse=True)\n",
        "sorted_dict"
      ],
      "execution_count": 39,
      "outputs": [
        {
          "output_type": "execute_result",
          "data": {
            "text/plain": [
              "[((0, 'caren'), 0.19817829729727854),\n",
              " ((0, 'nlp'), 0.19817829729727854),\n",
              " ((1, 'caren'), 0.19817829729727854),\n",
              " ((1, 'hates'), 0.19817829729727854),\n",
              " ((1, 'nlp'), 0.19817829729727854),\n",
              " ((0, 'loves'), 0.16666666666666666),\n",
              " ((0, 'hates'), 0.09908914864863927)]"
            ]
          },
          "metadata": {
            "tags": []
          },
          "execution_count": 39
        }
      ]
    },
    {
      "cell_type": "markdown",
      "metadata": {
        "id": "aqD22EW5PZRa",
        "colab_type": "text"
      },
      "source": [
        "# Exercise\n",
        "\n",
        "**Write a function which returns the top N (e.g. 10 or 20) words with the largest tf value and with the largest tfidf values for a paragraph of corpus (Wikipedia page - Sydney and Melbourne).**"
      ]
    },
    {
      "cell_type": "code",
      "metadata": {
        "id": "bAd2bqFR3CfJ",
        "colab_type": "code",
        "outputId": "43036f6d-6d1c-454e-9ad4-3b2b2110e0fb",
        "colab": {
          "base_uri": "https://localhost:8080/",
          "height": 301
        }
      },
      "source": [
        "!pip install wikipedia\n",
        "import wikipedia\n"
      ],
      "execution_count": 40,
      "outputs": [
        {
          "output_type": "stream",
          "text": [
            "Collecting wikipedia\n",
            "  Downloading https://files.pythonhosted.org/packages/67/35/25e68fbc99e672127cc6fbb14b8ec1ba3dfef035bf1e4c90f78f24a80b7d/wikipedia-1.4.0.tar.gz\n",
            "Requirement already satisfied: beautifulsoup4 in /usr/local/lib/python3.6/dist-packages (from wikipedia) (4.6.3)\n",
            "Requirement already satisfied: requests<3.0.0,>=2.0.0 in /usr/local/lib/python3.6/dist-packages (from wikipedia) (2.21.0)\n",
            "Requirement already satisfied: urllib3<1.25,>=1.21.1 in /usr/local/lib/python3.6/dist-packages (from requests<3.0.0,>=2.0.0->wikipedia) (1.24.3)\n",
            "Requirement already satisfied: chardet<3.1.0,>=3.0.2 in /usr/local/lib/python3.6/dist-packages (from requests<3.0.0,>=2.0.0->wikipedia) (3.0.4)\n",
            "Requirement already satisfied: certifi>=2017.4.17 in /usr/local/lib/python3.6/dist-packages (from requests<3.0.0,>=2.0.0->wikipedia) (2019.11.28)\n",
            "Requirement already satisfied: idna<2.9,>=2.5 in /usr/local/lib/python3.6/dist-packages (from requests<3.0.0,>=2.0.0->wikipedia) (2.8)\n",
            "Building wheels for collected packages: wikipedia\n",
            "  Building wheel for wikipedia (setup.py) ... \u001b[?25l\u001b[?25hdone\n",
            "  Created wheel for wikipedia: filename=wikipedia-1.4.0-cp36-none-any.whl size=11686 sha256=b833502b1baecea010ddc8f8a6ab3131d0565edc57eec8c6cad43441e04e74db\n",
            "  Stored in directory: /root/.cache/pip/wheels/87/2a/18/4e471fd96d12114d16fe4a446d00c3b38fb9efcb744bd31f4a\n",
            "Successfully built wikipedia\n",
            "Installing collected packages: wikipedia\n",
            "Successfully installed wikipedia-1.4.0\n"
          ],
          "name": "stdout"
        }
      ]
    },
    {
      "cell_type": "code",
      "metadata": {
        "id": "4JSYTirTx6ML",
        "colab_type": "code",
        "colab": {}
      },
      "source": [
        "cities = [\"Canberra\",\"Perth\", \"Sydney\", \"Melbourne\", \"Darwin,_Northern_Territory\", \"Brisbane\", \"Hobart\"]\n",
        "corpus = [wikipedia.page(city).content for city in cities]"
      ],
      "execution_count": 0,
      "outputs": []
    },
    {
      "cell_type": "code",
      "metadata": {
        "id": "qgdayfSF_RW-",
        "colab_type": "code",
        "outputId": "63cdf179-bb47-481c-84b7-1deae28864c5",
        "colab": {
          "base_uri": "https://localhost:8080/",
          "height": 492
        }
      },
      "source": [
        "# You should submit \"ipynb\" file (You can download it from \"File\" > \"Download .ipynb\") to Canvas\n",
        "# You can write extra functions if you need\n",
        "\n",
        "#pass both the corpus and the number of words to focus into the function\n",
        "#In the function, you may:\n",
        "  #process the corpus (e.g. tokenization) - provided\n",
        "  #calculate the tf/tfidf values for each unique words\n",
        "  #sorting the words based on the tf/tfidf values\n",
        "  #print out the top n tf words tfidf words from the sorted list in parallel for comparison\n",
        "\n",
        "def cleaning(corpus):\n",
        "  tokenized_docs=[]\n",
        "  for doc in corpus:\n",
        "    clean_doc = re.sub(r'[^\\w\\s]','', doc)\n",
        "    tokenized_sentence = sent_tokenize(clean_doc.lower())\n",
        "    lower_case = word_tokenize(clean_doc.lower())\n",
        "    stopword_removal = [w for w in lower_case if not w in sww]\n",
        "    tokenized_docs.append(stopword_removal)\n",
        "  \n",
        "  return tokenized_docs\n",
        "\n",
        "def get_df(tokenized_docs):\n",
        "  DF = {}\n",
        "  for tokenized_docs in tokenized_docs:\n",
        "    for term in np.unique(tokenized_docs):\n",
        "      try:\n",
        "        DF[term] +=1\n",
        "      except:\n",
        "        DF[term] =1  \n",
        "  return DF\n",
        "\n",
        "def get_tf_and_idf(corpus, top_n):\n",
        "  tokenized_docs = cleaning(corpus)\n",
        "  tf_idf = {}\n",
        "  tf_1 = {}\n",
        "  N = len(tokenized_docs)\n",
        "  doc_id = 0\n",
        "\n",
        "  DF = get_df(tokenized_docs)\n",
        "  for tokenized_docs in tokenized_docs:    \n",
        "    counter = Counter(tokenized_docs)\n",
        "    total_num_words = len(tokenized_docs)  \n",
        "    \n",
        "    for term in np.unique(tokenized_docs): \n",
        "      tf = counter[term]/total_num_words\n",
        "      df = DF[term]\n",
        "      idf = math.log(N/(df+1))+1\n",
        "      tf_1[doc_id, term] = tf\n",
        "      tf_idf[doc_id, term] = tf*idf\n",
        "        \n",
        "    doc_id += 1\n",
        "\n",
        "  print(\"Total docs in corpus: \" + str(N))\n",
        "  print(\"\")\n",
        "  print(\"Top 10 of tf values:\")\n",
        "  print(\"(doc id , word: tf)\")\n",
        "  sorted_dict = sorted(tf_1.items(), key=lambda x: x[1], reverse=True)\n",
        "  for i in range(top_n):\n",
        "    print(sorted_dict[i])\n",
        "  print(\"\")\n",
        "  print(\"Top 10 of tfidf values:\")\n",
        "  print(\"(doc id , word: tf*idf)\")\n",
        "  sorted_dict = sorted(tf_idf.items(), key=lambda x: x[1], reverse=True)\n",
        "  for i in range(top_n):\n",
        "    print(sorted_dict[i])\n",
        "\n",
        "get_tf_and_idf(corpus, 10)\n",
        "\n",
        "#Expected Outcomes are as follows:"
      ],
      "execution_count": 128,
      "outputs": [
        {
          "output_type": "stream",
          "text": [
            "Total docs in corpus: 7\n",
            "\n",
            "Top 10 of tf values:\n",
            "(doc id , word: tf)\n",
            "((5, 'brisbane'), 0.04632814080517904)\n",
            "((4, 'darwin'), 0.04120879120879121)\n",
            "((3, 'melbourne'), 0.03969006957621758)\n",
            "((1, 'perth'), 0.03878231859883236)\n",
            "((2, 'sydney'), 0.03666121112929623)\n",
            "((6, 'hobart'), 0.03344575604272063)\n",
            "((0, 'canberra'), 0.02618181818181818)\n",
            "((3, 'city'), 0.014705882352941176)\n",
            "((5, 'city'), 0.01436374671252276)\n",
            "((6, 'city'), 0.013771781899943788)\n",
            "\n",
            "Top 10 of tfidf values:\n",
            "(doc id , word: tf*idf)\n",
            "((4, 'darwin'), 0.055074405355269765)\n",
            "((5, 'brisbane'), 0.05346965520543033)\n",
            "((1, 'perth'), 0.044760639376119696)\n",
            "((6, 'hobart'), 0.04469932438390229)\n",
            "((2, 'sydney'), 0.03666121112929623)\n",
            "((0, 'canberra'), 0.03499127310426448)\n",
            "((3, 'melbourne'), 0.03439019931234105)\n",
            "((5, 'queensland'), 0.015176976368353589)\n",
            "((4, 'darwins'), 0.013409303383901)\n",
            "((5, 'brisbanes'), 0.013216695546503272)\n"
          ],
          "name": "stdout"
        }
      ]
    }
  ]
}