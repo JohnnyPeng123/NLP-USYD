{
  "nbformat": 4,
  "nbformat_minor": 0,
  "metadata": {
    "colab": {
      "name": "“Lab03.ipynb”的副本",
      "provenance": [],
      "collapsed_sections": [],
      "toc_visible": true
    },
    "kernelspec": {
      "name": "python3",
      "display_name": "Python 3"
    }
  },
  "cells": [
    {
      "cell_type": "markdown",
      "metadata": {
        "id": "Rn_kEIjOfZ2I",
        "colab_type": "text"
      },
      "source": [
        "# Lab03"
      ]
    },
    {
      "cell_type": "markdown",
      "metadata": {
        "id": "lJPx2i5C0Bfc",
        "colab_type": "text"
      },
      "source": [
        "# Exercise\n",
        "\n",
        "In the tutorial, we learned how to train a word2vec skip-gram model in pytorch, and we manually updates the parameters (weights) in it. \n",
        "\n",
        "In this Lab 03 exercise, please use the \"NN Model\" and the \"Optimiser\" (that we learned in the above sections) to train a word2vec skip-gram model.\n",
        "\n",
        "Note: The embedding size should 2. The code for the preprocessing and the hyperparameter setup are provided. Have fun!\n",
        "\n",
        "\n"
      ]
    },
    {
      "cell_type": "code",
      "metadata": {
        "id": "ExuvDSozHRb4",
        "colab_type": "code",
        "colab": {}
      },
      "source": [
        "#preprocess and hyperparameters\n",
        "\n",
        "import matplotlib\n",
        "import matplotlib.pyplot as plt\n",
        "import numpy as np\n",
        "\n",
        "# raw data - setences \n",
        "sentences = [\"he likes cat\",\n",
        "             \"he likes dog\",\n",
        "             \"he likes animal\",\n",
        "             \"dog cat animal\",\n",
        "             \"she likes cat\",\n",
        "             \"she dislikes dog\",\n",
        "             \"cat likes fish\",\n",
        "             \"cat likes milk\",\n",
        "             \"dog likes bone\",\n",
        "             \"dog dislikes fish\",\n",
        "             \"dog likes milk\",\n",
        "             \"she likes movie\",\n",
        "             \"she likes music\",\n",
        "             \"he likes game\",\n",
        "             \"he likes movie\",\n",
        "             \"cat dislikes dog\"]\n",
        "\n",
        "# convert all sentences to unique word list\n",
        "word_sequence = \" \".join(sentences).split()\n",
        "word_list = \" \".join(sentences).split()\n",
        "word_list = list(set(word_list))\n",
        "\n",
        "# make dictionary so that we can be reference each index of unique word\n",
        "word_dict = {w: i for i, w in enumerate(word_list)}\n",
        "\n",
        "# Making window size 1 skip-gram\n",
        "# i.e.) he likes cat\n",
        "#   -> (he, [likes]), (likes,[he, cat]), (cat,[likes])\n",
        "#   -> (he, likes), (likes, he), (likes, cat), (cat, likes)\n",
        "skip_grams = []\n",
        "\n",
        "for i in range(1, len(word_sequence) - 1):\n",
        "    # (context, target) : ([target index - 1, target index + 1], target)\n",
        "    target = word_dict[word_sequence[i]]\n",
        "    context = [word_dict[word_sequence[i - 1]], word_dict[word_sequence[i + 1]]]\n",
        "\n",
        "    # skipgrams - (target, context[0]), (target, context[1])..\n",
        "    for w in context:\n",
        "        skip_grams.append([target, w])\n",
        "\n",
        "\n",
        "# prepare random batch from skip-gram - we do not have enought data so we randomly select data\n",
        "def prepare_batch(data, size):\n",
        "    random_inputs = []\n",
        "    random_labels = []\n",
        "    random_index = np.random.choice(range(len(data)), size, replace=False)\n",
        "\n",
        "    for i in random_index:\n",
        "        input_temp = [0]*voc_size\n",
        "        input_temp[data[i][0]] = 1\n",
        "        random_inputs.append(input_temp)  # target\n",
        "        random_labels.append(data[i][1])  # context word\n",
        "\n",
        "    return np.array(random_inputs), np.array(random_labels)\n",
        "\n",
        "#hyperparameters\n",
        "voc_size = len(word_list)\n",
        "learning_rate = 0.1\n",
        "batch_size = 10\n",
        "embedding_size = 2"
      ],
      "execution_count": 0,
      "outputs": []
    },
    {
      "cell_type": "code",
      "metadata": {
        "id": "x5-33jOlBf2E",
        "colab_type": "code",
        "outputId": "39da1a01-1973-466f-c9b1-27ef741d4a81",
        "colab": {
          "base_uri": "https://localhost:8080/",
          "height": 193
        }
      },
      "source": [
        "# You should submit \"ipynb\" file (You can download it from \"File\" > \"Download .ipynb\") to Canvas\n",
        "# Please include the required libraries\n",
        "\n",
        "import torch\n",
        "import torch.nn as nn\n",
        "import torch.optim as optim\n",
        "\n",
        "class SkipGram(nn.Module):\n",
        "    def __init__(self):\n",
        "        super(SkipGram, self).__init__()\n",
        "        #You need to use \"bias=False\" when you define Linear functions\n",
        "        #***************put your code here***************\n",
        "        self.linear1 = nn.Linear(voc_size, embedding_size,bias=False)\n",
        "        self.linear2 = nn.Linear(embedding_size, voc_size,bias=False)\n",
        "\n",
        "    def forward(self, x):\n",
        "        hidden = self.linear1(x)\n",
        "        out = self.linear2(hidden)\n",
        "        return out\n",
        "\n",
        "skip_gram_model = SkipGram()\n",
        "criterion = nn.CrossEntropyLoss() #please note we are using \"CrossEntropyLoss\" here\n",
        "optimiser = optim.SGD(skip_gram_model.parameters(), lr=learning_rate)\n",
        "\n",
        "for epoch in range(5000):\n",
        "\n",
        "    inputs,labels = prepare_batch(skip_grams, batch_size)\n",
        "    inputs_torch = torch.from_numpy(inputs).float()\n",
        "    labels_torch = torch.from_numpy(labels)\n",
        "\n",
        "    #***************put your code here***************\n",
        "\n",
        "    skip_gram_model.train()\n",
        "    # zero the parameter gradients\n",
        "    optimiser.zero_grad()\n",
        "\n",
        "    # forward + backward + optimize\n",
        "    outputs = skip_gram_model(inputs_torch)\n",
        "    loss = criterion(outputs, labels_torch) # We don't need to calcualte logsoftmax here\n",
        "    loss.backward()\n",
        "    optimiser.step()\n",
        "\n",
        "    if epoch % 500 == 499: \n",
        "        print('Epoch: %d, loss: %.4f' %(epoch + 1, loss))\n",
        "\n",
        "#Hint: you can refer lab1 to know how to get the weight from a Model Linear layer\n",
        "weight1 = skip_gram_model.linear1.weight.data\n",
        "trained_embeddings = weight1.detach().T.numpy()\n",
        "      "
      ],
      "execution_count": 0,
      "outputs": [
        {
          "output_type": "stream",
          "text": [
            "Epoch: 500, loss: 2.4979\n",
            "Epoch: 1000, loss: 2.0442\n",
            "Epoch: 1500, loss: 2.2392\n",
            "Epoch: 2000, loss: 1.8411\n",
            "Epoch: 2500, loss: 2.3674\n",
            "Epoch: 3000, loss: 1.6145\n",
            "Epoch: 3500, loss: 2.3483\n",
            "Epoch: 4000, loss: 1.9302\n",
            "Epoch: 4500, loss: 1.9033\n",
            "Epoch: 5000, loss: 1.7700\n"
          ],
          "name": "stdout"
        }
      ]
    },
    {
      "cell_type": "code",
      "metadata": {
        "id": "lZRyAdjGaufC",
        "colab_type": "code",
        "outputId": "1a005a03-1d49-4055-d2fe-a6221d4e1595",
        "colab": {
          "base_uri": "https://localhost:8080/",
          "height": 267
        }
      },
      "source": [
        "### Visualise result\n",
        "for i, label in enumerate(word_list):\n",
        "    x, y = trained_embeddings[i]\n",
        "    # print (label, \" : \", x, \" \" , y)\n",
        "    plt.scatter(x, y)\n",
        "    plt.annotate(label, xy=(x, y), xytext=(5, 2),\n",
        "                 textcoords='offset points', ha='right', va='bottom')\n",
        "\n",
        "plt.show()"
      ],
      "execution_count": 0,
      "outputs": [
        {
          "output_type": "display_data",
          "data": {
            "image/png": "[encoded data removed]",
            "text/plain": [
              "<Figure size 432x288 with 1 Axes>"
            ]
          },
          "metadata": {
            "tags": []
          }
        }
      ]
    }
  ]
}