{
  "nbformat": 4,
  "nbformat_minor": 0,
  "metadata": {
    "colab": {
      "name": "Lab03.ipynb",
      "provenance": [],
      "collapsed_sections": [],
      "toc_visible": true,
      "include_colab_link": true
    },
    "kernelspec": {
      "name": "python3",
      "display_name": "Python 3"
    }
  },
  "cells": [
    {
      "cell_type": "markdown",
      "metadata": {
        "id": "view-in-github",
        "colab_type": "text"
      },
      "source": [
        "<a href=\"https://colab.research.google.com/github/JohnnyPeng123/NLP-USYD/blob/master/Lab03.ipynb\" target=\"_parent\"><img src=\"https://colab.research.google.com/assets/colab-badge.svg\" alt=\"Open In Colab\"/></a>"
      ]
    },
    {
      "cell_type": "markdown",
      "metadata": {
        "id": "Rn_kEIjOfZ2I",
        "colab_type": "text"
      },
      "source": [
        "# Lab03"
      ]
    },
    {
      "cell_type": "markdown",
      "metadata": {
        "id": "OcAvq3CefbuL",
        "colab_type": "text"
      },
      "source": [
        "## Neural Network Example\n",
        "We are going to implement a Neural Network for identifying animal species using features of animals."
      ]
    },
    {
      "cell_type": "code",
      "metadata": {
        "id": "qEoHF5OqElbw",
        "colab_type": "code",
        "colab": {}
      },
      "source": [
        "import torch\n",
        "import numpy as np"
      ],
      "execution_count": 0,
      "outputs": []
    },
    {
      "cell_type": "markdown",
      "metadata": {
        "id": "_6KQ_iFvPHMe",
        "colab_type": "text"
      },
      "source": [
        "Let's say we have two features that represent each: \n",
        "1. Does animal has hair? \n",
        "2. Does animal has feather?\n",
        "\n",
        "![alt text](https://usydnlpgroup.files.wordpress.com/2020/03/lab3_1-e1584520889100.png)\n",
        "![alt text](https://usydnlpgroup.files.wordpress.com/2020/03/lab3_2-e1584520954981.png)\n",
        "![alt text](https://usydnlpgroup.files.wordpress.com/2020/03/lab3_3-e1584520932969.png)\n",
        "\n",
        "We would like to predict whether the animal is bird, mammal, or other. \n"
      ]
    },
    {
      "cell_type": "code",
      "metadata": {
        "id": "KA528d5gtbW4",
        "colab_type": "code",
        "colab": {}
      },
      "source": [
        "# [Hair, Feather]\n",
        "x_data = np.array(\n",
        "    [[0, 0], [1, 0], [1, 1], [0, 0], [0, 0], [0, 1]])\n",
        "x_data_torch = torch.from_numpy(x_data).float()  #You need to transform the data into Torch data type to be used in Pytorch\n",
        "#print(x_data_torch) #try print if you want to see the details\n",
        "\n",
        "y_data = np.array([0,1,2,0,0,2]) # 0-Other  1-Mammal  2-Bird\n",
        "y_data_torch = torch.from_numpy(y_data)\n",
        "#print(y_data_torch) #try print if you want to see the details\n",
        "\n",
        "# number of input (features), 2 - Hair, Feather\n",
        "num_input = 2\n",
        "# number of output (classes), 3 - Other, Mammal, Bird\n",
        "num_classes = 3"
      ],
      "execution_count": 0,
      "outputs": []
    },
    {
      "cell_type": "markdown",
      "metadata": {
        "id": "TI4k8NogzksQ",
        "colab_type": "text"
      },
      "source": [
        "\n",
        "**But, why One-hot encoding?**\n",
        "There is no ordinal relationship exists!"
      ]
    },
    {
      "cell_type": "markdown",
      "metadata": {
        "id": "ZIMNFiTB27Wv",
        "colab_type": "text"
      },
      "source": [
        "### No hidden layer with Manual Parameter Update\n",
        "\n",
        "Build a classification model without hidden layer.\n",
        "We manually update parameters (weight and bias) in this example."
      ]
    },
    {
      "cell_type": "code",
      "metadata": {
        "id": "tCUh760AMa37",
        "colab_type": "code",
        "outputId": "d5182db8-f55c-4b2f-f998-8ea60c9bbc27",
        "colab": {
          "base_uri": "https://localhost:8080/",
          "height": 161
        }
      },
      "source": [
        "from torch.autograd import Variable\n",
        "import torch.nn.functional as F\n",
        "from sklearn.metrics import accuracy_score\n",
        "\n",
        "# Initialize Weight and Bias manually, and setup the gradient\n",
        "W1 = Variable(torch.randn(num_input, num_classes).float(), requires_grad=True)  \n",
        "B1 = Variable(torch.randn(num_classes).float(), requires_grad=True)\n",
        "\n",
        "#Learning Rate - determines the step size at each iteration while moving toward a minimum of a loss function\n",
        "learning_rate=0.01\n",
        "#Epoch - A measure of the number of times all of the training vectors are used once to update the weights.\n",
        "number_of_epochs = 1000 #try 2000 epochs and see how it goes\n",
        "\n",
        "for epoch in range(number_of_epochs): \n",
        "\n",
        "    # forward propagataion - the calculation and storage of intermediate variables (incl. outputs) from the input layer to the output layer\n",
        "    z = torch.add(torch.matmul(x_data_torch ,W1),B1)\n",
        "    #softmax changes each value to have between 0 and 1, and all values will add up to 1\n",
        "    #i.e.) [8.04, 2.76, -6.52] -> [0.53 0.24 0.23]\n",
        "    #log_softmax applies logarithm after softmax.\n",
        "    #softmax: exp(x_i) / exp(x).sum() and log_softmax: log( exp(x_i) / exp(x).sum() )\n",
        "    #log_softmax essential does log(softmax(x)), but the practical implementation is different and more efficient\n",
        "    #https://pytorch.org/docs/master/nn.html?highlight=log_softmax#torch.nn.LogSoftmax\n",
        "    log_softmax = F.log_softmax(z,dim=1)\n",
        "\n",
        "    # calculate the loss\n",
        "    loss = F.nll_loss(log_softmax, y_data_torch)\n",
        "\n",
        "    # back propagation\n",
        "    loss.backward()  #calculate gradient\n",
        "    with torch.no_grad(): # When doing back propagation, do not accumalte gradient\n",
        "        W1.data -= learning_rate*W1.grad.data #Gradient descent\n",
        "        B1.data -= learning_rate*B1.grad.data\n",
        "    W1.grad.data.zero_() # reset the gradient\n",
        "    B1.grad.data.zero_()\n",
        "\n",
        "    if epoch % 200 == 199: \n",
        "        with torch.no_grad(): # prediction section does not require gradient \n",
        "            pred_outputs = torch.add(torch.matmul(x_data_torch ,W1),B1)\n",
        "            predicted = torch.argmax(pred_outputs, 1)\n",
        "            train_acc = accuracy_score(predicted.numpy(),y_data)\n",
        "            print('Epoch: %d, loss: %.4f, train_acc: %.3f' %(epoch + 1, loss , train_acc))\n",
        "\n",
        "### Result\n",
        "print('Predicted :', predicted.numpy())\n",
        "print('Answer :', y_data)\n",
        "print('Accuracy : %.2f' %train_acc)"
      ],
      "execution_count": 0,
      "outputs": [
        {
          "output_type": "stream",
          "text": [
            "Epoch: 200, loss: 1.3079, train_acc: 0.500\n",
            "Epoch: 400, loss: 0.9672, train_acc: 0.667\n",
            "Epoch: 600, loss: 0.7559, train_acc: 0.667\n",
            "Epoch: 800, loss: 0.6205, train_acc: 0.667\n",
            "Epoch: 1000, loss: 0.5262, train_acc: 0.833\n",
            "Predicted : [0 0 2 0 0 2]\n",
            "Answer : [0 1 2 0 0 2]\n",
            "Accuracy : 0.83\n"
          ],
          "name": "stdout"
        }
      ]
    },
    {
      "cell_type": "markdown",
      "metadata": {
        "id": "88ZeQitaiBHN",
        "colab_type": "text"
      },
      "source": [
        "### No hidden layer with the Optimiser\n"
      ]
    },
    {
      "cell_type": "code",
      "metadata": {
        "id": "UpnimRmV2Xlm",
        "colab_type": "code",
        "outputId": "5b90bd6c-0683-4870-fa6b-ffcaac04285d",
        "colab": {
          "base_uri": "https://localhost:8080/",
          "height": 179
        }
      },
      "source": [
        "import torch.nn as nn\n",
        "import torch.nn.functional as F\n",
        "import torch.optim as optim\n",
        "from sklearn.metrics import accuracy_score\n",
        "\n",
        "#Build a neural network model rather than initializing the parameters manually\n",
        "class Net(nn.Module):\n",
        "    def __init__(self):\n",
        "        super(Net, self).__init__()\n",
        "        self.linear = nn.Linear(num_input,num_classes) # This coresponds to W1,B1\n",
        "\n",
        "    def forward(self, x):\n",
        "        x = self.linear(x)\n",
        "        return x\n",
        "\n",
        "#get the model\n",
        "net = Net()\n",
        "\n",
        "#learning rate\n",
        "learning_rate=0.01\n",
        "\n",
        "#calculate loss by function. The negative log likelihood loss.\n",
        "criterion = nn.NLLLoss()\n",
        "\n",
        "# Define the optimiser\n",
        "# Pass the model parameters to be updated, and setup the learning rate when calling optim.SGD\n",
        "# Please find the detailed information about the SGD optimiser in PyTorch (https://pytorch.org/docs/stable/optim.html).\n",
        "optimiser = optim.SGD(net.parameters(), lr=learning_rate) \n",
        "\n",
        "#epochs\n",
        "no_of_epochs = 1000\n",
        "\n",
        "# Every epoch, the model will be modified by the given learning rate\n",
        "for epoch in range(no_of_epochs):  \n",
        "\n",
        "    # get the input and label\n",
        "    inputs = x_data_torch\n",
        "    labels = y_data_torch\n",
        "\n",
        "    # training the model\n",
        "    net.train()\n",
        "\n",
        "    # set the gradients to zero\n",
        "    optimiser.zero_grad()\n",
        "\n",
        "    # forward + backward + optimize\n",
        "    outputs = net(inputs)\n",
        "    loss = criterion(F.log_softmax(outputs,dim=1), labels)\n",
        "    loss.backward()\n",
        "    optimiser.step() # back propagation\n",
        "\n",
        "    if epoch % 200 == 199:    # print every 200 epochs\n",
        "        net.eval() # we are using the model to predict here\n",
        "        pred_outputs = net(inputs)\n",
        "        predicted = torch.argmax(outputs, 1)\n",
        "        train_acc = accuracy_score(predicted.numpy(),y_data)\n",
        "        print('%d, loss: %.3f, train_acc: %.3f' %(epoch + 1, loss.item(), train_acc))\n",
        "\n",
        "\n",
        "print('Finished Training')\n",
        "\n",
        "### Result\n",
        "net.eval()\n",
        "pred_outputs = net(inputs)\n",
        "predicted = torch.argmax(outputs, 1)\n",
        "print('Predicted :', predicted.numpy())\n",
        "print('Answer :', y_data)\n",
        "\n",
        "train_acc = accuracy_score(predicted.numpy(),y_data)\n",
        "print('Accuracy : %.2f' %train_acc)"
      ],
      "execution_count": 0,
      "outputs": [
        {
          "output_type": "stream",
          "text": [
            "200, loss: 0.968, train_acc: 0.333\n",
            "400, loss: 0.787, train_acc: 1.000\n",
            "600, loss: 0.657, train_acc: 1.000\n",
            "800, loss: 0.561, train_acc: 1.000\n",
            "1000, loss: 0.487, train_acc: 1.000\n",
            "Finished Training\n",
            "Predicted : [0 1 2 0 0 2]\n",
            "Answer : [0 1 2 0 0 2]\n",
            "Accuracy : 1.00\n"
          ],
          "name": "stdout"
        }
      ]
    },
    {
      "cell_type": "markdown",
      "metadata": {
        "id": "7RF_stSG5Nc6",
        "colab_type": "text"
      },
      "source": [
        "### Hidden Layer with Manual Parameter Update"
      ]
    },
    {
      "cell_type": "code",
      "metadata": {
        "id": "JFK1QHXQiFft",
        "colab_type": "code",
        "outputId": "99bb41d1-115c-4c10-b618-e9a580bb52c0",
        "colab": {
          "base_uri": "https://localhost:8080/",
          "height": 179
        }
      },
      "source": [
        "from torch.autograd import Variable\n",
        "import torch.nn as nn\n",
        "import torch.nn.functional as F\n",
        "from sklearn.metrics import accuracy_score\n",
        "\n",
        "#you can find the comment and explanation in the section - no hidden layer, manual parameter update section \n",
        "\n",
        "# number of neurons in hidden layer, \n",
        "n_hidden_1 = 5\n",
        "\n",
        "# [Input(Features), Output(number of neurons in hidden layer)]\n",
        "W1 = Variable(torch.randn(2, n_hidden_1).float(), requires_grad=True)\n",
        "# Let Hidden Layer Bias the number of output candidates, which is 5 (number of neurons in hidden layer).\n",
        "B1 = Variable(torch.randn(n_hidden_1).float(), requires_grad=True)\n",
        " # [Input(number of neurons in hidden layer), Output(Classes)]\n",
        "Wout = Variable(torch.randn(n_hidden_1, num_classes).float(), requires_grad=True)\n",
        "# Let Bias the number of output candidates, which is 3 (number of classes).\n",
        "Bout = Variable(torch.randn(num_classes).float(), requires_grad=True)\n",
        "\n",
        "learning_rate=0.01\n",
        "no_of_epochs = 1000\n",
        "\n",
        "for epoch in range(1000):    \n",
        "    z1 = torch.add(torch.matmul(x_data_torch ,W1),B1)\n",
        "    Zout = torch.add(torch.matmul(F.relu(z1) ,Wout),Bout)\n",
        "\n",
        "    log_softmax = F.log_softmax(Zout,dim=1)\n",
        "    loss = F.nll_loss(log_softmax, y_data_torch)\n",
        "\n",
        "    loss.backward()\n",
        "    with torch.no_grad():\n",
        "        W1.data -= learning_rate*W1.grad.data\n",
        "        B1.data -= learning_rate*B1.grad.data\n",
        "        Wout.data -= learning_rate*Wout.grad.data\n",
        "        Bout.data -= learning_rate*Bout.grad.data\n",
        "\n",
        "    W1.grad.data.zero_()\n",
        "    B1.grad.data.zero_()\n",
        "    Wout.grad.data.zero_()\n",
        "    Bout.grad.data.zero_()\n",
        "\n",
        "    if epoch % 200 == 199: \n",
        "        with torch.no_grad():\n",
        "            z1 = torch.add(torch.matmul(x_data_torch ,W1),B1)\n",
        "            Zout = torch.add(torch.matmul(F.relu(z1) ,Wout),Bout)\n",
        "            predicted = torch.argmax(Zout, 1)\n",
        "            train_acc = accuracy_score(predicted.numpy(),y_data)\n",
        "            print('Epoch: %d, loss: %.4f, train_acc: %.3f' %(epoch + 1, loss.item() , train_acc))\n",
        "print(\"Finished\")\n",
        "### Result\n",
        "print('Predicted :', predicted.numpy())\n",
        "print('Answer :', y_data)\n",
        "print('Accuracy : %.2f' %train_acc)"
      ],
      "execution_count": 0,
      "outputs": [
        {
          "output_type": "stream",
          "text": [
            "Epoch: 200, loss: 0.3950, train_acc: 1.000\n",
            "Epoch: 400, loss: 0.2147, train_acc: 1.000\n",
            "Epoch: 600, loss: 0.1311, train_acc: 1.000\n",
            "Epoch: 800, loss: 0.0900, train_acc: 1.000\n",
            "Epoch: 1000, loss: 0.0663, train_acc: 1.000\n",
            "Finished\n",
            "Predicted : [0 1 2 0 0 2]\n",
            "Answer : [0 1 2 0 0 2]\n",
            "Accuracy : 1.00\n"
          ],
          "name": "stdout"
        }
      ]
    },
    {
      "cell_type": "markdown",
      "metadata": {
        "id": "aZr6f7sVlmcn",
        "colab_type": "text"
      },
      "source": [
        "### Hidden Layer with the Optimiser\n"
      ]
    },
    {
      "cell_type": "code",
      "metadata": {
        "id": "3AZS2dx1_qpv",
        "colab_type": "code",
        "outputId": "24266586-874f-4679-80b6-02e5ec99bc1a",
        "colab": {
          "base_uri": "https://localhost:8080/",
          "height": 269
        }
      },
      "source": [
        "import torch.nn as nn\n",
        "import torch.nn.functional as F\n",
        "import torch.optim as optim\n",
        "\n",
        "#you can find the comment and explanation in the section - no hidden layer with the optimiser section \n",
        "\n",
        "\n",
        "class Net(nn.Module):\n",
        "    def __init__(self):\n",
        "        super(Net, self).__init__()\n",
        "        self.linear1 = nn.Linear(num_input, n_hidden_1)\n",
        "        self.linear2 = nn.Linear(n_hidden_1, num_classes)\n",
        "\n",
        "    def forward(self, x):\n",
        "        z1 = self.linear1(x)\n",
        "        Zout = self.linear2(F.relu(z1))\n",
        "        return Zout\n",
        "\n",
        "net = Net()\n",
        "\n",
        "learning_rate=0.01\n",
        "# If you apply Pytorch’s CrossEntropyLoss to your output layer,\n",
        "# you get the same result as applying Pytorch’s NLLLoss to a LogSoftmax layer added after your original output layer.\n",
        "criterion = nn.CrossEntropyLoss() \n",
        "optimiser = optim.SGD(net.parameters(), lr=learning_rate)\n",
        "\n",
        "\n",
        "from sklearn.metrics import accuracy_score\n",
        "\n",
        "for epoch in range(2000):  # loop over the dataset multiple times\n",
        "\n",
        "    # get the inputs\n",
        "    inputs = x_data_torch\n",
        "    labels = y_data_torch\n",
        "\n",
        "    net.train()\n",
        "    # zero the parameter gradients\n",
        "    optimiser.zero_grad()\n",
        "\n",
        "    # forward + backward + optimize\n",
        "    outputs = net(inputs)\n",
        "    loss = criterion(outputs, labels) # We don't need to calcualte logsoftmax here\n",
        "    loss.backward()\n",
        "    optimiser.step()\n",
        "\n",
        "    # print statistics\n",
        "    if epoch % 200 == 199:    # print every 200 epochs\n",
        "        net.eval()\n",
        "        pred_outputs = net(inputs)\n",
        "        predicted = torch.argmax(outputs, 1)\n",
        "        train_acc = accuracy_score(predicted.numpy(),y_data)\n",
        "        print('%d, loss: %.4f, train_acc: %.4f' %(epoch + 1, loss.item(), train_acc))\n",
        "\n",
        "print('Finished Training')\n",
        "\n",
        "### Result\n",
        "pred_outputs = net(inputs)\n",
        "_, predicted = torch.max(outputs, 1)\n",
        "print('Predicted :', predicted.numpy())\n",
        "print('Answer :', y_data)\n",
        "\n",
        "train_acc = accuracy_score(predicted.numpy(),y_data)\n",
        "print('Accuracy : %.2f' %train_acc)"
      ],
      "execution_count": 0,
      "outputs": [
        {
          "output_type": "stream",
          "text": [
            "200, loss: 0.7656, train_acc: 0.8333\n",
            "400, loss: 0.5847, train_acc: 0.8333\n",
            "600, loss: 0.4474, train_acc: 0.8333\n",
            "800, loss: 0.3444, train_acc: 0.8333\n",
            "1000, loss: 0.2635, train_acc: 1.0000\n",
            "1200, loss: 0.1996, train_acc: 1.0000\n",
            "1400, loss: 0.1517, train_acc: 1.0000\n",
            "1600, loss: 0.1171, train_acc: 1.0000\n",
            "1800, loss: 0.0924, train_acc: 1.0000\n",
            "2000, loss: 0.0747, train_acc: 1.0000\n",
            "Finished Training\n",
            "Predicted : [0 1 2 0 0 2]\n",
            "Answer : [0 1 2 0 0 2]\n",
            "Accuracy : 1.00\n"
          ],
          "name": "stdout"
        }
      ]
    },
    {
      "cell_type": "markdown",
      "metadata": {
        "id": "TLsGUsJQTDmP",
        "colab_type": "text"
      },
      "source": [
        "## Word2Vec on Pytorch\n",
        "Let's try to implement Word2Vec with Neural Network with Pytorch"
      ]
    },
    {
      "cell_type": "code",
      "metadata": {
        "id": "h73M742bwUGi",
        "colab_type": "code",
        "colab": {}
      },
      "source": [
        "import matplotlib\n",
        "import matplotlib.pyplot as plt\n",
        "import numpy as np\n",
        "\n",
        "# raw data - setences \n",
        "sentences = [\"he likes cat\",\n",
        "             \"he likes dog\",\n",
        "             \"he likes animal\",\n",
        "             \"dog cat animal\",\n",
        "             \"she likes cat\",\n",
        "             \"she dislikes dog\",\n",
        "             \"cat likes fish\",\n",
        "             \"cat likes milk\",\n",
        "             \"dog likes bone\",\n",
        "             \"dog dislikes fish\",\n",
        "             \"dog likes milk\",\n",
        "             \"she likes movie\",\n",
        "             \"she likes music\",\n",
        "             \"he likes game\",\n",
        "             \"he likes movie\",\n",
        "             \"cat dislikes dog\"]\n",
        "\n",
        "# convert all sentences to unique word list\n",
        "word_sequence = \" \".join(sentences).split()\n",
        "word_list = \" \".join(sentences).split()\n",
        "word_list = list(set(word_list))\n",
        "\n",
        "# make dictionary so that we can be reference each index of unique word\n",
        "word_dict = {w: i for i, w in enumerate(word_list)}\n",
        "\n",
        "# Making window size 1 skip-gram\n",
        "# i.e.) he likes cat\n",
        "#   -> (he, [likes]), (likes,[he, cat]), (cat,[likes])\n",
        "#   -> (he, likes), (likes, he), (likes, cat), (cat, likes)\n",
        "skip_grams = []\n",
        "\n",
        "for i in range(1, len(word_sequence) - 1):\n",
        "    # (context, target) : ([target index - 1, target index + 1], target)\n",
        "    target = word_dict[word_sequence[i]]\n",
        "    context = [word_dict[word_sequence[i - 1]], word_dict[word_sequence[i + 1]]]\n",
        "\n",
        "    # skipgrams - (target, context[0]), (target, context[1])..\n",
        "    for w in context:\n",
        "        skip_grams.append([target, w])\n",
        "      "
      ],
      "execution_count": 0,
      "outputs": []
    },
    {
      "cell_type": "code",
      "metadata": {
        "id": "1T-_SHxhHQeE",
        "colab_type": "code",
        "colab": {}
      },
      "source": [
        "voc_size = len(word_list)\n",
        "\n",
        "# prepare random batch from skip-gram - we do not have enought data so we randomly select data\n",
        "def prepare_batch(data, size):\n",
        "    random_inputs = []\n",
        "    random_labels = []\n",
        "    random_index = np.random.choice(range(len(data)), size, replace=False)\n",
        "\n",
        "    for i in random_index:\n",
        "        input_temp = [0]*voc_size\n",
        "        input_temp[data[i][0]] = 1\n",
        "        random_inputs.append(input_temp)  # target\n",
        "        random_labels.append(data[i][1])  # context word\n",
        "\n",
        "    return np.array(random_inputs), np.array(random_labels)\n",
        "\n",
        "\n",
        "learning_rate = 0.1\n",
        "batch_size = 10\n",
        "embedding_size = 2\n",
        "no_of_epochs = 5000"
      ],
      "execution_count": 0,
      "outputs": []
    },
    {
      "cell_type": "code",
      "metadata": {
        "id": "Cp3ARUXGG0SD",
        "colab_type": "code",
        "outputId": "19581054-cec5-4eb2-bda3-b4f31d062fbe",
        "colab": {
          "base_uri": "https://localhost:8080/",
          "height": 197
        }
      },
      "source": [
        "import torch\n",
        "from torch.autograd import Variable\n",
        "import torch.nn as nn\n",
        "import torch.nn.functional as F\n",
        "from sklearn.metrics import accuracy_score\n",
        "\n",
        "W1 = Variable(torch.randn(voc_size, embedding_size).float(), requires_grad=True)\n",
        "Wout = Variable(torch.randn(embedding_size, voc_size).float(), requires_grad=True)\n",
        "\n",
        "for epoch in range(no_of_epochs):\n",
        "\n",
        "    inputs,labels = prepare_batch(skip_grams, batch_size) # make batch every epoch\n",
        "    inputs_torch = torch.from_numpy(inputs).float()\n",
        "    labels_torch = torch.from_numpy(labels)\n",
        "\n",
        "    hidden = torch.matmul(inputs_torch ,W1)\n",
        "    out = torch.matmul(hidden,Wout)\n",
        "\n",
        "    log_softmax = F.log_softmax(out,dim=1)\n",
        "    loss = F.nll_loss(log_softmax, labels_torch)\n",
        "\n",
        "    loss.backward()\n",
        "    with torch.no_grad():\n",
        "        W1.data -= learning_rate*W1.grad.data\n",
        "        Wout.data -= learning_rate*Wout.grad.data\n",
        "    W1.grad.data.zero_()\n",
        "    Wout.grad.data.zero_()\n",
        "\n",
        "    if epoch % 500 == 499: \n",
        "        print('Epoch: %d, loss: %.4f' %(epoch + 1, loss))\n"
      ],
      "execution_count": 0,
      "outputs": [
        {
          "output_type": "stream",
          "text": [
            "Epoch: 500, loss: 2.5384\n",
            "Epoch: 1000, loss: 2.0181\n",
            "Epoch: 1500, loss: 2.2543\n",
            "Epoch: 2000, loss: 1.9188\n",
            "Epoch: 2500, loss: 2.0225\n",
            "Epoch: 3000, loss: 1.7935\n",
            "Epoch: 3500, loss: 1.9717\n",
            "Epoch: 4000, loss: 1.8768\n",
            "Epoch: 4500, loss: 2.0389\n",
            "Epoch: 5000, loss: 2.5527\n"
          ],
          "name": "stdout"
        }
      ]
    },
    {
      "cell_type": "code",
      "metadata": {
        "id": "2z2uWigF0g0d",
        "colab_type": "code",
        "outputId": "50e4fa98-88ad-4fc4-c62e-48df63c514bb",
        "colab": {
          "base_uri": "https://localhost:8080/",
          "height": 265
        }
      },
      "source": [
        "trained_embeddings = W1.data.numpy()\n",
        "### Visualise result\n",
        "for i, label in enumerate(word_list):\n",
        "    x, y = trained_embeddings[i]\n",
        "    # print (label, \" : \", x, \" \" , y) #please see the detailed vector info\n",
        "    plt.scatter(x, y)\n",
        "    plt.annotate(label, xy=(x, y), xytext=(5, 2),\n",
        "                 textcoords='offset points', ha='right', va='bottom')\n",
        "\n",
        "plt.show()\n"
      ],
      "execution_count": 0,
      "outputs": [
        {
          "output_type": "display_data",
          "data": {
            "image/png": "[encoded data removed]",
            "text/plain": [
              "<Figure size 432x288 with 1 Axes>"
            ]
          },
          "metadata": {
            "tags": []
          }
        }
      ]
    },
    {
      "cell_type": "markdown",
      "metadata": {
        "id": "lJPx2i5C0Bfc",
        "colab_type": "text"
      },
      "source": [
        "# Exercise\n",
        "\n",
        "In the tutorial, we learned how to train a word2vec skip-gram model in pytorch, and we manually updates the parameters (weights) in it. \n",
        "\n",
        "In this Lab 03 exercise, please use the \"NN Model\" and the \"Optimiser\" (that we learned in the above sections) to train a word2vec skip-gram model.\n",
        "\n",
        "Note: The embedding size should 2. The code for the preprocessing and the hyperparameter setup are provided. Have fun!\n",
        "\n",
        "\n"
      ]
    },
    {
      "cell_type": "code",
      "metadata": {
        "id": "ExuvDSozHRb4",
        "colab_type": "code",
        "colab": {}
      },
      "source": [
        "#preprocess and hyperparameters\n",
        "\n",
        "import matplotlib\n",
        "import matplotlib.pyplot as plt\n",
        "import numpy as np\n",
        "\n",
        "# raw data - setences \n",
        "sentences = [\"he likes cat\",\n",
        "             \"he likes dog\",\n",
        "             \"he likes animal\",\n",
        "             \"dog cat animal\",\n",
        "             \"she likes cat\",\n",
        "             \"she dislikes dog\",\n",
        "             \"cat likes fish\",\n",
        "             \"cat likes milk\",\n",
        "             \"dog likes bone\",\n",
        "             \"dog dislikes fish\",\n",
        "             \"dog likes milk\",\n",
        "             \"she likes movie\",\n",
        "             \"she likes music\",\n",
        "             \"he likes game\",\n",
        "             \"he likes movie\",\n",
        "             \"cat dislikes dog\"]\n",
        "\n",
        "# convert all sentences to unique word list\n",
        "word_sequence = \" \".join(sentences).split()\n",
        "word_list = \" \".join(sentences).split()\n",
        "word_list = list(set(word_list))\n",
        "\n",
        "# make dictionary so that we can be reference each index of unique word\n",
        "word_dict = {w: i for i, w in enumerate(word_list)}\n",
        "\n",
        "# Making window size 1 skip-gram\n",
        "# i.e.) he likes cat\n",
        "#   -> (he, [likes]), (likes,[he, cat]), (cat,[likes])\n",
        "#   -> (he, likes), (likes, he), (likes, cat), (cat, likes)\n",
        "skip_grams = []\n",
        "\n",
        "for i in range(1, len(word_sequence) - 1):\n",
        "    # (context, target) : ([target index - 1, target index + 1], target)\n",
        "    target = word_dict[word_sequence[i]]\n",
        "    context = [word_dict[word_sequence[i - 1]], word_dict[word_sequence[i + 1]]]\n",
        "\n",
        "    # skipgrams - (target, context[0]), (target, context[1])..\n",
        "    for w in context:\n",
        "        skip_grams.append([target, w])\n",
        "\n",
        "\n",
        "# prepare random batch from skip-gram - we do not have enought data so we randomly select data\n",
        "def prepare_batch(data, size):\n",
        "    random_inputs = []\n",
        "    random_labels = []\n",
        "    random_index = np.random.choice(range(len(data)), size, replace=False)\n",
        "\n",
        "    for i in random_index:\n",
        "        input_temp = [0]*voc_size\n",
        "        input_temp[data[i][0]] = 1\n",
        "        random_inputs.append(input_temp)  # target\n",
        "        random_labels.append(data[i][1])  # context word\n",
        "\n",
        "    return np.array(random_inputs), np.array(random_labels)\n",
        "\n",
        "#hyperparameters\n",
        "voc_size = len(word_list)\n",
        "learning_rate = 0.1\n",
        "batch_size = 10\n",
        "embedding_size = 2"
      ],
      "execution_count": 0,
      "outputs": []
    },
    {
      "cell_type": "code",
      "metadata": {
        "id": "x5-33jOlBf2E",
        "colab_type": "code",
        "colab": {}
      },
      "source": [
        "# You should submit \"ipynb\" file (You can download it from \"File\" > \"Download .ipynb\") to Canvas\n",
        "# Please include the required libraries\n",
        "\n",
        "import torch\n",
        "import torch.nn as nn\n",
        "import torch.optim as optim\n",
        "\n",
        "class SkipGram(nn.Module):\n",
        "    def __init__(self):\n",
        "        super(SkipGram, self).__init__()\n",
        "        #You need to use \"bias=False\" when you define Linear functions\n",
        "        #***************put your code here***************\n",
        "\n",
        "    def forward(self, x):\n",
        "        hidden = self.linear1(x)\n",
        "        out = self.linear2(hidden)\n",
        "        return out\n",
        "\n",
        "skip_gram_model = SkipGram()\n",
        "criterion = nn.CrossEntropyLoss() #please note we are using \"CrossEntropyLoss\" here\n",
        "optimiser = optim.SGD(skip_gram_model.parameters(), lr=learning_rate)\n",
        "\n",
        "for epoch in range(5000):\n",
        "\n",
        "    inputs,labels = prepare_batch(skip_grams, batch_size)\n",
        "    inputs_torch = torch.from_numpy(inputs).float()\n",
        "    labels_torch = torch.from_numpy(labels)\n",
        "\n",
        "    #***************put your code here***************\n",
        "    # 1. zero grad\n",
        "    # 2. forword propagation\n",
        "    # 3. calculate loss\n",
        "    # 4. back propagation\n",
        "\n",
        "    if epoch % 500 == 499: \n",
        "        print('Epoch: %d, loss: %.4f' %(epoch + 1, loss))\n",
        "\n",
        "#Hint: you can refer lab1 to know how to get the weight from a Model Linear layer\n",
        "weight1 = #***************put your code here***************\n",
        "trained_embeddings = weight1.detach().T.numpy()\n",
        "      "
      ],
      "execution_count": 0,
      "outputs": []
    },
    {
      "cell_type": "code",
      "metadata": {
        "id": "lZRyAdjGaufC",
        "colab_type": "code",
        "colab": {}
      },
      "source": [
        "### Visualise result\n",
        "for i, label in enumerate(word_list):\n",
        "    x, y = trained_embeddings[i]\n",
        "    # print (label, \" : \", x, \" \" , y)\n",
        "    plt.scatter(x, y)\n",
        "    plt.annotate(label, xy=(x, y), xytext=(5, 2),\n",
        "                 textcoords='offset points', ha='right', va='bottom')\n",
        "\n",
        "plt.show()"
      ],
      "execution_count": 0,
      "outputs": []
    }
  ]
}