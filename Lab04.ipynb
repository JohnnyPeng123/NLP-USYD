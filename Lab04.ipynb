{
  "nbformat": 4,
  "nbformat_minor": 0,
  "metadata": {
    "colab": {
      "name": "Lab04.ipynb",
      "provenance": [],
      "collapsed_sections": [],
      "toc_visible": true,
      "include_colab_link": true
    },
    "kernelspec": {
      "name": "python3",
      "display_name": "Python 3"
    },
    "accelerator": "GPU"
  },
  "cells": [
    {
      "cell_type": "markdown",
      "metadata": {
        "id": "view-in-github",
        "colab_type": "text"
      },
      "source": [
        "<a href=\"https://colab.research.google.com/github/JohnnyPeng123/NLP-USYD/blob/master/Lab04.ipynb\" target=\"_parent\"><img src=\"https://colab.research.google.com/assets/colab-badge.svg\" alt=\"Open In Colab\"/></a>"
      ]
    },
    {
      "cell_type": "markdown",
      "metadata": {
        "id": "JgAANQLNyE3p",
        "colab_type": "text"
      },
      "source": [
        "# Lab04\n",
        "\n",
        "In this lab 4, we learn the Recurrent Neural Networks and Sequence Modelling\n",
        "\n",
        "\n",
        "*   Recurrent Neural Networks\n",
        "*   Sequence Modelling (Seq2Seq)\n"
      ]
    },
    {
      "cell_type": "code",
      "metadata": {
        "id": "fTls5pyuluqb",
        "colab_type": "code",
        "colab": {}
      },
      "source": [
        "import torch\n",
        "#You can enable GPU here (cuda); or just CPU\n",
        "device = torch.device(\"cuda\" if torch.cuda.is_available() else \"cpu\")"
      ],
      "execution_count": 0,
      "outputs": []
    },
    {
      "cell_type": "markdown",
      "metadata": {
        "id": "0vysAG7fyIQJ",
        "colab_type": "text"
      },
      "source": [
        "# RNN\n",
        "A **recurrent neural network (RNN)** is a class of artificial neural networks where connections between nodes form a directed graph along a temporal sequence. This allows it to exhibit temporal dynamic behavior. Derived from feedforward neural networks, RNNs can use their internal state (memory) to process variable length sequences of inputs."
      ]
    },
    {
      "cell_type": "markdown",
      "metadata": {
        "id": "HEqu0hg8DaEh",
        "colab_type": "text"
      },
      "source": [
        "\n",
        "## Predict a last character of the word"
      ]
    },
    {
      "cell_type": "code",
      "metadata": {
        "id": "uw5s2SVGU9qI",
        "colab_type": "code",
        "colab": {}
      },
      "source": [
        "import numpy as np\n",
        "\n",
        "#Assume that we have the following character instances\n",
        "char_arr = ['a', 'b', 'c', 'd', 'e', 'f', 'g',\n",
        "            'h', 'i', 'j', 'k', 'l', 'm', 'n',\n",
        "\n",
        "            'o', 'p', 'q', 'r', 's', 't', 'u',\n",
        "            'v', 'w', 'x', 'y', 'z']\n",
        "\n",
        "# one-hot encoding and decoding \n",
        "# {'a': 0, 'b': 1, 'c': 2, ..., 'j': 9, 'k', 10, ...}\n",
        "num_dic = {n: i for i, n in enumerate(char_arr)}\n",
        "dic_len = len(num_dic)\n",
        "\n",
        "\n",
        "# a list words for sequence data (input and output)\n",
        "seq_data = ['word', 'wood', 'deep', 'dive', 'cold', 'cool', 'load', 'love', 'kiss', 'kind']\n",
        "\n",
        "# Make a batch to have sequence data for input and ouput\n",
        "# wor -> X, d -> Y\n",
        "# dee -> X, p -> Y\n",
        "def make_batch(seq_data):\n",
        "    input_batch = []\n",
        "    target_batch = []\n",
        "    \n",
        "    for seq in seq_data:\n",
        "        # input data is:\n",
        "        #     wor           woo        dee       div\n",
        "        # [22, 14, 17] [22, 14, 14] [3, 4, 4] [3, 8, 21] ...\n",
        "        \n",
        "        input_data = [num_dic[n] for n in seq[:-1]]\n",
        "        \n",
        "        # target is :\n",
        "        # d, d, p, e, ...\n",
        "        # 3, 3, 15, 4, ...\n",
        "        target = num_dic[seq[-1]]\n",
        "        \n",
        "        # convert input to one-hot encoding.\n",
        "        # if input is [3, 4, 4]:\n",
        "        # [[ 0,  0,  0,  1,  0,  0,  0, ... 0]\n",
        "        #  [ 0,  0,  0,  0,  1,  0,  0, ... 0]\n",
        "        #  [ 0,  0,  0,  0,  1,  0,  0, ... 0]]\n",
        "        input_batch.append(np.eye(dic_len)[input_data])\n",
        "        \n",
        "        target_batch.append([target])\n",
        "\n",
        "    return input_batch, target_batch\n"
      ],
      "execution_count": 0,
      "outputs": []
    },
    {
      "cell_type": "code",
      "metadata": {
        "id": "9hp5TkPM1gxa",
        "colab_type": "code",
        "colab": {}
      },
      "source": [
        "### Setting hyperparameters\n",
        "\n",
        "learning_rate = 0.1\n",
        "n_hidden = 128\n",
        "total_epoch = 50\n",
        "\n",
        "# Number of sequences for RNN\n",
        "n_step = 3\n",
        "\n",
        "# number of inputs (dimension of input vector) = 26\n",
        "n_input = dic_len\n",
        "# number of classes = 26\n",
        "n_class = dic_len\n"
      ],
      "execution_count": 0,
      "outputs": []
    },
    {
      "cell_type": "markdown",
      "metadata": {
        "id": "n0NPv3hP7Oou",
        "colab_type": "text"
      },
      "source": [
        "### Dropout\n",
        "\n",
        "Dropout makes each hidden unit more robust and drive it towards creating useful features on its own without relying on other hidden units to correct its mistakes\n",
        "\n",
        "![dropout](https://cdn-images-1.medium.com/max/800/1*D8jriroKkjno8RztHKmMnA.png)"
      ]
    },
    {
      "cell_type": "markdown",
      "metadata": {
        "id": "TW_Usnk1OBFP",
        "colab_type": "text"
      },
      "source": [
        "## Model"
      ]
    },
    {
      "cell_type": "code",
      "metadata": {
        "id": "RQzn33GGgyuk",
        "colab_type": "code",
        "outputId": "1fe4768b-65cb-4e42-fc68-0cf0a739b61e",
        "colab": {
          "base_uri": "https://localhost:8080/",
          "height": 1000
        }
      },
      "source": [
        "import torch.nn as nn\n",
        "import torch.nn.functional as F\n",
        "import torch.optim as optim\n",
        "from sklearn.metrics import accuracy_score\n",
        "\n",
        "class Net(nn.Module):\n",
        "    def __init__(self):\n",
        "        super(Net, self).__init__()\n",
        "        # LSTM layer, the batch_first is False by default, which means the input and output tensors are provided as (seq_len, batch_size, feature) \n",
        "        # We need to set it to True because we are using input of shape (batch_size, seq_len, feature)  \n",
        "        # Apply dropout to prevent overfitting, you can try to change the dropout rate. Note that this dropout is applied on outputs of each LSTM layer except the last layer\n",
        "        self.lstm = nn.LSTM(n_input, n_hidden, num_layers=2, batch_first =True, dropout=0.2)\n",
        "        # Linear layer for output\n",
        "        self.linear = nn.Linear(n_hidden,n_class)\n",
        "\n",
        "    def forward(self, x):\n",
        "        # There are two outputs from nn.LSTM:\n",
        "        # 1. tensor of shape (batch_size, seq_len, hidden_size) containing the output features from the last layer of the LSTM for each time step t\n",
        "        # 2. the tuple containing the hidden state and cell state.  \n",
        "        # Here we only care about the first output. Details for the two outputs can be found in PyTorch documentation for nn.LSTM: https://pytorch.org/docs/stable/nn.html#lstm\n",
        "        x,_ = self.lstm(x)\n",
        "        # Here we extract only the last hidden state from the LSTM output features\n",
        "        # The last hidden carries the information about what the LSTM cell has seen over the time. \n",
        "        # Thus the prediction based on the last hidden state not only considers the data at the current time step, instead, it considers historical data.\n",
        "        x = self.linear(x[:,-1,:])\n",
        "        x = F.log_softmax(x, dim=1)\n",
        "        return x\n",
        "\n",
        "# Move the model to GPU\n",
        "net = Net().to(device)\n",
        "# Loss function and optimizer\n",
        "criterion = nn.NLLLoss()\n",
        "optimizer = optim.Adam(net.parameters(), lr=learning_rate)\n",
        "\n",
        "# Preparing input\n",
        "input_batch, target_batch = make_batch(seq_data)\n",
        "# Convert input into tensors and move them to GPU by uting tensor.to(device)\n",
        "input_batch_torch = torch.from_numpy(np.array(input_batch)).float().to(device)\n",
        "target_batch_torch = torch.from_numpy(np.array(target_batch)).view(-1).to(device)\n",
        "\n",
        "\n",
        "for epoch in range(total_epoch):  \n",
        "    \n",
        "    # Set the flag to training\n",
        "    net.train()\n",
        "    \n",
        "    # forward + backward + optimize\n",
        "    outputs = net(input_batch_torch) \n",
        "    loss = criterion(outputs, target_batch_torch)\n",
        "    loss.backward()\n",
        "    optimizer.step()\n",
        "    optimizer.zero_grad()\n",
        "\n",
        "    # Set the flag to evaluation, which will 'turn off' the dropout\n",
        "    net.eval()\n",
        "    outputs = net(input_batch_torch) \n",
        "    \n",
        "    # Evaluation loss and accuracy calculation\n",
        "    loss = criterion(outputs, target_batch_torch)\n",
        "    _, predicted = torch.max(outputs, 1)\n",
        "    acc= accuracy_score(predicted.cpu().numpy(),target_batch_torch.cpu().numpy())\n",
        "\n",
        "    print('Epoch: %d, loss: %.5f, train_acc: %.2f' %(epoch + 1, loss.item(), acc))\n",
        "\n",
        "print('Finished Training')\n",
        "\n",
        "## Prediction\n",
        "predict_words = []\n",
        "for i in range(len(predicted.cpu().numpy())):\n",
        "    ind = predicted.cpu().numpy()[i]\n",
        "    predict_words.append(seq_data[i][:-1]+char_arr[ind])\n",
        "\n",
        "print('\\n=== Prediction Result ===')\n",
        "print('Input:', [w[:3] + ' ' for w in seq_data])\n",
        "print('Predicted:', predict_words)\n",
        "print('Accuracy: %.2f' %acc)\n"
      ],
      "execution_count": 0,
      "outputs": [
        {
          "output_type": "stream",
          "text": [
            "Epoch: 1, loss: 1.56924, train_acc: 0.50\n",
            "Epoch: 2, loss: 2.45242, train_acc: 0.20\n",
            "Epoch: 3, loss: 3.20936, train_acc: 0.10\n",
            "Epoch: 4, loss: 5.20646, train_acc: 0.10\n",
            "Epoch: 5, loss: 1.82331, train_acc: 0.10\n",
            "Epoch: 6, loss: 1.82802, train_acc: 0.50\n",
            "Epoch: 7, loss: 1.92820, train_acc: 0.50\n",
            "Epoch: 8, loss: 1.62308, train_acc: 0.50\n",
            "Epoch: 9, loss: 1.66038, train_acc: 0.20\n",
            "Epoch: 10, loss: 1.50756, train_acc: 0.50\n",
            "Epoch: 11, loss: 1.45583, train_acc: 0.50\n",
            "Epoch: 12, loss: 1.44720, train_acc: 0.50\n",
            "Epoch: 13, loss: 1.48125, train_acc: 0.50\n",
            "Epoch: 14, loss: 1.50806, train_acc: 0.50\n",
            "Epoch: 15, loss: 1.48324, train_acc: 0.50\n",
            "Epoch: 16, loss: 1.41949, train_acc: 0.50\n",
            "Epoch: 17, loss: 1.40930, train_acc: 0.50\n",
            "Epoch: 18, loss: 1.43036, train_acc: 0.50\n",
            "Epoch: 19, loss: 1.39648, train_acc: 0.60\n",
            "Epoch: 20, loss: 1.37174, train_acc: 0.50\n",
            "Epoch: 21, loss: 1.36832, train_acc: 0.50\n",
            "Epoch: 22, loss: 1.35106, train_acc: 0.50\n",
            "Epoch: 23, loss: 1.32657, train_acc: 0.50\n",
            "Epoch: 24, loss: 1.27323, train_acc: 0.50\n",
            "Epoch: 25, loss: 1.25081, train_acc: 0.60\n",
            "Epoch: 26, loss: 1.25567, train_acc: 0.60\n",
            "Epoch: 27, loss: 1.20055, train_acc: 0.60\n",
            "Epoch: 28, loss: 1.15666, train_acc: 0.60\n",
            "Epoch: 29, loss: 1.13537, train_acc: 0.60\n",
            "Epoch: 30, loss: 1.13983, train_acc: 0.60\n",
            "Epoch: 31, loss: 1.13928, train_acc: 0.60\n",
            "Epoch: 32, loss: 1.11230, train_acc: 0.60\n",
            "Epoch: 33, loss: 1.08269, train_acc: 0.60\n",
            "Epoch: 34, loss: 1.07538, train_acc: 0.60\n",
            "Epoch: 35, loss: 1.06891, train_acc: 0.60\n",
            "Epoch: 36, loss: 1.05761, train_acc: 0.60\n",
            "Epoch: 37, loss: 1.04871, train_acc: 0.60\n",
            "Epoch: 38, loss: 1.04313, train_acc: 0.60\n",
            "Epoch: 39, loss: 1.03369, train_acc: 0.60\n",
            "Epoch: 40, loss: 0.99817, train_acc: 0.60\n",
            "Epoch: 41, loss: 0.97481, train_acc: 0.60\n",
            "Epoch: 42, loss: 0.96045, train_acc: 0.60\n",
            "Epoch: 43, loss: 0.95363, train_acc: 0.60\n",
            "Epoch: 44, loss: 0.97357, train_acc: 0.60\n",
            "Epoch: 45, loss: 1.01095, train_acc: 0.60\n",
            "Epoch: 46, loss: 0.97609, train_acc: 0.60\n",
            "Epoch: 47, loss: 0.94631, train_acc: 0.60\n",
            "Epoch: 48, loss: 1.05834, train_acc: 0.60\n",
            "Epoch: 49, loss: 0.83930, train_acc: 0.70\n",
            "Epoch: 50, loss: 0.93309, train_acc: 0.60\n",
            "Finished Training\n",
            "\n",
            "=== Prediction Result ===\n",
            "Input: ['wor ', 'woo ', 'dee ', 'div ', 'col ', 'coo ', 'loa ', 'lov ', 'kis ', 'kin ']\n",
            "Predicted: ['word', 'wood', 'deee', 'dive', 'cold', 'cood', 'loae', 'love', 'kisd', 'kind']\n",
            "Accuracy: 0.60\n"
          ],
          "name": "stdout"
        }
      ]
    },
    {
      "cell_type": "markdown",
      "metadata": {
        "id": "XfRXWwL2D9Bn",
        "colab_type": "text"
      },
      "source": [
        "# Seq2Seq Model (N to M)"
      ]
    },
    {
      "cell_type": "markdown",
      "metadata": {
        "id": "UFRHe5J9c3QG",
        "colab_type": "text"
      },
      "source": [
        "Seq2seq turns one sequence into another sequence. It does so by use of a recurrent neural network (RNN) or more often LSTM or GRU to avoid the problem of vanishing gradient. The context for each item is the output from the previous step. The primary components are one encoder and one decoder network. The encoder turns each item into a corresponding hidden vector containing the item and its context. The decoder reverses the process, turning the vector into an output item, using the previous output as the input context\n",
        "\n",
        "We are going to implement a sequence to sequence model that translates playing card symbols (Ace, Jack, Queen, King) to their associated number."
      ]
    },
    {
      "cell_type": "markdown",
      "metadata": {
        "id": "1yEhcJZxxWvu",
        "colab_type": "text"
      },
      "source": [
        "## Preprocess data"
      ]
    },
    {
      "cell_type": "code",
      "metadata": {
        "id": "MyTFAjAYlIgn",
        "colab_type": "code",
        "colab": {}
      },
      "source": [
        "import torch\n",
        "import numpy as np\n",
        "\n",
        "\n",
        "# Sequence data\n",
        "seq_data = [['ace', '01'], ['jack', '11'],\n",
        "            ['queen', '12'], ['king', '13']]\n",
        "\n",
        "# Generate unique tokens list\n",
        "chars = []\n",
        "for seq in seq_data:    \n",
        "    chars += list(seq[0])\n",
        "    chars += list(seq[1])\n",
        "\n",
        "char_arr = list(set(chars))\n",
        "\n",
        "# special tokens are required\n",
        "# B: Beginning of Sequence\n",
        "# E: Ending of Sequence\n",
        "# P: Padding of Sequence - for different size input\n",
        "# U: Unknown element of Sequence - for different size input\n",
        "char_arr.append('B')\n",
        "char_arr.append('E')\n",
        "char_arr.append('P')\n",
        "char_arr.append('U')\n",
        "\n",
        "num_dic = {n: i for i, n in enumerate(char_arr)}\n",
        "\n",
        "dic_len = len(num_dic)\n",
        "\n",
        "max_input_words_amount = 5\n",
        "max_output_words_amount = 3\n"
      ],
      "execution_count": 0,
      "outputs": []
    },
    {
      "cell_type": "markdown",
      "metadata": {
        "id": "gKk4ORyCxbjE",
        "colab_type": "text"
      },
      "source": [
        "## Generate batch"
      ]
    },
    {
      "cell_type": "code",
      "metadata": {
        "id": "UNPoWhYDIL71",
        "colab_type": "code",
        "colab": {}
      },
      "source": [
        "# add paddings if the word is shorter than the maximum number of words\n",
        "def add_paddings(word):\n",
        "    diff = 5 - len(word)\n",
        "    for x in range(diff):\n",
        "        word += \"P\"\n",
        "    return word\n",
        "    \n",
        "\n",
        "# generate a batch data for training/testing\n",
        "def make_batch(seq_data):\n",
        "    input_batch = []\n",
        "    output_batch = []\n",
        "    target_batch = []\n",
        "\n",
        "    for seq in seq_data:\n",
        "        # Input for encoder cell, convert to vector\n",
        "        input_word = add_paddings(seq[0])\n",
        "        input_data = [num_dic[n] for n in input_word]\n",
        "        \n",
        "        # Input for decoder cell, Add 'B' at the beginning of the sequence data\n",
        "        output_data  = [num_dic[n] for n in ('B'+ seq[1])]\n",
        "        \n",
        "        # Output of decoder cell (Actual result), Add 'E' at the end of the sequence data\n",
        "        target = [num_dic[n] for n in (seq[1] + 'E')]\n",
        "\n",
        "        # Convert each character vector to one-hot encode data\n",
        "        input_batch.append(np.eye(dic_len)[input_data])\n",
        "        output_batch.append(np.eye(dic_len)[output_data])\n",
        "        \n",
        "        target_batch.append(target)\n",
        "\n",
        "    return input_batch, output_batch, target_batch"
      ],
      "execution_count": 0,
      "outputs": []
    },
    {
      "cell_type": "markdown",
      "metadata": {
        "id": "US15fGgPxgBf",
        "colab_type": "text"
      },
      "source": [
        "## Build training model"
      ]
    },
    {
      "cell_type": "code",
      "metadata": {
        "id": "sSq1w6UY94cE",
        "colab_type": "code",
        "outputId": "4a70eb1f-860b-4a57-97fd-401d75c76932",
        "colab": {
          "base_uri": "https://localhost:8080/",
          "height": 395
        }
      },
      "source": [
        "import torch.nn as nn\n",
        "import torch.nn.functional as F\n",
        "import torch.optim as optim\n",
        "from sklearn.metrics import accuracy_score\n",
        "\n",
        "\n",
        "\n",
        "class Net(nn.Module):\n",
        "    def __init__(self):\n",
        "        super(Net, self).__init__()\n",
        "        # RNN encoder. The parameters of nn.RNN is similar to nn.LSTM \n",
        "        self.rnn_encoder = nn.RNN(n_input, n_hidden, batch_first= True)\n",
        "        # Apply the drop out to output of RNN. Note the difference here compared to the 'dropout=0.2' we used for nn.LSTM above\n",
        "        self.dropout_encoder = nn.Dropout(0.1)\n",
        "        \n",
        "        # RNN decoder\n",
        "        self.rnn_decoder = nn.RNN(n_input, n_hidden, batch_first= True)\n",
        "        self.dropout_decoder = nn.Dropout(0.1)\n",
        "        self.linear = nn.Linear(n_hidden,n_class)\n",
        "\n",
        "    def forward(self, x_encoder, x_decoder):\n",
        "        # \"hidden\" containing the hidden state for t = seq_len.\n",
        "        _,hidden = self.rnn_encoder(x_encoder)\n",
        "        hidden = self.dropout_encoder(hidden)\n",
        "        # [IMPORTANT] Setting \"hidden\" as inital_state of rnn_decoder\n",
        "        decoder_output,_ = self.rnn_decoder(x_decoder,hidden)\n",
        "        decoder_output = self.dropout_decoder(decoder_output)\n",
        "        prediction_output_before_softmax = self.linear(decoder_output)\n",
        "        output = torch.log_softmax(prediction_output_before_softmax,dim=-1)\n",
        "        return output\n",
        "\n",
        "### Setting Hyperparameters\n",
        "learning_rate = 0.01\n",
        "n_hidden = 128\n",
        "total_epoch = 200\n",
        "\n",
        "n_class = dic_len\n",
        "n_input = dic_len\n",
        "\n",
        "net = Net().to(device)\n",
        "criterion = nn.NLLLoss()\n",
        "optimizer = optim.Adam(net.parameters(), lr=learning_rate)\n",
        "\n",
        "input_batch, output_batch, target_batch = make_batch(seq_data)\n",
        "input_batch_torch = torch.from_numpy(np.array(input_batch)).float().to(device)\n",
        "output_batch_torch = torch.from_numpy(np.array(output_batch)).float().to(device) \n",
        "target_batch_torch = torch.from_numpy(np.array(target_batch)).view(-1).to(device)\n",
        "\n",
        "for epoch in range(total_epoch):  # loop over the dataset multiple times\n",
        "   \n",
        "    net.train()\n",
        "    optimizer.zero_grad()\n",
        "\n",
        "    # forward + backward + optimize\n",
        "    outputs = net(input_batch_torch,output_batch_torch) \n",
        "    loss = criterion(outputs.view(-1,outputs.size(-1)), target_batch_torch)\n",
        "    loss.backward()\n",
        "    optimizer.step()\n",
        "\n",
        "    if epoch%10==9:\n",
        "        print('Epoch: %d, loss: %.5f' %(epoch + 1, loss.item()))\n",
        "\n",
        "print('Finished Training')"
      ],
      "execution_count": 0,
      "outputs": [
        {
          "output_type": "stream",
          "text": [
            "Epoch: 10, loss: 0.51959\n",
            "Epoch: 20, loss: 0.28586\n",
            "Epoch: 30, loss: 0.12102\n",
            "Epoch: 40, loss: 0.11627\n",
            "Epoch: 50, loss: 0.01521\n",
            "Epoch: 60, loss: 0.00601\n",
            "Epoch: 70, loss: 0.00212\n",
            "Epoch: 80, loss: 0.00231\n",
            "Epoch: 90, loss: 0.00102\n",
            "Epoch: 100, loss: 0.00108\n",
            "Epoch: 110, loss: 0.00076\n",
            "Epoch: 120, loss: 0.00123\n",
            "Epoch: 130, loss: 0.00071\n",
            "Epoch: 140, loss: 0.00080\n",
            "Epoch: 150, loss: 0.00057\n",
            "Epoch: 160, loss: 0.00057\n",
            "Epoch: 170, loss: 0.00051\n",
            "Epoch: 180, loss: 0.00047\n",
            "Epoch: 190, loss: 0.00044\n",
            "Epoch: 200, loss: 0.00050\n",
            "Finished Training\n"
          ],
          "name": "stdout"
        }
      ]
    },
    {
      "cell_type": "markdown",
      "metadata": {
        "id": "bXf-4bByxgh8",
        "colab_type": "text"
      },
      "source": [
        "## Evaluation"
      ]
    },
    {
      "cell_type": "code",
      "metadata": {
        "id": "bTZrBs5PmYGH",
        "colab_type": "code",
        "outputId": "cb690c38-6673-4669-ce00-1ef1f671cff7",
        "colab": {
          "base_uri": "https://localhost:8080/",
          "height": 107
        }
      },
      "source": [
        "def predict(word):\n",
        "    # Setting each character of predicted as 'U' (Unknown) \n",
        "    # ['king', 'UU']\n",
        "    word = add_paddings(word)\n",
        "    \n",
        "    seq_data = [word, 'U' * 2]\n",
        "\n",
        "    input_batch, output_batch, target_batch = make_batch([seq_data])\n",
        "    input_batch_torch = torch.from_numpy(np.array(input_batch)).float().to(device)   \n",
        "    output_batch_torch = torch.from_numpy(np.array(output_batch)).float().to(device) \n",
        "\n",
        "    # forward + backward + optimize\n",
        "    net.eval()\n",
        "    outputs = net(input_batch_torch,output_batch_torch) \n",
        "    _, predicted = torch.max(outputs, -1)\n",
        "    answer=\"\"\n",
        "    for j in range(len(predicted.cpu().numpy()[0])-1):\n",
        "        answer+=char_arr[predicted.cpu().numpy()[0][j]]\n",
        "\n",
        "    return answer\n",
        "    \n",
        "print('=== Prediction result ===')\n",
        "print('ace ->', predict('ace'))\n",
        "print('jack ->', predict('jack'))\n",
        "print('queen ->', predict('queen'))\n",
        "print('king ->', predict('king'))\n"
      ],
      "execution_count": 0,
      "outputs": [
        {
          "output_type": "stream",
          "text": [
            "=== Prediction result ===\n",
            "ace -> 01\n",
            "jack -> 11\n",
            "queen -> 12\n",
            "king -> 13\n"
          ],
          "name": "stdout"
        }
      ]
    },
    {
      "cell_type": "markdown",
      "metadata": {
        "id": "vyXZ1B6qh7oK",
        "colab_type": "text"
      },
      "source": [
        "##Please find the difference between standard RNN and LSTM\n",
        "\n",
        "![alt text](https://usydnlpgroup.files.wordpress.com/2020/03/rnnvslstm-1-e1584852583803.png)\n",
        "\n",
        "---\n",
        "\n",
        "\n",
        "![alt text](https://usydnlpgroup.files.wordpress.com/2020/03/rnnvslstm_2-e1584852714227.png)\n",
        "\n",
        "\n"
      ]
    },
    {
      "cell_type": "markdown",
      "metadata": {
        "id": "M-316qjIt-zS",
        "colab_type": "text"
      },
      "source": [
        "# Exercise (Text classification using LSTM)"
      ]
    },
    {
      "cell_type": "markdown",
      "metadata": {
        "id": "Jwj7GtQPP6M7",
        "colab_type": "text"
      },
      "source": [
        "In this exercise, you are going to implement a LSTM model to do the text classification problem. Please notice that we have already done the preprocessing and embedding part of the dataset. You can only focus on the Model part.\n",
        "\n",
        "**Sequence Modelling**\n",
        "\n",
        "![alt text](https://usydnlpgroup.files.wordpress.com/2020/03/lstm_textclassification-e1584855309361.png)\n",
        "\n"
      ]
    },
    {
      "cell_type": "code",
      "metadata": {
        "id": "h6E9-9EqTNns",
        "colab_type": "code",
        "colab": {}
      },
      "source": [
        "import torch\n",
        "#If you enable GPU here, device will be cuda, otherwise it will be cpu\n",
        "device = torch.device(\"cuda\" if torch.cuda.is_available() else \"cpu\")"
      ],
      "execution_count": 0,
      "outputs": []
    },
    {
      "cell_type": "markdown",
      "metadata": {
        "id": "X-hlDQBqsV1L",
        "colab_type": "text"
      },
      "source": [
        "### Downloading dataset"
      ]
    },
    {
      "cell_type": "code",
      "metadata": {
        "id": "jvwyvmfDegwE",
        "colab_type": "code",
        "colab": {}
      },
      "source": [
        "# Code to download file into Colaboratory:\n",
        "!pip install -U -q PyDrive\n",
        "from pydrive.auth import GoogleAuth\n",
        "from pydrive.drive import GoogleDrive\n",
        "from google.colab import auth\n",
        "from oauth2client.client import GoogleCredentials\n",
        "# Authenticate and create the PyDrive client.\n",
        "auth.authenticate_user()\n",
        "gauth = GoogleAuth()\n",
        "gauth.credentials = GoogleCredentials.get_application_default()\n",
        "drive = GoogleDrive(gauth)\n",
        "\n",
        "id = '1ORrHW9moXLcWwg8WY9o-Ulq8X9BAiD1P'\n",
        "downloaded = drive.CreateFile({'id':id}) \n",
        "downloaded.GetContentFile('train.pkl')  \n",
        "\n",
        "id = '1eb4gtE8XlN3TcZqzwS18Ik-H7MFAeW4z'\n",
        "downloaded = drive.CreateFile({'id':id}) \n",
        "downloaded.GetContentFile('label.pkl')  \n",
        "\n",
        "import pickle\n",
        "input_embeddings = pickle.load(open(\"train.pkl\",\"rb\"))\n",
        "label = pickle.load(open(\"label.pkl\",\"rb\"))"
      ],
      "execution_count": 0,
      "outputs": []
    },
    {
      "cell_type": "markdown",
      "metadata": {
        "id": "f4iYaoduQvA9",
        "colab_type": "text"
      },
      "source": [
        "### Split the dataset"
      ]
    },
    {
      "cell_type": "code",
      "metadata": {
        "id": "XmkbXPApluQq",
        "colab_type": "code",
        "colab": {}
      },
      "source": [
        "# Split into training and testing dataset using scikit-learn\n",
        "# For more details, you can refer to: https://scikit-learn.org/stable/modules/generated/sklearn.model_selection.train_test_split.html\n",
        "\n",
        "from sklearn.model_selection import train_test_split\n",
        "train_embeddings, test_embeddings, train_label, test_label = train_test_split(input_embeddings,label,test_size = 0.2, random_state=0)"
      ],
      "execution_count": 0,
      "outputs": []
    },
    {
      "cell_type": "markdown",
      "metadata": {
        "id": "mrAL53HKufcG",
        "colab_type": "text"
      },
      "source": [
        "## Generate batch"
      ]
    },
    {
      "cell_type": "code",
      "metadata": {
        "id": "n4vtcmaZufk2",
        "colab_type": "code",
        "colab": {}
      },
      "source": [
        "def generate_batch(input_embeddings,label, batch_size):\n",
        "    idx = np.random.randint(input_embeddings.shape[0], size=batch_size)\n",
        "    return input_embeddings[idx,:,:],label[idx]"
      ],
      "execution_count": 0,
      "outputs": []
    },
    {
      "cell_type": "markdown",
      "metadata": {
        "id": "r_W08vIPv7L7",
        "colab_type": "text"
      },
      "source": [
        "## Model (please complete the following sections)"
      ]
    },
    {
      "cell_type": "markdown",
      "metadata": {
        "id": "X3rPdMUDQFOU",
        "colab_type": "text"
      },
      "source": [
        "**NOTE**: By updating hyperparameters, you should achieve **at least 0.4** for testset \"weighted avg\" f1. (There will be randomness in the training process, so tutors would run your code several times and there should be at least one of the output reaching 0.4)\n",
        "\n",
        "***What is F1?***\n",
        "\n",
        "![alt text](https://1.bp.blogspot.com/-nkFFqViboVM/XWwaQ5x1YpI/AAAAAAAAAP8/XzTH9hfJSfswcRjxSeQFEU6-yKQCwc0EQCLcBGAs/s640/main-qimg-447d6cdb02d2cc097ff1e6083a6bdc37.png)\n",
        "![alt text](https://i.stack.imgur.com/U0hjG.png)\n"
      ]
    },
    {
      "cell_type": "code",
      "metadata": {
        "id": "R4o1hzIzuDvj",
        "colab_type": "code",
        "colab": {}
      },
      "source": [
        "import torch.nn as nn\n",
        "import torch.nn.functional as F\n",
        "\n",
        "\n",
        "class Net(nn.Module):\n",
        "    def __init__(self):\n",
        "        super(Net, self).__init__()\n",
        "        self.lstm = nn.LSTM(n_input, n_hidden, batch_first =True)\n",
        "        self.linear = nn.Linear(n_hidden,n_class)\n",
        "\n",
        "    def forward(self, x):        \n",
        "        # Please complete the code for forwardpropagation\n",
        "        # lstm layer\n",
        "        # linear layer\n",
        "        # softmax layer\n",
        "        return x\n"
      ],
      "execution_count": 0,
      "outputs": []
    },
    {
      "cell_type": "code",
      "metadata": {
        "id": "5mklFWbwhrsU",
        "colab_type": "code",
        "colab": {}
      },
      "source": [
        "import numpy as np\n",
        "import torch.optim as optim\n",
        "\n",
        "# Please assign values to these variables by using other variables (instead of hard code)\n",
        "seq_length = \n",
        "n_input = \n",
        "n_class = \n",
        "\n",
        "#Please decide the hyperparameters here by yourself\n",
        "n_hidden = \n",
        "batch_size = \n",
        "total_epoch = \n",
        "learning_rate = \n",
        "shown_interval = \n",
        "\n",
        "\n"
      ],
      "execution_count": 0,
      "outputs": []
    },
    {
      "cell_type": "code",
      "metadata": {
        "id": "fNKfUFdRnQJo",
        "colab_type": "code",
        "colab": {}
      },
      "source": [
        "from sklearn.metrics import accuracy_score\n",
        "\n",
        "net = Net().to(device)\n",
        "criterion = nn.NLLLoss()\n",
        "\n",
        "# Please find which optimizer provide higher f1\n",
        "optimizer = \n",
        "\n",
        "for epoch in range(total_epoch):\n",
        "\n",
        "    input_batch, target_batch = generate_batch(train_embeddings,train_label, batch_size)\n",
        "    input_batch_torch = torch.from_numpy(input_batch).float().to(device)\n",
        "    target_batch_torch = torch.from_numpy(target_batch).view(-1).to(device)\n",
        "\n",
        "    net.train()\n",
        "    outputs = net(input_batch_torch) \n",
        "    loss = criterion(outputs, target_batch_torch)\n",
        "    loss.backward()\n",
        "    optimizer.step()\n",
        "    optimizer.zero_grad()\n",
        "\n",
        "    if epoch % shown_interval == shown_interval-1:\n",
        "        net.eval()\n",
        "        outputs = net(input_batch_torch) \n",
        "        train_loss = criterion(outputs, target_batch_torch)\n",
        "        _, predicted = torch.max(outputs, 1)\n",
        "        train_acc= accuracy_score(predicted.cpu().numpy(),target_batch_torch.cpu().numpy())\n",
        "\n",
        "        print('Epoch: %d, train loss: %.5f, train_acc: %.4f'%(epoch + 1, train_loss.item(), train_acc))\n",
        "\n",
        "print('Finished Training')\n",
        "\n",
        "## Prediction\n",
        "net.eval()\n",
        "outputs = net(torch.from_numpy(test_embeddings).float().to(device)) \n",
        "_, predicted = torch.max(outputs, 1)\n",
        "\n",
        "from sklearn.metrics import classification_report\n",
        "print(classification_report(test_label, predicted.cpu().numpy(),digits=4))"
      ],
      "execution_count": 0,
      "outputs": []
    },
    {
      "cell_type": "code",
      "metadata": {
        "colab_type": "code",
        "outputId": "5b2418d6-2a5f-40b3-e0ed-36da2493f8ae",
        "id": "LJJmS7udQc4q",
        "colab": {
          "base_uri": "https://localhost:8080/",
          "height": 1000
        }
      },
      "source": [
        "#The following is the sample output \n",
        "#As mentioned in the previous labs, it is impossible to get the same result (randomness in the training process)."
      ],
      "execution_count": 0,
      "outputs": [
        {
          "output_type": "stream",
          "text": [
            "Epoch: 100, train loss: 1.21694, train_acc: 0.4850\n",
            "Epoch: 200, train loss: 1.24536, train_acc: 0.3950\n",
            "Epoch: 300, train loss: 1.35449, train_acc: 0.3450\n",
            "Epoch: 400, train loss: 1.34606, train_acc: 0.3350\n",
            "Epoch: 500, train loss: 1.35706, train_acc: 0.2800\n",
            "Epoch: 600, train loss: 1.32822, train_acc: 0.3450\n",
            "Epoch: 700, train loss: 1.15759, train_acc: 0.5050\n",
            "Epoch: 800, train loss: 1.03310, train_acc: 0.5100\n",
            "Epoch: 900, train loss: 1.37713, train_acc: 0.2700\n",
            "Epoch: 1000, train loss: 1.36268, train_acc: 0.3200\n",
            "Epoch: 1100, train loss: 1.07713, train_acc: 0.4650\n",
            "Epoch: 1200, train loss: 0.81771, train_acc: 0.5200\n",
            "Epoch: 1300, train loss: 0.76015, train_acc: 0.5100\n",
            "Epoch: 1400, train loss: 0.76653, train_acc: 0.5650\n",
            "Epoch: 1500, train loss: 0.76491, train_acc: 0.6650\n",
            "Epoch: 1600, train loss: 0.59196, train_acc: 0.6950\n",
            "Epoch: 1700, train loss: 1.06773, train_acc: 0.6250\n",
            "Epoch: 1800, train loss: 0.54543, train_acc: 0.6950\n",
            "Epoch: 1900, train loss: 0.50840, train_acc: 0.7450\n",
            "Epoch: 2000, train loss: 0.43135, train_acc: 0.7650\n",
            "Epoch: 2100, train loss: 0.47718, train_acc: 0.7500\n",
            "Epoch: 2200, train loss: 0.45051, train_acc: 0.7350\n",
            "Epoch: 2300, train loss: 0.45664, train_acc: 0.7200\n",
            "Epoch: 2400, train loss: 0.40105, train_acc: 0.7650\n",
            "Epoch: 2500, train loss: 0.49771, train_acc: 0.7700\n",
            "Epoch: 2600, train loss: 0.43443, train_acc: 0.7550\n",
            "Epoch: 2700, train loss: 0.42603, train_acc: 0.7850\n",
            "Epoch: 2800, train loss: 0.43243, train_acc: 0.7650\n",
            "Epoch: 2900, train loss: 0.47906, train_acc: 0.7300\n",
            "Epoch: 3000, train loss: 0.40183, train_acc: 0.7700\n",
            "Epoch: 3100, train loss: 0.36424, train_acc: 0.7950\n",
            "Epoch: 3200, train loss: 0.43411, train_acc: 0.7750\n",
            "Epoch: 3300, train loss: 0.31626, train_acc: 0.7650\n",
            "Epoch: 3400, train loss: 0.58134, train_acc: 0.7300\n",
            "Epoch: 3500, train loss: 0.38333, train_acc: 0.7750\n",
            "Epoch: 3600, train loss: 0.30802, train_acc: 0.8150\n",
            "Epoch: 3700, train loss: 0.28024, train_acc: 0.8450\n",
            "Epoch: 3800, train loss: 0.40205, train_acc: 0.8050\n",
            "Epoch: 3900, train loss: 0.35988, train_acc: 0.8050\n",
            "Epoch: 4000, train loss: 0.26996, train_acc: 0.7900\n",
            "Epoch: 4100, train loss: 0.31308, train_acc: 0.8500\n",
            "Epoch: 4200, train loss: 0.32267, train_acc: 0.8000\n",
            "Epoch: 4300, train loss: 0.31892, train_acc: 0.7850\n",
            "Epoch: 4400, train loss: 0.31536, train_acc: 0.8450\n",
            "Epoch: 4500, train loss: 0.32055, train_acc: 0.8200\n",
            "Epoch: 4600, train loss: 0.27143, train_acc: 0.7850\n",
            "Epoch: 4700, train loss: 0.70663, train_acc: 0.7400\n",
            "Epoch: 4800, train loss: 0.32027, train_acc: 0.8100\n",
            "Epoch: 4900, train loss: 0.31337, train_acc: 0.7850\n",
            "Epoch: 5000, train loss: 0.23999, train_acc: 0.8250\n",
            "Finished Training\n",
            "              precision    recall  f1-score   support\n",
            "\n",
            "           0     0.4536    0.8925    0.6014        93\n",
            "           1     0.9120    0.9344    0.9231       122\n",
            "           2     0.9709    0.9174    0.9434       109\n",
            "           3     0.6341    0.2031    0.3077       128\n",
            "\n",
            "    accuracy                         0.7146       452\n",
            "   macro avg     0.7426    0.7369    0.6939       452\n",
            "weighted avg     0.7532    0.7146    0.6875       452\n",
            "\n"
          ],
          "name": "stdout"
        }
      ]
    }
  ]
}