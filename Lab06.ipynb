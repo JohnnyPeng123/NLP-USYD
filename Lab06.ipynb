{
  "nbformat": 4,
  "nbformat_minor": 0,
  "metadata": {
    "colab": {
      "name": "Lab06.ipynb",
      "provenance": [],
      "collapsed_sections": [],
      "toc_visible": true,
      "include_colab_link": true
    },
    "kernelspec": {
      "name": "python3",
      "display_name": "Python 3"
    },
    "accelerator": "GPU"
  },
  "cells": [
    {
      "cell_type": "markdown",
      "metadata": {
        "id": "view-in-github",
        "colab_type": "text"
      },
      "source": [
        "<a href=\"https://colab.research.google.com/github/JohnnyPeng123/NLP-USYD/blob/master/Lab06.ipynb\" target=\"_parent\"><img src=\"https://colab.research.google.com/assets/colab-badge.svg\" alt=\"Open In Colab\"/></a>"
      ]
    },
    {
      "cell_type": "markdown",
      "metadata": {
        "id": "siAIwRRGUtWW",
        "colab_type": "text"
      },
      "source": [
        "# Lab06"
      ]
    },
    {
      "cell_type": "markdown",
      "metadata": {
        "id": "lHbXdZ0b7_-W",
        "colab_type": "text"
      },
      "source": [
        "# POS Tagging\n",
        "POS tagging is the process of marking up a word in a corpus to a corresponding part of a speech tag, based on its context and definition. This task is not straightforward, as a particular word may have a different part of speech based on the context in which the word is used"
      ]
    },
    {
      "cell_type": "markdown",
      "metadata": {
        "id": "o2Yuq_ck8lzM",
        "colab_type": "text"
      },
      "source": [
        "## Regular Expression Tagger\n",
        "\n",
        "The regular expression tagger assigns tags to tokens on the basis of matching patterns. For instance, we might guess that any word ending in ed is the past participle of a verb, and any word ending with 's is a possessive noun. We can express these as a list of regular expressions: \n",
        "\n"
      ]
    },
    {
      "cell_type": "code",
      "metadata": {
        "id": "J_SNkGVsftLK",
        "colab_type": "code",
        "outputId": "832fdc24-2f22-425e-98f2-3315ddd42e5e",
        "colab": {
          "base_uri": "https://localhost:8080/",
          "height": 89
        }
      },
      "source": [
        "import nltk\n",
        "\n",
        "# Downloading required corpus\n",
        "nltk.download('punkt')\n",
        "nltk.download('brown')\n",
        "\n",
        "from nltk import word_tokenize\n",
        "from nltk.corpus import brown\n",
        "\n",
        "brown_tagged_sents = brown.tagged_sents(categories='news')\n",
        "brown_sents = brown.sents(categories='news')"
      ],
      "execution_count": 0,
      "outputs": [
        {
          "output_type": "stream",
          "text": [
            "[nltk_data] Downloading package punkt to /root/nltk_data...\n",
            "[nltk_data]   Package punkt is already up-to-date!\n",
            "[nltk_data] Downloading package brown to /root/nltk_data...\n",
            "[nltk_data]   Package brown is already up-to-date!\n"
          ],
          "name": "stdout"
        }
      ]
    },
    {
      "cell_type": "code",
      "metadata": {
        "id": "7VMB4D7Vfipk",
        "colab_type": "code",
        "colab": {}
      },
      "source": [
        " # Define regular expression patterns\n",
        " patterns = [\n",
        "        (r'.*ing$', 'VBG'),               # gerunds\n",
        "        (r'.*ed$', 'VBD'),                # simple past\n",
        "        (r'.*es$', 'VBZ'),                # 3rd singular present\n",
        "        (r'.*ould$', 'MD'),               # modals\n",
        "        (r'.*\\'s$', 'NN$'),               # possessive nouns\n",
        "        (r'.*s$', 'NNS'),                 # plural nouns\n",
        "        (r'^-?[0-9]+(.[0-9]+)?$', 'CD'),  # cardinal numbers\n",
        "        (r'.*', 'NN')                     # nouns (default)\n",
        "    ]"
      ],
      "execution_count": 0,
      "outputs": []
    },
    {
      "cell_type": "code",
      "metadata": {
        "id": "ejmC2tSLk3dA",
        "colab_type": "code",
        "outputId": "b8315d60-5512-484e-f040-6e3bbc81e6e4",
        "colab": {
          "base_uri": "https://localhost:8080/",
          "height": 73
        }
      },
      "source": [
        "# Build regular expression tagger using the defined patterns\n",
        "regexp_tagger = nltk.RegexpTagger(patterns)\n",
        "\n",
        "# Print one of the sentences\n",
        "print(brown_sents[3])\n",
        "# Print one of the tagged sentences\n",
        "print(regexp_tagger.tag(brown_sents[3]))"
      ],
      "execution_count": 0,
      "outputs": [
        {
          "output_type": "stream",
          "text": [
            "['``', 'Only', 'a', 'relative', 'handful', 'of', 'such', 'reports', 'was', 'received', \"''\", ',', 'the', 'jury', 'said', ',', '``', 'considering', 'the', 'widespread', 'interest', 'in', 'the', 'election', ',', 'the', 'number', 'of', 'voters', 'and', 'the', 'size', 'of', 'this', 'city', \"''\", '.']\n",
            "[('``', 'NN'), ('Only', 'NN'), ('a', 'NN'), ('relative', 'NN'), ('handful', 'NN'), ('of', 'NN'), ('such', 'NN'), ('reports', 'NNS'), ('was', 'NNS'), ('received', 'VBD'), (\"''\", 'NN'), (',', 'NN'), ('the', 'NN'), ('jury', 'NN'), ('said', 'NN'), (',', 'NN'), ('``', 'NN'), ('considering', 'VBG'), ('the', 'NN'), ('widespread', 'NN'), ('interest', 'NN'), ('in', 'NN'), ('the', 'NN'), ('election', 'NN'), (',', 'NN'), ('the', 'NN'), ('number', 'NN'), ('of', 'NN'), ('voters', 'NNS'), ('and', 'NN'), ('the', 'NN'), ('size', 'NN'), ('of', 'NN'), ('this', 'NNS'), ('city', 'NN'), (\"''\", 'NN'), ('.', 'NN')]\n"
          ],
          "name": "stdout"
        }
      ]
    },
    {
      "cell_type": "code",
      "metadata": {
        "id": "V8wT_6a7k63S",
        "colab_type": "code",
        "outputId": "11ec5699-65a2-45cb-ff73-d70e07dbfbfd",
        "colab": {
          "base_uri": "https://localhost:8080/",
          "height": 35
        }
      },
      "source": [
        "# Evaluate the tagger (Calculate the accuracy/performance)\n",
        "regexp_tagger.evaluate(brown_tagged_sents)"
      ],
      "execution_count": 0,
      "outputs": [
        {
          "output_type": "execute_result",
          "data": {
            "text/plain": [
              "0.20326391789486245"
            ]
          },
          "metadata": {
            "tags": []
          },
          "execution_count": 35
        }
      ]
    },
    {
      "cell_type": "code",
      "metadata": {
        "id": "wYPlTCtt8s9L",
        "colab_type": "code",
        "outputId": "96b6b102-f8ec-4265-a17c-19e465e9f516",
        "colab": {
          "base_uri": "https://localhost:8080/",
          "height": 35
        }
      },
      "source": [
        "raw = 'This race is awesome, I want to race too'\n",
        "tokens = word_tokenize(raw)\n",
        "\n",
        "print(regexp_tagger.tag(tokens))"
      ],
      "execution_count": 0,
      "outputs": [
        {
          "output_type": "stream",
          "text": [
            "[('This', 'NNS'), ('race', 'NN'), ('is', 'NNS'), ('awesome', 'NN'), (',', 'NN'), ('I', 'NN'), ('want', 'NN'), ('to', 'NN'), ('race', 'NN'), ('too', 'NN')]\n"
          ],
          "name": "stdout"
        }
      ]
    },
    {
      "cell_type": "markdown",
      "metadata": {
        "id": "-GLU4cC8r49g",
        "colab_type": "text"
      },
      "source": [
        "# Hidden Markov Models \n",
        "\n",
        "A hidden Markov model (HMM) allows us to talk about both observed events Hidden\n",
        "Markov model (like words that we see in the input) and hidden events (like part-of-speech tags) that we think of as causal factors in our probabilistic model."
      ]
    },
    {
      "cell_type": "code",
      "metadata": {
        "id": "w-Uuv3D5YhhS",
        "colab_type": "code",
        "outputId": "6af65222-fd03-4137-ea57-d3d696e9e708",
        "colab": {
          "base_uri": "https://localhost:8080/",
          "height": 53
        }
      },
      "source": [
        "# Hidden Markov Models in Python\n",
        "# Katrin Erk, March 2013 updated March 2016\n",
        "#\n",
        "# This HMM addresses the problem of part-of-speech tagging. It estimates\n",
        "# the probability of a tag sequence for a given word sequence as follows:\n",
        "#\n",
        "# Say words = w1....wN\n",
        "# and tags = t1..tN\n",
        "#\n",
        "# then\n",
        "# P(tags | words) is_proportional_to  product P(ti | t{i-1}) P(wi | ti)\n",
        "#\n",
        "# To find the best tag sequence for a given sequence of words,\n",
        "# we want to find the tag sequence that has the maximum P(tags | words)\n",
        "import nltk\n",
        "import sys\n",
        "nltk.download('brown')\n",
        "\n",
        "from nltk.corpus import brown\n",
        "from nltk.corpus import treebank\n"
      ],
      "execution_count": 0,
      "outputs": [
        {
          "output_type": "stream",
          "text": [
            "[nltk_data] Downloading package brown to /root/nltk_data...\n",
            "[nltk_data]   Package brown is already up-to-date!\n"
          ],
          "name": "stdout"
        }
      ]
    },
    {
      "cell_type": "code",
      "metadata": {
        "id": "TO_rZxt1wv2z",
        "colab_type": "code",
        "outputId": "70169e66-19f4-4729-a095-c5a0497f5417",
        "colab": {
          "base_uri": "https://localhost:8080/",
          "height": 107
        }
      },
      "source": [
        "# Estimating P(wi | ti) from corpus data using Maximum Likelihood Estimation (MLE):\n",
        "# P(wi | ti) = count(wi, ti) / count(ti)\n",
        "#\n",
        "# We add an artificial \"start\" tag at the beginning of each sentence, and\n",
        "# We add an artificial \"end\" tag at the end of each sentence.\n",
        "# So we start out with the brown tagged sentences,\n",
        "# add the two artificial tags,\n",
        "# and then make one long list of all the tag/word pairs.\n",
        "\n",
        "brown_tags_words = []\n",
        "brown_tagged_sents = brown.tagged_sents()\n",
        "\n",
        "for sent in brown_tagged_sents:\n",
        "    # sent is a list of word/tag pairs\n",
        "    # add START/START at the beginning\n",
        "    brown_tags_words.append( (\"START\", \"START\") )\n",
        "    # then all the tag/word pairs for the word/tag pairs in the sentence.\n",
        "    # shorten tags to 2 characters each\n",
        "    brown_tags_words.extend([ (tag[:2], word) for (word, tag) in sent ])\n",
        "    # then END/END\n",
        "    brown_tags_words.append( (\"END\", \"END\") )\n",
        "\n",
        "# conditional frequency distribution\n",
        "cfd_tagwords = nltk.ConditionalFreqDist(brown_tags_words)\n",
        "# conditional probability distribution\n",
        "cpd_tagwords = nltk.ConditionalProbDist(cfd_tagwords, nltk.MLEProbDist)\n",
        "\n",
        "print(\"The probability of an adjective (JJ) being 'new' is\", cpd_tagwords[\"JJ\"].prob(\"new\"))\n",
        "print(\"The probability of a verb (VB) being 'duck' is\", cpd_tagwords[\"VB\"].prob(\"duck\"))\n",
        "\n",
        "# Estimating P(ti | t{i-1}) from corpus data using Maximum Likelihood Estimation (MLE):\n",
        "# P(ti | t{i-1}) = count(t{i-1}, ti) / count(t{i-1})\n",
        "brown_tags = [tag for (tag, word) in brown_tags_words ]\n",
        "\n",
        "# make conditional frequency distribution:\n",
        "# count(t{i-1} ti)\n",
        "cfd_tags= nltk.ConditionalFreqDist(nltk.bigrams(brown_tags))\n",
        "# make conditional probability distribution, using\n",
        "# maximum likelihood estimate:\n",
        "# P(ti | t{i-1})\n",
        "cpd_tags = nltk.ConditionalProbDist(cfd_tags, nltk.MLEProbDist)\n",
        "\n",
        "print(\"If we have just seen 'DT', the probability of 'NN' is\", cpd_tags[\"DT\"].prob(\"NN\"))\n",
        "print( \"If we have just seen 'VB', the probability of 'JJ' is\", cpd_tags[\"VB\"].prob(\"DT\"))\n",
        "print( \"If we have just seen 'VB', the probability of 'NN' is\", cpd_tags[\"VB\"].prob(\"NN\"))\n"
      ],
      "execution_count": 0,
      "outputs": [
        {
          "output_type": "stream",
          "text": [
            "The probability of an adjective (JJ) being 'new' is 0.01472344917632025\n",
            "The probability of a verb (VB) being 'duck' is 6.042713350943527e-05\n",
            "If we have just seen 'DT', the probability of 'NN' is 0.5057722522030194\n",
            "If we have just seen 'VB', the probability of 'JJ' is 0.016885067592065053\n",
            "If we have just seen 'VB', the probability of 'NN' is 0.10970977711020183\n"
          ],
          "name": "stdout"
        }
      ]
    },
    {
      "cell_type": "markdown",
      "metadata": {
        "id": "V35OhECloeUl",
        "colab_type": "text"
      },
      "source": [
        "## Viterbi Algorithm"
      ]
    },
    {
      "cell_type": "code",
      "metadata": {
        "id": "jaetc1FSsgLW",
        "colab_type": "code",
        "outputId": "e769b813-bbc2-4cdf-e5cc-52e635238dd1",
        "colab": {
          "base_uri": "https://localhost:8080/",
          "height": 343
        }
      },
      "source": [
        "#####\n",
        "# Viterbi:\n",
        "# If we have a word sequence, what is the best tag sequence?\n",
        "#\n",
        "# The method above lets us determine the probability for a single tag sequence.\n",
        "# But in order to find the best tag sequence, we need the probability\n",
        "# for _all_ tag sequence.\n",
        "# What Viterbi gives us is just a good way of computing all those many probabilities\n",
        "# as fast as possible.\n",
        "\n",
        "# what is the list of all tags?\n",
        "distinct_tags = set(brown_tags)\n",
        "\n",
        "sentence = [\"This\", \"race\", \"is\", \"awesome\", \",\", \"I\", \"want\", \"to\", \"race\", \"too\" ]\n",
        "#sentence = [\"I\", \"saw\", \"her\", \"duck\" ]\n",
        "sentlen = len(sentence)\n",
        "\n",
        "# viterbi:\n",
        "# for each step i in 1 .. sentlen,\n",
        "# store a dictionary\n",
        "# that maps each tag X\n",
        "# to the probability of the best tag sequence of length i that ends in X\n",
        "viterbi = [ ]\n",
        "\n",
        "# backpointer:\n",
        "# for each step i in 1..sentlen,\n",
        "# store a dictionary\n",
        "# that maps each tag X\n",
        "# to the previous tag in the best tag sequence of length i that ends in X\n",
        "backpointer = [ ]\n",
        "\n",
        "first_viterbi = { }\n",
        "first_backpointer = { }\n",
        "for tag in distinct_tags:\n",
        "    # don't record anything for the START tag\n",
        "    if tag == \"START\": continue\n",
        "    first_viterbi[ tag ] = cpd_tags[\"START\"].prob(tag) * cpd_tagwords[tag].prob( sentence[0] )\n",
        "    first_backpointer[ tag ] = \"START\"\n",
        "\n",
        "print(first_viterbi)\n",
        "print(first_backpointer)\n",
        "    \n",
        "viterbi.append(first_viterbi)\n",
        "backpointer.append(first_backpointer)\n",
        "\n",
        "currbest = max(first_viterbi.keys(), key = lambda tag: first_viterbi[ tag ])\n",
        "print( \"Word\", \"'\" + sentence[0] + \"'\", \"current best two-tag sequence:\", first_backpointer[ currbest], currbest)\n",
        "# print( \"Word\", \"'\" + sentence[0] + \"'\", \"current best tag:\", currbest)\n",
        "\n",
        "for wordindex in range(1, len(sentence)):\n",
        "    this_viterbi = { }\n",
        "    this_backpointer = { }\n",
        "    prev_viterbi = viterbi[-1]\n",
        "    \n",
        "    for tag in distinct_tags:\n",
        "        # don't record anything for the START tag\n",
        "        if tag == \"START\": continue\n",
        "\n",
        "        # if this tag is X and the current word is w, then \n",
        "        # find the previous tag Y such that\n",
        "        # the best tag sequence that ends in X\n",
        "        # actually ends in Y X\n",
        "        # that is, the Y that maximizes\n",
        "        # prev_viterbi[ Y ] * P(X | Y) * P( w | X)\n",
        "        # The following command has the same notation\n",
        "        # that you saw in the sorted() command.\n",
        "        best_previous = max(prev_viterbi.keys(),\n",
        "                            key = lambda prevtag: \\\n",
        "            prev_viterbi[ prevtag ] * cpd_tags[prevtag].prob(tag) * cpd_tagwords[tag].prob(sentence[wordindex]))\n",
        "\n",
        "        # Instead, we can also use the following longer code:\n",
        "        # best_previous = None\n",
        "        # best_prob = 0.0\n",
        "        # for prevtag in distinct_tags:\n",
        "        #    prob = prev_viterbi[ prevtag ] * cpd_tags[prevtag].prob(tag) * cpd_tagwords[tag].prob(sentence[wordindex])\n",
        "        #    if prob > best_prob:\n",
        "        #        best_previous= prevtag\n",
        "        #        best_prob = prob\n",
        "        #\n",
        "        this_viterbi[ tag ] = prev_viterbi[ best_previous] * \\\n",
        "            cpd_tags[ best_previous ].prob(tag) * cpd_tagwords[ tag].prob(sentence[wordindex])\n",
        "        this_backpointer[ tag ] = best_previous\n",
        "\n",
        "    currbest = max(this_viterbi.keys(), key = lambda tag: this_viterbi[ tag ])\n",
        "    print( \"Word\", \"'\" + sentence[ wordindex] + \"'\", \"current best two-tag sequence:\", this_backpointer[ currbest], currbest)\n",
        "    # print( \"Word\", \"'\" + sentence[ wordindex] + \"'\", \"current best tag:\", currbest)\n",
        "\n",
        "\n",
        "    # done with all tags in this iteration\n",
        "    # so store the current viterbi step\n",
        "    viterbi.append(this_viterbi)\n",
        "    backpointer.append(this_backpointer)\n",
        "\n",
        "\n",
        "# done with all words in the sentence.\n",
        "# now find the probability of each tag\n",
        "# to have \"END\" as the next tag,\n",
        "# and use that to find the overall best sequence\n",
        "prev_viterbi = viterbi[-1]\n",
        "best_previous = max(prev_viterbi.keys(),\n",
        "                    key = lambda prevtag: prev_viterbi[ prevtag ] * cpd_tags[prevtag].prob(\"END\"))\n",
        "\n",
        "prob_tagsequence = prev_viterbi[ best_previous ] * cpd_tags[ best_previous].prob(\"END\")\n",
        "\n",
        "# best tagsequence: we store this in reverse for now, will invert later\n",
        "best_tagsequence = [ \"END\", best_previous ]\n",
        "# invert the list of backpointers\n",
        "backpointer.reverse()\n",
        "\n",
        "# go backwards through the list of backpointers\n",
        "# (or in this case forward, because we have inverter the backpointer list)\n",
        "# in each case:\n",
        "# the following best tag is the one listed under\n",
        "# the backpointer for the current best tag\n",
        "current_best_tag = best_previous\n",
        "for bp in backpointer:\n",
        "    best_tagsequence.append(bp[current_best_tag])\n",
        "    current_best_tag = bp[current_best_tag]\n",
        "\n",
        "best_tagsequence.reverse()\n",
        "print( \"The sentence was:\", end = \" \")\n",
        "for w in sentence: print( w, end = \" \")\n",
        "print(\"\\n\")\n",
        "print( \"The best tag sequence is:\", end = \" \")\n",
        "for t in best_tagsequence: print (t, end = \" \")\n",
        "print(\"\\n\")\n",
        "print( \"The probability of the best tag sequence is:\", prob_tagsequence)\n",
        "\n"
      ],
      "execution_count": 0,
      "outputs": [
        {
          "output_type": "stream",
          "text": [
            "{'TO': 0.0, 'CS': 0.0, 'MD': 0.0, 'RN': 0.0, \"'\": 0.0, ',-': 0.0, 'WR': 0.0, ',': 0.0, 'NR': 0.0, 'BE': 0.0, 'AT': 0.0, 'CC': 0.0, 'FW': 0.0, 'PP': 0.0, 'NP': 0.0, 'END': 0.0, 'WP': 0.0, 'WD': 0.0, '.-': 0.0, ':': 0.0, '.': 0.0, 'VB': 0.0, '(-': 0.0, ':-': 0.0, '``': 0.0, 'DO': 0.0, 'HV': 0.0, 'DT': 0.0033218181276236437, ')-': 0.0, 'AB': 0.0, 'IN': 0.0, '--': 0.0, 'WQ': 0.0, '*-': 0.0, '(': 0.0, 'OD': 0.0, 'PN': 0.0, 'UH': 0.0, 'CD': 0.0, 'RB': 0.0, '*': 0.0, 'EX': 0.0, \"''\": 0.0, 'AP': 0.0, ')': 0.0, 'QL': 0.0, 'NI': 0.0, 'RP': 0.0, 'JJ': 0.0, 'NN': 0.0}\n",
            "{'TO': 'START', 'CS': 'START', 'MD': 'START', 'RN': 'START', \"'\": 'START', ',-': 'START', 'WR': 'START', ',': 'START', 'NR': 'START', 'BE': 'START', 'AT': 'START', 'CC': 'START', 'FW': 'START', 'PP': 'START', 'NP': 'START', 'END': 'START', 'WP': 'START', 'WD': 'START', '.-': 'START', ':': 'START', '.': 'START', 'VB': 'START', '(-': 'START', ':-': 'START', '``': 'START', 'DO': 'START', 'HV': 'START', 'DT': 'START', ')-': 'START', 'AB': 'START', 'IN': 'START', '--': 'START', 'WQ': 'START', '*-': 'START', '(': 'START', 'OD': 'START', 'PN': 'START', 'UH': 'START', 'CD': 'START', 'RB': 'START', '*': 'START', 'EX': 'START', \"''\": 'START', 'AP': 'START', ')': 'START', 'QL': 'START', 'NI': 'START', 'RP': 'START', 'JJ': 'START', 'NN': 'START'}\n",
            "Word 'This' current best two-tag sequence: START DT\n",
            "Word 'race' current best two-tag sequence: DT NN\n",
            "Word 'is' current best two-tag sequence: NN BE\n",
            "Word 'awesome' current best two-tag sequence: BE JJ\n",
            "Word ',' current best two-tag sequence: JJ ,\n",
            "Word 'I' current best two-tag sequence: , PP\n",
            "Word 'want' current best two-tag sequence: PP VB\n",
            "Word 'to' current best two-tag sequence: VB TO\n",
            "Word 'race' current best two-tag sequence: IN NN\n",
            "Word 'too' current best two-tag sequence: VB QL\n",
            "The sentence was: This race is awesome , I want to race too \n",
            "\n",
            "The best tag sequence is: START DT NN BE JJ , PP VB TO VB RB END \n",
            "\n",
            "The probability of the best tag sequence is: 3.9954320581626204e-33\n"
          ],
          "name": "stdout"
        }
      ]
    },
    {
      "cell_type": "markdown",
      "metadata": {
        "id": "gLtm3qKYsDVZ",
        "colab_type": "text"
      },
      "source": [
        "The code is implemented by [Katrin Erk](http://www.katrinerk.com/courses/python-worksheets/hidden-markov-models-for-pos-tagging-in-python)"
      ]
    },
    {
      "cell_type": "markdown",
      "metadata": {
        "id": "3cY7cOjnUvMc",
        "colab_type": "text"
      },
      "source": [
        "##  Train HMM Tagger with NLTK HMM Trainer"
      ]
    },
    {
      "cell_type": "code",
      "metadata": {
        "id": "S8akyRu6qvcr",
        "colab_type": "code",
        "outputId": "0e00c42e-6ec4-4abb-f6a0-f4fa3f4e0a5e",
        "colab": {
          "base_uri": "https://localhost:8080/",
          "height": 55
        }
      },
      "source": [
        "# Pretagged training data\n",
        "brown_tagged_sents = brown.tagged_sents()\n",
        "\n",
        "print(brown_tagged_sents)"
      ],
      "execution_count": 0,
      "outputs": [
        {
          "output_type": "stream",
          "text": [
            "[[('The', 'AT'), ('Fulton', 'NP-TL'), ('County', 'NN-TL'), ('Grand', 'JJ-TL'), ('Jury', 'NN-TL'), ('said', 'VBD'), ('Friday', 'NR'), ('an', 'AT'), ('investigation', 'NN'), ('of', 'IN'), (\"Atlanta's\", 'NP$'), ('recent', 'JJ'), ('primary', 'NN'), ('election', 'NN'), ('produced', 'VBD'), ('``', '``'), ('no', 'AT'), ('evidence', 'NN'), (\"''\", \"''\"), ('that', 'CS'), ('any', 'DTI'), ('irregularities', 'NNS'), ('took', 'VBD'), ('place', 'NN'), ('.', '.')], [('The', 'AT'), ('jury', 'NN'), ('further', 'RBR'), ('said', 'VBD'), ('in', 'IN'), ('term-end', 'NN'), ('presentments', 'NNS'), ('that', 'CS'), ('the', 'AT'), ('City', 'NN-TL'), ('Executive', 'JJ-TL'), ('Committee', 'NN-TL'), (',', ','), ('which', 'WDT'), ('had', 'HVD'), ('over-all', 'JJ'), ('charge', 'NN'), ('of', 'IN'), ('the', 'AT'), ('election', 'NN'), (',', ','), ('``', '``'), ('deserves', 'VBZ'), ('the', 'AT'), ('praise', 'NN'), ('and', 'CC'), ('thanks', 'NNS'), ('of', 'IN'), ('the', 'AT'), ('City', 'NN-TL'), ('of', 'IN-TL'), ('Atlanta', 'NP-TL'), (\"''\", \"''\"), ('for', 'IN'), ('the', 'AT'), ('manner', 'NN'), ('in', 'IN'), ('which', 'WDT'), ('the', 'AT'), ('election', 'NN'), ('was', 'BEDZ'), ('conducted', 'VBN'), ('.', '.')], ...]\n"
          ],
          "name": "stdout"
        }
      ]
    },
    {
      "cell_type": "code",
      "metadata": {
        "id": "ftW_G61yqv_T",
        "colab_type": "code",
        "outputId": "4d83a844-72cb-4b4b-e1c5-4154bbbacab1",
        "colab": {
          "base_uri": "https://localhost:8080/",
          "height": 53
        }
      },
      "source": [
        "# Import HMM module\n",
        "from nltk.tag import hmm\n",
        "\n",
        "# Setup a trainer with default(None) values\n",
        "# And train with the data\n",
        "trainer = hmm.HiddenMarkovModelTrainer()\n",
        "trained_tagger = trainer.train_supervised(brown_tagged_sents)\n",
        "\n",
        "print (trained_tagger)\n",
        "# Prints the basic data about the tagger\n",
        "\n",
        "tokens = word_tokenize(\"This race is awesome, I want to race too\")\n",
        "print(trained_tagger.tag(tokens))\n",
        "\n"
      ],
      "execution_count": 0,
      "outputs": [
        {
          "output_type": "stream",
          "text": [
            "<HiddenMarkovModelTagger 472 states and 56057 output symbols>\n",
            "[('This', 'DT'), ('race', 'NN'), ('is', 'BEZ'), ('awesome', 'JJ'), (',', ','), ('I', 'PPSS'), ('want', 'VB'), ('to', 'TO'), ('race', 'VB'), ('too', 'QL')]\n"
          ],
          "name": "stdout"
        }
      ]
    },
    {
      "cell_type": "markdown",
      "metadata": {
        "id": "dxHS0Ji2p5X3",
        "colab_type": "text"
      },
      "source": [
        "# Bi-LSTM based POS Tagger (Pytorch)\n",
        "\n",
        "In this example, we would try to train PoS tagger using Bi-LSTM. \n",
        "\n",
        "![alt text](https://usydnlpgroup.files.wordpress.com/2020/03/bi-lstm_nton-e1586049916759.png)"
      ]
    },
    {
      "cell_type": "markdown",
      "metadata": {
        "id": "sSHk_WHa_bfV",
        "colab_type": "text"
      },
      "source": [
        "## Training data"
      ]
    },
    {
      "cell_type": "code",
      "metadata": {
        "id": "kYLogDRZH1cd",
        "colab_type": "code",
        "outputId": "6802ac01-a5fb-42cf-d9d4-6e8f429f0856",
        "colab": {
          "base_uri": "https://localhost:8080/",
          "height": 89
        }
      },
      "source": [
        "import nltk\n",
        "nltk.download('punkt')\n",
        "from nltk import word_tokenize\n",
        "\n",
        "nltk.download('treebank')\n",
        "from nltk.corpus import treebank\n",
        "\n",
        "import numpy as np\n",
        "from sklearn.model_selection import train_test_split\n",
        " "
      ],
      "execution_count": 0,
      "outputs": [
        {
          "output_type": "stream",
          "text": [
            "[nltk_data] Downloading package punkt to /root/nltk_data...\n",
            "[nltk_data]   Package punkt is already up-to-date!\n",
            "[nltk_data] Downloading package treebank to /root/nltk_data...\n",
            "[nltk_data]   Package treebank is already up-to-date!\n"
          ],
          "name": "stdout"
        }
      ]
    },
    {
      "cell_type": "code",
      "metadata": {
        "colab_type": "code",
        "id": "-m4-XQjo6Qu5",
        "outputId": "f289e9eb-6965-472a-dafc-e17e26da47a4",
        "colab": {
          "base_uri": "https://localhost:8080/",
          "height": 91
        }
      },
      "source": [
        "# Retrieve tagged sentences from treebank corpus\n",
        "tagged_sentences = nltk.corpus.treebank.tagged_sents()\n",
        " \n",
        "print(tagged_sentences[0])\n",
        "print(\"Tagged sentences: \", len(tagged_sentences))\n",
        "print(\"Tagged words:\", len(nltk.corpus.treebank.tagged_words()))\n",
        "#tagged_words(): list of (str,str) tuple"
      ],
      "execution_count": 0,
      "outputs": [
        {
          "output_type": "stream",
          "text": [
            "[('Pierre', 'NNP'), ('Vinken', 'NNP'), (',', ','), ('61', 'CD'), ('years', 'NNS'), ('old', 'JJ'), (',', ','), ('will', 'MD'), ('join', 'VB'), ('the', 'DT'), ('board', 'NN'), ('as', 'IN'), ('a', 'DT'), ('nonexecutive', 'JJ'), ('director', 'NN'), ('Nov.', 'NNP'), ('29', 'CD'), ('.', '.')]\n",
            "Tagged sentences:  3914\n",
            "Tagged words: 100676\n"
          ],
          "name": "stdout"
        }
      ]
    },
    {
      "cell_type": "code",
      "metadata": {
        "colab_type": "code",
        "id": "vnE3URn56Qux",
        "outputId": "ab9a898d-37a5-43fb-e723-0cadcbe733df",
        "colab": {
          "base_uri": "https://localhost:8080/",
          "height": 143
        }
      },
      "source": [
        "sentences, sentence_tags =[], [] \n",
        "for tagged_sentence in tagged_sentences:\n",
        "    #The zip() function returns a zip object, which is an iterator of tuples where the first item in each passed iterator is paired together, \n",
        "    #and then the second item in each passed iterator are paired together etc.\n",
        "    sentence, tags = zip(*tagged_sentence)\n",
        "    sentences.append(np.array(sentence))\n",
        "    sentence_tags.append(np.array(tags))\n",
        " \n",
        "print(sentences[5])\n",
        "print(sentence_tags[5])"
      ],
      "execution_count": 0,
      "outputs": [
        {
          "output_type": "stream",
          "text": [
            "['Lorillard' 'Inc.' ',' 'the' 'unit' 'of' 'New' 'York-based' 'Loews'\n",
            " 'Corp.' 'that' '*T*-2' 'makes' 'Kent' 'cigarettes' ',' 'stopped' 'using'\n",
            " 'crocidolite' 'in' 'its' 'Micronite' 'cigarette' 'filters' 'in' '1956'\n",
            " '.']\n",
            "['NNP' 'NNP' ',' 'DT' 'NN' 'IN' 'JJ' 'JJ' 'NNP' 'NNP' 'WDT' '-NONE-' 'VBZ'\n",
            " 'NNP' 'NNS' ',' 'VBD' 'VBG' 'NN' 'IN' 'PRP$' 'NN' 'NN' 'NNS' 'IN' 'CD'\n",
            " '.']\n"
          ],
          "name": "stdout"
        }
      ]
    },
    {
      "cell_type": "code",
      "metadata": {
        "colab_type": "code",
        "id": "tn34twJZ6Qut",
        "colab": {}
      },
      "source": [
        "(train_sentences, \n",
        " test_sentences, \n",
        " train_tags, \n",
        " test_tags) = train_test_split(sentences, sentence_tags, test_size=0.2)"
      ],
      "execution_count": 0,
      "outputs": []
    },
    {
      "cell_type": "markdown",
      "metadata": {
        "id": "xKCc8BbR_l87",
        "colab_type": "text"
      },
      "source": [
        "### Making vocabs with special tokens\n",
        "\n",
        "*PAD: Padding*\n",
        "*OOV: Out Of Vocabulary*"
      ]
    },
    {
      "cell_type": "code",
      "metadata": {
        "colab_type": "code",
        "id": "CY1FlDIo6Quo",
        "colab": {}
      },
      "source": [
        "words, tags = set([]), set([])\n",
        " \n",
        "for s in train_sentences:\n",
        "    for w in s:\n",
        "        words.add(w.lower())\n",
        "\n",
        "for ts in train_tags:\n",
        "    for t in ts:\n",
        "        tags.add(t)\n",
        "\n",
        "word2index = {w: i + 2 for i, w in enumerate(list(words))}\n",
        "word2index['-PAD-'] = 0  # The special value used for padding\n",
        "word2index['-OOV-'] = 1  # The special value used for OOVs\n",
        " \n",
        "tag2index = {t: i + 2 for i, t in enumerate(list(tags))}\n",
        "tag2index['-PAD-'] = 0  # The special value used to padding\n",
        "tag2index['-OOV-'] = 1  # The special value used for OOVs\n",
        "\n",
        "def tag_to_index(tag):\n",
        "    if tag in tag2index:\n",
        "        return tag2index[tag]\n",
        "    else:\n",
        "        return tag2index['-OOV-']"
      ],
      "execution_count": 0,
      "outputs": []
    },
    {
      "cell_type": "code",
      "metadata": {
        "colab_type": "code",
        "id": "gj_T_YTL6Qug",
        "outputId": "b41c8d95-bcf5-4da5-8830-1871f1ff5f42",
        "colab": {
          "base_uri": "https://localhost:8080/",
          "height": 109
        }
      },
      "source": [
        "train_sentences_X, test_sentences_X, train_tags_y, test_tags_y = [], [], [], []\n",
        "\n",
        "for s in train_sentences:\n",
        "    s_int = []\n",
        "    for w in s:\n",
        "        try:\n",
        "            s_int.append(word2index[w.lower()])\n",
        "        except KeyError:\n",
        "            s_int.append(word2index['-OOV-'])\n",
        "\n",
        "    train_sentences_X.append(s_int)\n",
        "\n",
        "for s in test_sentences:\n",
        "    s_int = []\n",
        "    for w in s:\n",
        "        try:\n",
        "            s_int.append(word2index[w.lower()])\n",
        "        except KeyError:\n",
        "            s_int.append(word2index['-OOV-'])\n",
        "\n",
        "    test_sentences_X.append(s_int)\n",
        "\n",
        "for s in train_tags:\n",
        "    train_tags_y.append([tag_to_index(t) for t in s])\n",
        "\n",
        "for s in test_tags:\n",
        "    test_tags_y.append([tag_to_index(t) for t in s])\n",
        "\n",
        "print(train_sentences_X[0])\n",
        "print(test_sentences_X[0])\n",
        "print(train_tags_y[0])\n",
        "print(test_tags_y[0])"
      ],
      "execution_count": 0,
      "outputs": [
        {
          "output_type": "stream",
          "text": [
            "[1055, 110, 8619, 9873, 9593, 830, 8549, 9780, 7221, 6976, 1255, 2877, 3572, 9695, 2353, 2642, 1506, 760, 9048, 4326, 1190, 3566, 8262, 2444, 4094]\n",
            "[1208, 1991, 5792, 7154, 9780, 1096, 1236, 8223, 2069, 1340, 9780, 7395, 5790, 982, 2856, 3750, 3572, 4035, 2327, 9780, 5900, 331, 5790, 4108, 5735, 5039, 1, 7395, 2869, 1340, 6095, 5790, 5045, 7654, 5913, 2415, 509, 5913, 4925, 3630, 7115, 441, 7154, 6042, 4094]\n",
            "[47, 47, 14, 9, 28, 42, 27, 26, 21, 47, 12, 9, 27, 13, 41, 31, 23, 42, 21, 21, 3, 31, 23, 47, 22]\n",
            "[27, 26, 47, 27, 26, 45, 47, 47, 47, 27, 26, 21, 8, 47, 14, 9, 27, 45, 21, 26, 45, 47, 8, 46, 42, 31, 41, 21, 14, 27, 47, 8, 9, 31, 2, 21, 42, 2, 23, 30, 45, 14, 27, 47, 22]\n"
          ],
          "name": "stdout"
        }
      ]
    },
    {
      "cell_type": "markdown",
      "metadata": {
        "id": "4eb-SNMWFdxG",
        "colab_type": "text"
      },
      "source": [
        "### Getting max length of sequence"
      ]
    },
    {
      "cell_type": "code",
      "metadata": {
        "colab_type": "code",
        "outputId": "753d52cd-69c4-4107-b76e-338739b7d860",
        "id": "Q9US1y_a6QuT",
        "colab": {
          "base_uri": "https://localhost:8080/",
          "height": 35
        }
      },
      "source": [
        "MAX_LENGTH = len(max(train_sentences_X, key=len))\n",
        "print(MAX_LENGTH) "
      ],
      "execution_count": 0,
      "outputs": [
        {
          "output_type": "stream",
          "text": [
            "271\n"
          ],
          "name": "stdout"
        }
      ]
    },
    {
      "cell_type": "markdown",
      "metadata": {
        "id": "U8jsEKMyw1aV",
        "colab_type": "text"
      },
      "source": [
        "### Add PAD by using torch pad_sequence\n",
        "Due to the limitation of Pytorch pad_sequence, we can't assign the max_length, the max_length is calculated by pad_sequence itself. You can try to add padding manually by using for loop."
      ]
    },
    {
      "cell_type": "code",
      "metadata": {
        "id": "8d5WoxwabuYC",
        "colab_type": "code",
        "colab": {}
      },
      "source": [
        "import torch\n",
        "new_train_sentences_X = [torch.from_numpy(np.array(l)) for l in train_sentences_X]\n",
        "new_test_sentences_X = [torch.from_numpy(np.array(l)) for l in test_sentences_X]\n",
        "new_train_tags_y = [torch.from_numpy(np.array(l)) for l in train_tags_y]\n",
        "new_test_tags_y = [torch.from_numpy(np.array(l)) for l in test_tags_y]"
      ],
      "execution_count": 0,
      "outputs": []
    },
    {
      "cell_type": "code",
      "metadata": {
        "id": "J7Nit7arXRYr",
        "colab_type": "code",
        "colab": {}
      },
      "source": [
        "from torch.nn.utils.rnn import pad_sequence\n",
        "after_pad = pad_sequence(new_train_sentences_X+new_test_sentences_X+new_train_tags_y+new_test_tags_y,batch_first=True)\n",
        "train_sentences_X_pad = after_pad[:len(new_train_sentences_X)]\n",
        "test_sentences_X_pad = after_pad[len(new_train_sentences_X):len(new_train_sentences_X)+len(new_test_sentences_X)]\n",
        "train_tags_y_pad = after_pad[len(new_train_sentences_X)+len(new_test_sentences_X):-len(new_test_tags_y)]\n",
        "test_tags_y_pad = after_pad[-len(new_test_tags_y):]"
      ],
      "execution_count": 0,
      "outputs": []
    },
    {
      "cell_type": "markdown",
      "metadata": {
        "id": "ZJE3qT2Vi0hL",
        "colab_type": "text"
      },
      "source": [
        "### Build Dataset and Dataloader for training data"
      ]
    },
    {
      "cell_type": "code",
      "metadata": {
        "id": "iLmjfFnVi3vp",
        "colab_type": "code",
        "colab": {}
      },
      "source": [
        "#More detailed info about the TensorDataset, https://pytorch.org/docs/1.1.0/_modules/torch/utils/data/dataset.html#TensorDataset\n",
        "from torch.utils.data import TensorDataset\n",
        "train_data = TensorDataset(train_sentences_X_pad, train_tags_y_pad)\n",
        "\n",
        "batch_size = 128\n",
        "#More detailed info about the dataLoader, https://pytorch.org/docs/1.1.0/_modules/torch/utils/data/dataloader.html\n",
        "from torch.utils.data import DataLoader\n",
        "train_loader = DataLoader(dataset=train_data, batch_size=batch_size, shuffle=False)"
      ],
      "execution_count": 0,
      "outputs": []
    },
    {
      "cell_type": "markdown",
      "metadata": {
        "id": "BjTDYN3sFtet",
        "colab_type": "text"
      },
      "source": [
        "## Pytorch Model (Bidirectional LSTM)"
      ]
    },
    {
      "cell_type": "code",
      "metadata": {
        "id": "4U7kYumQjagT",
        "colab_type": "code",
        "outputId": "047ad602-f7bc-491a-c873-47088011ee80",
        "colab": {
          "base_uri": "https://localhost:8080/",
          "height": 737
        }
      },
      "source": [
        "import torch.nn as nn\n",
        "import torch.nn.functional as F\n",
        "from sklearn.metrics import accuracy_score\n",
        "\n",
        "class LSTMTagger(nn.Module):\n",
        "\n",
        "    def __init__(self, embedding_dim, hidden_dim, vocab_size, tagset_size):\n",
        "        super(LSTMTagger, self).__init__()\n",
        "        self.hidden_dim = hidden_dim\n",
        "        self.word_embeddings = nn.Embedding(vocab_size, embedding_dim)\n",
        "        self.lstm = nn.LSTM(embedding_dim, hidden_dim,batch_first=True, bidirectional=True)  \n",
        "        self.hidden2tag = nn.Linear(hidden_dim * 2, tagset_size)\n",
        "\n",
        "\n",
        "    def forward(self, sentence):\n",
        "        embeds = self.word_embeddings(sentence)\n",
        "        lstm_out, _ = self.lstm(embeds)\n",
        "        tag_space = self.hidden2tag(lstm_out) \n",
        "        tag_scores = F.log_softmax(tag_space, dim=-1)     \n",
        "        return tag_scores\n",
        "\n",
        "\n",
        "EMBEDDING_DIM = 128\n",
        "HIDDEN_DIM = 256\n",
        "\n",
        "model = LSTMTagger(EMBEDDING_DIM, HIDDEN_DIM, len(word2index), len(tag2index)).cuda()\n",
        "loss_function = nn.NLLLoss()\n",
        "optimizer = torch.optim.Adam(model.parameters(), lr=0.001)\n",
        "\n",
        "\n",
        "for epoch in range(40):  \n",
        "    loss_now = 0.0\n",
        "    acc = 0\n",
        "\n",
        "    for sentence,targets in train_loader:\n",
        "        sentence = sentence.cuda()\n",
        "        targets = targets.cuda()\n",
        "\n",
        "        model.zero_grad()\n",
        "        model.train()       \n",
        "        tag_scores = model(sentence)\n",
        "\n",
        "        # loss = loss_function(tag_scores, targets)\n",
        "        loss = loss_function(tag_scores.view(-1,tag_scores.size(-1)), targets.view(-1))\n",
        "        loss.backward()\n",
        "        optimizer.step()\n",
        "\n",
        "        loss_now+=loss.item()\n",
        "\n",
        "        model.eval()\n",
        "        tag_scores = model(sentence)\n",
        "        _, predicted = torch.max(tag_scores, -1)\n",
        "        prediction = predicted.view(-1).cpu().numpy()\n",
        "        t = targets.view(-1).cpu().numpy()\n",
        "        # Note: The training accuracy here is calculated with \"PAD\", which means most of pos tag will be \"0\".\n",
        "        acc = acc+accuracy_score(prediction,t)*len(prediction) \n",
        "    print('Epoch: %d, training loss: %.4f, training acc: %.2f%%'%(epoch+1,loss_now,100*acc/len(train_sentences_X)/MAX_LENGTH))\n",
        "\n"
      ],
      "execution_count": 0,
      "outputs": [
        {
          "output_type": "stream",
          "text": [
            "Epoch: 1, training loss: 16.8474, training acc: 91.00%\n",
            "Epoch: 2, training loss: 7.4900, training acc: 92.74%\n",
            "Epoch: 3, training loss: 6.0220, training acc: 94.20%\n",
            "Epoch: 4, training loss: 5.1115, training acc: 94.89%\n",
            "Epoch: 5, training loss: 4.3215, training acc: 95.43%\n",
            "Epoch: 6, training loss: 3.6197, training acc: 96.22%\n",
            "Epoch: 7, training loss: 3.0292, training acc: 96.82%\n",
            "Epoch: 8, training loss: 2.5696, training acc: 97.29%\n",
            "Epoch: 9, training loss: 2.1989, training acc: 97.68%\n",
            "Epoch: 10, training loss: 1.8934, training acc: 97.99%\n",
            "Epoch: 11, training loss: 1.6402, training acc: 98.27%\n",
            "Epoch: 12, training loss: 1.4292, training acc: 98.49%\n",
            "Epoch: 13, training loss: 1.2518, training acc: 98.70%\n",
            "Epoch: 14, training loss: 1.1010, training acc: 98.87%\n",
            "Epoch: 15, training loss: 0.9717, training acc: 99.00%\n",
            "Epoch: 16, training loss: 0.8608, training acc: 99.12%\n",
            "Epoch: 17, training loss: 0.7655, training acc: 99.22%\n",
            "Epoch: 18, training loss: 0.6831, training acc: 99.31%\n",
            "Epoch: 19, training loss: 0.6110, training acc: 99.39%\n",
            "Epoch: 20, training loss: 0.5474, training acc: 99.46%\n",
            "Epoch: 21, training loss: 0.4909, training acc: 99.52%\n",
            "Epoch: 22, training loss: 0.4406, training acc: 99.58%\n",
            "Epoch: 23, training loss: 0.3957, training acc: 99.63%\n",
            "Epoch: 24, training loss: 0.3557, training acc: 99.68%\n",
            "Epoch: 25, training loss: 0.3201, training acc: 99.72%\n",
            "Epoch: 26, training loss: 0.2888, training acc: 99.75%\n",
            "Epoch: 27, training loss: 0.2629, training acc: 99.78%\n",
            "Epoch: 28, training loss: 0.2408, training acc: 99.81%\n",
            "Epoch: 29, training loss: 0.2329, training acc: 99.81%\n",
            "Epoch: 30, training loss: 0.2083, training acc: 99.83%\n",
            "Epoch: 31, training loss: 0.1772, training acc: 99.87%\n",
            "Epoch: 32, training loss: 0.1594, training acc: 99.88%\n",
            "Epoch: 33, training loss: 0.1439, training acc: 99.90%\n",
            "Epoch: 34, training loss: 0.1306, training acc: 99.91%\n",
            "Epoch: 35, training loss: 0.1188, training acc: 99.92%\n",
            "Epoch: 36, training loss: 0.1084, training acc: 99.93%\n",
            "Epoch: 37, training loss: 0.0990, training acc: 99.94%\n",
            "Epoch: 38, training loss: 0.0906, training acc: 99.95%\n",
            "Epoch: 39, training loss: 0.0832, training acc: 99.96%\n",
            "Epoch: 40, training loss: 0.0767, training acc: 99.96%\n"
          ],
          "name": "stdout"
        }
      ]
    },
    {
      "cell_type": "markdown",
      "metadata": {
        "id": "7w8nzr_Kq_oA",
        "colab_type": "text"
      },
      "source": [
        "## Test with the test set"
      ]
    },
    {
      "cell_type": "code",
      "metadata": {
        "id": "qw0HMLN7ou6A",
        "colab_type": "code",
        "outputId": "33c91cb1-dff3-4f86-dcb1-6b1fa54cf913",
        "colab": {
          "base_uri": "https://localhost:8080/",
          "height": 35
        }
      },
      "source": [
        "model.eval()\n",
        "sentence = test_sentences_X_pad.cuda()\n",
        "tag_scores = model(sentence)\n",
        "_, predicted = torch.max(tag_scores, -1)\n",
        "predicted = predicted.cpu().numpy()\n",
        "\n",
        "# cut off the PAD part\n",
        "test_len_list = [len(s) for s in test_sentences_X]\n",
        "actual_predicted_list= []\n",
        "for i in range(predicted.shape[0]):\n",
        "    actual_predicted_list+=list(predicted[i])[:test_len_list[i]]\n",
        "\n",
        "# get actual tag list\n",
        "actual_tags = sum(test_tags_y, [])\n",
        "\n",
        "print('Test Accuracy: %.2f%%'%(accuracy_score(actual_predicted_list,actual_tags)*100))"
      ],
      "execution_count": 0,
      "outputs": [
        {
          "output_type": "stream",
          "text": [
            "Test Accuracy: 91.42%\n"
          ],
          "name": "stdout"
        }
      ]
    },
    {
      "cell_type": "markdown",
      "metadata": {
        "id": "k4no4rxxG8ur",
        "colab_type": "text"
      },
      "source": [
        "# Exercise\n",
        "In this exercise, you are to classify part-of-speech(pos) tags on user-defined sentences using the Bi-LSTM model trained right before the exercise. You should complete the below \"Prediction Result to PoS Tags\" section\n"
      ]
    },
    {
      "cell_type": "markdown",
      "metadata": {
        "id": "qpkj0iSKDSMr",
        "colab_type": "text"
      },
      "source": [
        "## Testing with the sentence"
      ]
    },
    {
      "cell_type": "markdown",
      "metadata": {
        "id": "cOgn09IucXXA",
        "colab_type": "text"
      },
      "source": [
        "### Preprocess and Predcition"
      ]
    },
    {
      "cell_type": "code",
      "metadata": {
        "id": "8r_eNYQ-0CAd",
        "colab_type": "code",
        "colab": {}
      },
      "source": [
        "test_samples = [\n",
        "    word_tokenize(\"This race is awesome, I want to race too.\"),\n",
        "    word_tokenize(\"That race is silly, I do not want to race.\")\n",
        "]\n",
        "\n",
        "# Converting sentence (tokens) word to index\n",
        "test_samples_X = []\n",
        "for s in test_samples:\n",
        "    s_int = []\n",
        "    for w in s:\n",
        "        try:\n",
        "            s_int.append(word2index[w.lower()])\n",
        "        except KeyError:\n",
        "            s_int.append(word2index['-OOV-'])\n",
        "    test_samples_X.append(s_int)\n",
        "\n",
        "# manually add PAD\n",
        "test_samples_X_pad = []\n",
        "for l in test_samples_X:\n",
        "    test_samples_X_pad.append(l+[0]*(MAX_LENGTH-len(l)))\n",
        "\n",
        "index2tag = {i: t for t, i in tag2index.items()}\n",
        "\n",
        "model.eval()\n",
        "sentence = torch.from_numpy(np.array(test_samples_X_pad)).cuda()\n",
        "predictions = model(sentence)\n",
        "_, predictions = torch.max(predictions, 1)\n",
        "predictions = predictions.cpu().numpy()"
      ],
      "execution_count": 0,
      "outputs": []
    },
    {
      "cell_type": "markdown",
      "metadata": {
        "id": "78bmjGiBccFX",
        "colab_type": "text"
      },
      "source": [
        "### Prediction Result to PoS Tags [Complete this part]"
      ]
    },
    {
      "cell_type": "code",
      "metadata": {
        "id": "CiK9WwAdcqwv",
        "colab_type": "code",
        "colab": {}
      },
      "source": [
        "#decode the result to have actual tags\n",
        "def decode_result(predictions, test_samples_X, index2tag):\n",
        "    token_sequences = []\n",
        "    ## write your codes here\n",
        "\n",
        "\n",
        "    return token_sequences\n",
        "\n",
        "print(test_samples)\n",
        "print(decode_result(predictions, test_samples_X, index2tag ))"
      ],
      "execution_count": 0,
      "outputs": []
    }
  ]
}