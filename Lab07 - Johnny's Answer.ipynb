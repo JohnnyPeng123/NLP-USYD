{
  "nbformat": 4,
  "nbformat_minor": 0,
  "metadata": {
    "colab": {
      "name": "“Lab07.ipynb”的副本",
      "provenance": [],
      "collapsed_sections": [],
      "toc_visible": true,
      "include_colab_link": true
    },
    "kernelspec": {
      "name": "python3",
      "display_name": "Python 3"
    }
  },
  "cells": [
    {
      "cell_type": "markdown",
      "metadata": {
        "id": "view-in-github",
        "colab_type": "text"
      },
      "source": [
        "<a href=\"https://colab.research.google.com/github/JohnnyPeng123/NLP-USYD/blob/master/Lab07%20-%20Johnny's%20Answer.ipynb\" target=\"_parent\"><img src=\"https://colab.research.google.com/assets/colab-badge.svg\" alt=\"Open In Colab\"/></a>"
      ]
    },
    {
      "cell_type": "markdown",
      "metadata": {
        "id": "rFBFgEEkIaQ-",
        "colab_type": "text"
      },
      "source": [
        "# Lab 07 Dependency parsing\n"
      ]
    },
    {
      "cell_type": "markdown",
      "metadata": {
        "id": "SA5A4eBdcMPJ",
        "colab_type": "text"
      },
      "source": [
        "##Exercise\n",
        "Evaluate the spaCy model using Universal Dependencies annotations (You should provide the parsing performance with a metric: UAS)\n",
        "\n",
        "You are going to select the index from 10 sentences provided, and calculated the **UAS** by using spacy model, you should also **visualise the parsing graph** from the spacy model.\n",
        "\n",
        "\n",
        "\n"
      ]
    },
    {
      "cell_type": "code",
      "metadata": {
        "id": "ncurRJe1lzrl",
        "colab_type": "code",
        "colab": {}
      },
      "source": [
        "# Code to download file into Colaboratory:\n",
        "!pip install -U -q PyDrive\n",
        "from pydrive.auth import GoogleAuth\n",
        "from pydrive.drive import GoogleDrive\n",
        "from google.colab import auth\n",
        "from oauth2client.client import GoogleCredentials\n",
        "# Authenticate and create the PyDrive client.\n",
        "auth.authenticate_user()\n",
        "gauth = GoogleAuth()\n",
        "gauth.credentials = GoogleCredentials.get_application_default()\n",
        "drive = GoogleDrive(gauth)\n",
        "\n",
        "id = '1vktZbQ_yjvUqTyf0qBhkRsyvDnK0ueMe'\n",
        "downloaded = drive.CreateFile({'id':id}) \n",
        "downloaded.GetContentFile('en_lines-ud-test.conllu')  \n",
        "\n",
        "# If you want to work on your own laptop, you can download the file here: \n",
        "# https://drive.google.com/open?id=1vktZbQ_yjvUqTyf0qBhkRsyvDnK0ueMe"
      ],
      "execution_count": 0,
      "outputs": []
    },
    {
      "cell_type": "code",
      "metadata": {
        "id": "RgrmQiBng9sw",
        "colab_type": "code",
        "outputId": "d50da11d-18ca-4476-d66f-95b33a2950f7",
        "colab": {
          "base_uri": "https://localhost:8080/",
          "height": 34
        }
      },
      "source": [
        "!pip install conllu\n",
        "from io import open\n",
        "from conllu import parse_incr\n",
        "import conllu as conllu\n",
        "from conllu import parse\n",
        "import spacy\n",
        "import numpy as np\n",
        "from spacy import displacy\n",
        "\n",
        "nlp = spacy.load(\"en_core_web_sm\")\n",
        "data_file = open(\"en_lines-ud-test.conllu\", \"r\", encoding=\"utf-8\")\n",
        "\n",
        "sent_list = []\n",
        "gold_head_list = []\n",
        "n = 0\n",
        "\n",
        "for tokenlist in parse_incr(data_file):\n",
        "    n += 1\n",
        "    if n > 20:\n",
        "        break\n",
        "\n",
        "    sent = tokenlist.metadata['text']\n",
        "    gold_head = [token['head'] for i, token in enumerate(tokenlist)]    \n",
        "\n",
        "    sent_list.append(sent)\n",
        "    gold_head_list.append(gold_head)"
      ],
      "execution_count": 9,
      "outputs": [
        {
          "output_type": "stream",
          "text": [
            "Requirement already satisfied: conllu in /usr/local/lib/python3.6/dist-packages (2.3.2)\n"
          ],
          "name": "stdout"
        }
      ]
    },
    {
      "cell_type": "code",
      "metadata": {
        "id": "4HLbm9Yp8wQT",
        "colab_type": "code",
        "colab": {}
      },
      "source": [
        "def evaluate_sentence_parsing(text, gold_head):\n",
        "  parse = nlp(text)\n",
        "  pred_head=[]\n",
        "\n",
        "  for token in parse:\n",
        "      pred_head.append(token.head.i+1)\n",
        "  \n",
        "  uas_accuracy = np.sum([1 if g == p else 0 for g, p in zip(gold_head, pred_head)]) / len(gold_head)\n",
        "  \n",
        "  print(\"spacy prediction:\" + str(pred_head))\n",
        "  print(\"Gold standard:   \" + str(gold_head))\n",
        "\n",
        "  print(\"\\n\\nUnlabeled Attachment Score (UAS)\")\n",
        "  return uas_accuracy  "
      ],
      "execution_count": 0,
      "outputs": []
    },
    {
      "cell_type": "markdown",
      "metadata": {
        "id": "hfXqY8dGTcso",
        "colab_type": "text"
      },
      "source": [
        "**Choose one of the sentences as the input of the following form (next cell)**"
      ]
    },
    {
      "cell_type": "code",
      "metadata": {
        "id": "Gq0GKBzKrbn6",
        "colab_type": "code",
        "outputId": "30f948bc-cc0e-4c20-8925-f8634adbfb2f",
        "colab": {
          "base_uri": "https://localhost:8080/",
          "height": 377
        }
      },
      "source": [
        "for sent in sent_list:\n",
        "    print(sent)\n",
        "#Choose one of the sentences as the input of the following form (next cell)    "
      ],
      "execution_count": 0,
      "outputs": [
        {
          "output_type": "stream",
          "text": [
            "If you plot multiple charts, you will see a drop area for multi-chart fields.\n",
            "This type of drop area is not displayed for single charts.\n",
            "Drop areas\n",
            "Moving fields to the category and series areas\n",
            "When you move a field to the series area, the unique items of data within the field are displayed as data series in the chart.\n",
            "These series are represented by colored data markers, and their names appear in the chart legend.\n",
            "When you move a field to the category area, the unique items of data are displayed as categories, or related groups of data.\n",
            "Each category consists of one point from each data series.\n",
            "Category labels usually appear across the x axis of the chart, although this can vary depending on the type of chart you are using.\n",
            "Moving fields to the data area\n",
            "Data fields provide the values to be summarized in the chart.\n",
            "When you move a field to the data area, the values from the field are used as the data that is measured in the chart.\n",
            "A filter field is similar to a page field in a Microsoft Excel PivotTable report.\n",
            "For example, when you move a Product field to the filter area, you can have the chart display category and series values for one product at a time.\n",
            "Moving fields to the MultiChart area\n",
            "For example, if you move the Salesperson field to the MultiChart area, a chart is created based on data for each salesperson in that field.\n",
            "In the following example, the Salesperson field is in the MultiChart area, but it's filtered so it displays individual charts for Buchanan and Davolio.\n",
            "Filtered Salesperson field in MultiChart area\n",
            "Moving the category or series fields to inner or outer levels\n",
            "When a chart contains multiple series or category fields, the fields that are closest to the data are referred to as inner fields.\n"
          ],
          "name": "stdout"
        }
      ]
    },
    {
      "cell_type": "markdown",
      "metadata": {
        "id": "egK0qiYYs6gf",
        "colab_type": "text"
      },
      "source": [
        "### Form [Please Complete this Part]"
      ]
    },
    {
      "cell_type": "code",
      "metadata": {
        "id": "2ILT_rxmkn7f",
        "colab_type": "code",
        "cellView": "both",
        "outputId": "562d5406-785f-4b7a-9d2c-1f78741ed8ba",
        "colab": {
          "base_uri": "https://localhost:8080/",
          "height": 531
        }
      },
      "source": [
        "#@title Input sentence, calcualte UAS and visualize graphs\n",
        "#@markdown Please select a sentence from above. \n",
        "#@markdown Then calculate UAS by using spacy model, and visualize\n",
        "#The input sentence will be selected from the above cell\n",
        "sent = \"Moving the category or series fields to inner or outer levels\" #@param {type: \"string\"}\n",
        "index_sent = sent_list.index(sent)\n",
        "\n",
        "gold_head = gold_head_list[index_sent]\n",
        "# Please complete this part\n",
        "nlp = spacy.load(\"en_core_web_sm\")\n",
        "doc = nlp(sent)\n",
        "displacy.render(doc, style='dep', jupyter=True, options={'distance':90})\n",
        "\n",
        "index_sent = sent_list.index(sent)\n",
        "\n",
        "gold_head = gold_head_list[index_sent]\n",
        "evaluate_sentence_parsing(sent,gold_head)"
      ],
      "execution_count": 26,
      "outputs": [
        {
          "output_type": "display_data",
          "data": {
            "text/html": [
              "<span class=\"tex2jax_ignore\"><svg xmlns=\"http://www.w3.org/2000/svg\" xmlns:xlink=\"http://www.w3.org/1999/xlink\" xml:lang=\"en\" id=\"cd975ea7687f4887ac9bc12cc571cce2-0\" class=\"displacy\" width=\"1040\" height=\"407.0\" direction=\"ltr\" style=\"max-width: none; height: 407.0px; color: #000000; background: #ffffff; font-family: Arial; direction: ltr\">\n",
              "<text class=\"displacy-token\" fill=\"currentColor\" text-anchor=\"middle\" y=\"317.0\">\n",
              "    <tspan class=\"displacy-word\" fill=\"currentColor\" x=\"50\">Moving</tspan>\n",
              "    <tspan class=\"displacy-tag\" dy=\"2em\" fill=\"currentColor\" x=\"50\">VERB</tspan>\n",
              "</text>\n",
              "\n",
              "<text class=\"displacy-token\" fill=\"currentColor\" text-anchor=\"middle\" y=\"317.0\">\n",
              "    <tspan class=\"displacy-word\" fill=\"currentColor\" x=\"140\">the</tspan>\n",
              "    <tspan class=\"displacy-tag\" dy=\"2em\" fill=\"currentColor\" x=\"140\">DET</tspan>\n",
              "</text>\n",
              "\n",
              "<text class=\"displacy-token\" fill=\"currentColor\" text-anchor=\"middle\" y=\"317.0\">\n",
              "    <tspan class=\"displacy-word\" fill=\"currentColor\" x=\"230\">category</tspan>\n",
              "    <tspan class=\"displacy-tag\" dy=\"2em\" fill=\"currentColor\" x=\"230\">NOUN</tspan>\n",
              "</text>\n",
              "\n",
              "<text class=\"displacy-token\" fill=\"currentColor\" text-anchor=\"middle\" y=\"317.0\">\n",
              "    <tspan class=\"displacy-word\" fill=\"currentColor\" x=\"320\">or</tspan>\n",
              "    <tspan class=\"displacy-tag\" dy=\"2em\" fill=\"currentColor\" x=\"320\">CCONJ</tspan>\n",
              "</text>\n",
              "\n",
              "<text class=\"displacy-token\" fill=\"currentColor\" text-anchor=\"middle\" y=\"317.0\">\n",
              "    <tspan class=\"displacy-word\" fill=\"currentColor\" x=\"410\">series</tspan>\n",
              "    <tspan class=\"displacy-tag\" dy=\"2em\" fill=\"currentColor\" x=\"410\">NOUN</tspan>\n",
              "</text>\n",
              "\n",
              "<text class=\"displacy-token\" fill=\"currentColor\" text-anchor=\"middle\" y=\"317.0\">\n",
              "    <tspan class=\"displacy-word\" fill=\"currentColor\" x=\"500\">fields</tspan>\n",
              "    <tspan class=\"displacy-tag\" dy=\"2em\" fill=\"currentColor\" x=\"500\">NOUN</tspan>\n",
              "</text>\n",
              "\n",
              "<text class=\"displacy-token\" fill=\"currentColor\" text-anchor=\"middle\" y=\"317.0\">\n",
              "    <tspan class=\"displacy-word\" fill=\"currentColor\" x=\"590\">to</tspan>\n",
              "    <tspan class=\"displacy-tag\" dy=\"2em\" fill=\"currentColor\" x=\"590\">ADP</tspan>\n",
              "</text>\n",
              "\n",
              "<text class=\"displacy-token\" fill=\"currentColor\" text-anchor=\"middle\" y=\"317.0\">\n",
              "    <tspan class=\"displacy-word\" fill=\"currentColor\" x=\"680\">inner</tspan>\n",
              "    <tspan class=\"displacy-tag\" dy=\"2em\" fill=\"currentColor\" x=\"680\">ADJ</tspan>\n",
              "</text>\n",
              "\n",
              "<text class=\"displacy-token\" fill=\"currentColor\" text-anchor=\"middle\" y=\"317.0\">\n",
              "    <tspan class=\"displacy-word\" fill=\"currentColor\" x=\"770\">or</tspan>\n",
              "    <tspan class=\"displacy-tag\" dy=\"2em\" fill=\"currentColor\" x=\"770\">CCONJ</tspan>\n",
              "</text>\n",
              "\n",
              "<text class=\"displacy-token\" fill=\"currentColor\" text-anchor=\"middle\" y=\"317.0\">\n",
              "    <tspan class=\"displacy-word\" fill=\"currentColor\" x=\"860\">outer</tspan>\n",
              "    <tspan class=\"displacy-tag\" dy=\"2em\" fill=\"currentColor\" x=\"860\">ADJ</tspan>\n",
              "</text>\n",
              "\n",
              "<text class=\"displacy-token\" fill=\"currentColor\" text-anchor=\"middle\" y=\"317.0\">\n",
              "    <tspan class=\"displacy-word\" fill=\"currentColor\" x=\"950\">levels</tspan>\n",
              "    <tspan class=\"displacy-tag\" dy=\"2em\" fill=\"currentColor\" x=\"950\">NOUN</tspan>\n",
              "</text>\n",
              "\n",
              "<g class=\"displacy-arrow\">\n",
              "    <path class=\"displacy-arc\" id=\"arrow-cd975ea7687f4887ac9bc12cc571cce2-0-0\" stroke-width=\"2px\" d=\"M160,272.0 C160,92.0 490.0,92.0 490.0,272.0\" fill=\"none\" stroke=\"currentColor\"/>\n",
              "    <text dy=\"1.25em\" style=\"font-size: 0.8em; letter-spacing: 1px\">\n",
              "        <textPath xlink:href=\"#arrow-cd975ea7687f4887ac9bc12cc571cce2-0-0\" class=\"displacy-label\" startOffset=\"50%\" side=\"left\" fill=\"currentColor\" text-anchor=\"middle\">det</textPath>\n",
              "    </text>\n",
              "    <path class=\"displacy-arrowhead\" d=\"M160,274.0 L152,262.0 168,262.0\" fill=\"currentColor\"/>\n",
              "</g>\n",
              "\n",
              "<g class=\"displacy-arrow\">\n",
              "    <path class=\"displacy-arc\" id=\"arrow-cd975ea7687f4887ac9bc12cc571cce2-0-1\" stroke-width=\"2px\" d=\"M250,272.0 C250,137.0 485.0,137.0 485.0,272.0\" fill=\"none\" stroke=\"currentColor\"/>\n",
              "    <text dy=\"1.25em\" style=\"font-size: 0.8em; letter-spacing: 1px\">\n",
              "        <textPath xlink:href=\"#arrow-cd975ea7687f4887ac9bc12cc571cce2-0-1\" class=\"displacy-label\" startOffset=\"50%\" side=\"left\" fill=\"currentColor\" text-anchor=\"middle\">nmod</textPath>\n",
              "    </text>\n",
              "    <path class=\"displacy-arrowhead\" d=\"M250,274.0 L242,262.0 258,262.0\" fill=\"currentColor\"/>\n",
              "</g>\n",
              "\n",
              "<g class=\"displacy-arrow\">\n",
              "    <path class=\"displacy-arc\" id=\"arrow-cd975ea7687f4887ac9bc12cc571cce2-0-2\" stroke-width=\"2px\" d=\"M250,272.0 C250,227.0 295.0,227.0 295.0,272.0\" fill=\"none\" stroke=\"currentColor\"/>\n",
              "    <text dy=\"1.25em\" style=\"font-size: 0.8em; letter-spacing: 1px\">\n",
              "        <textPath xlink:href=\"#arrow-cd975ea7687f4887ac9bc12cc571cce2-0-2\" class=\"displacy-label\" startOffset=\"50%\" side=\"left\" fill=\"currentColor\" text-anchor=\"middle\">cc</textPath>\n",
              "    </text>\n",
              "    <path class=\"displacy-arrowhead\" d=\"M295.0,274.0 L303.0,262.0 287.0,262.0\" fill=\"currentColor\"/>\n",
              "</g>\n",
              "\n",
              "<g class=\"displacy-arrow\">\n",
              "    <path class=\"displacy-arc\" id=\"arrow-cd975ea7687f4887ac9bc12cc571cce2-0-3\" stroke-width=\"2px\" d=\"M250,272.0 C250,182.0 390.0,182.0 390.0,272.0\" fill=\"none\" stroke=\"currentColor\"/>\n",
              "    <text dy=\"1.25em\" style=\"font-size: 0.8em; letter-spacing: 1px\">\n",
              "        <textPath xlink:href=\"#arrow-cd975ea7687f4887ac9bc12cc571cce2-0-3\" class=\"displacy-label\" startOffset=\"50%\" side=\"left\" fill=\"currentColor\" text-anchor=\"middle\">conj</textPath>\n",
              "    </text>\n",
              "    <path class=\"displacy-arrowhead\" d=\"M390.0,274.0 L398.0,262.0 382.0,262.0\" fill=\"currentColor\"/>\n",
              "</g>\n",
              "\n",
              "<g class=\"displacy-arrow\">\n",
              "    <path class=\"displacy-arc\" id=\"arrow-cd975ea7687f4887ac9bc12cc571cce2-0-4\" stroke-width=\"2px\" d=\"M70,272.0 C70,47.0 495.0,47.0 495.0,272.0\" fill=\"none\" stroke=\"currentColor\"/>\n",
              "    <text dy=\"1.25em\" style=\"font-size: 0.8em; letter-spacing: 1px\">\n",
              "        <textPath xlink:href=\"#arrow-cd975ea7687f4887ac9bc12cc571cce2-0-4\" class=\"displacy-label\" startOffset=\"50%\" side=\"left\" fill=\"currentColor\" text-anchor=\"middle\">dobj</textPath>\n",
              "    </text>\n",
              "    <path class=\"displacy-arrowhead\" d=\"M495.0,274.0 L503.0,262.0 487.0,262.0\" fill=\"currentColor\"/>\n",
              "</g>\n",
              "\n",
              "<g class=\"displacy-arrow\">\n",
              "    <path class=\"displacy-arc\" id=\"arrow-cd975ea7687f4887ac9bc12cc571cce2-0-5\" stroke-width=\"2px\" d=\"M70,272.0 C70,2.0 590.0,2.0 590.0,272.0\" fill=\"none\" stroke=\"currentColor\"/>\n",
              "    <text dy=\"1.25em\" style=\"font-size: 0.8em; letter-spacing: 1px\">\n",
              "        <textPath xlink:href=\"#arrow-cd975ea7687f4887ac9bc12cc571cce2-0-5\" class=\"displacy-label\" startOffset=\"50%\" side=\"left\" fill=\"currentColor\" text-anchor=\"middle\">prep</textPath>\n",
              "    </text>\n",
              "    <path class=\"displacy-arrowhead\" d=\"M590.0,274.0 L598.0,262.0 582.0,262.0\" fill=\"currentColor\"/>\n",
              "</g>\n",
              "\n",
              "<g class=\"displacy-arrow\">\n",
              "    <path class=\"displacy-arc\" id=\"arrow-cd975ea7687f4887ac9bc12cc571cce2-0-6\" stroke-width=\"2px\" d=\"M700,272.0 C700,137.0 935.0,137.0 935.0,272.0\" fill=\"none\" stroke=\"currentColor\"/>\n",
              "    <text dy=\"1.25em\" style=\"font-size: 0.8em; letter-spacing: 1px\">\n",
              "        <textPath xlink:href=\"#arrow-cd975ea7687f4887ac9bc12cc571cce2-0-6\" class=\"displacy-label\" startOffset=\"50%\" side=\"left\" fill=\"currentColor\" text-anchor=\"middle\">amod</textPath>\n",
              "    </text>\n",
              "    <path class=\"displacy-arrowhead\" d=\"M700,274.0 L692,262.0 708,262.0\" fill=\"currentColor\"/>\n",
              "</g>\n",
              "\n",
              "<g class=\"displacy-arrow\">\n",
              "    <path class=\"displacy-arc\" id=\"arrow-cd975ea7687f4887ac9bc12cc571cce2-0-7\" stroke-width=\"2px\" d=\"M700,272.0 C700,227.0 745.0,227.0 745.0,272.0\" fill=\"none\" stroke=\"currentColor\"/>\n",
              "    <text dy=\"1.25em\" style=\"font-size: 0.8em; letter-spacing: 1px\">\n",
              "        <textPath xlink:href=\"#arrow-cd975ea7687f4887ac9bc12cc571cce2-0-7\" class=\"displacy-label\" startOffset=\"50%\" side=\"left\" fill=\"currentColor\" text-anchor=\"middle\">cc</textPath>\n",
              "    </text>\n",
              "    <path class=\"displacy-arrowhead\" d=\"M745.0,274.0 L753.0,262.0 737.0,262.0\" fill=\"currentColor\"/>\n",
              "</g>\n",
              "\n",
              "<g class=\"displacy-arrow\">\n",
              "    <path class=\"displacy-arc\" id=\"arrow-cd975ea7687f4887ac9bc12cc571cce2-0-8\" stroke-width=\"2px\" d=\"M700,272.0 C700,182.0 840.0,182.0 840.0,272.0\" fill=\"none\" stroke=\"currentColor\"/>\n",
              "    <text dy=\"1.25em\" style=\"font-size: 0.8em; letter-spacing: 1px\">\n",
              "        <textPath xlink:href=\"#arrow-cd975ea7687f4887ac9bc12cc571cce2-0-8\" class=\"displacy-label\" startOffset=\"50%\" side=\"left\" fill=\"currentColor\" text-anchor=\"middle\">conj</textPath>\n",
              "    </text>\n",
              "    <path class=\"displacy-arrowhead\" d=\"M840.0,274.0 L848.0,262.0 832.0,262.0\" fill=\"currentColor\"/>\n",
              "</g>\n",
              "\n",
              "<g class=\"displacy-arrow\">\n",
              "    <path class=\"displacy-arc\" id=\"arrow-cd975ea7687f4887ac9bc12cc571cce2-0-9\" stroke-width=\"2px\" d=\"M610,272.0 C610,92.0 940.0,92.0 940.0,272.0\" fill=\"none\" stroke=\"currentColor\"/>\n",
              "    <text dy=\"1.25em\" style=\"font-size: 0.8em; letter-spacing: 1px\">\n",
              "        <textPath xlink:href=\"#arrow-cd975ea7687f4887ac9bc12cc571cce2-0-9\" class=\"displacy-label\" startOffset=\"50%\" side=\"left\" fill=\"currentColor\" text-anchor=\"middle\">pobj</textPath>\n",
              "    </text>\n",
              "    <path class=\"displacy-arrowhead\" d=\"M940.0,274.0 L948.0,262.0 932.0,262.0\" fill=\"currentColor\"/>\n",
              "</g>\n",
              "</svg></span>"
            ],
            "text/plain": [
              "<IPython.core.display.HTML object>"
            ]
          },
          "metadata": {
            "tags": []
          }
        },
        {
          "output_type": "stream",
          "text": [
            "spacy prediction:[1, 6, 6, 3, 3, 1, 1, 11, 8, 8, 7]\n",
            "Gold standard:   [0, 6, 6, 5, 3, 1, 11, 11, 10, 8, 1]\n",
            "\n",
            "\n",
            "Unlabeled Attachment Score (UAS)\n"
          ],
          "name": "stdout"
        },
        {
          "output_type": "execute_result",
          "data": {
            "text/plain": [
              "0.5454545454545454"
            ]
          },
          "metadata": {
            "tags": []
          },
          "execution_count": 26
        }
      ]
    },
    {
      "cell_type": "code",
      "metadata": {
        "id": "30HlljWhAq-5",
        "colab_type": "code",
        "colab": {}
      },
      "source": [
        ""
      ],
      "execution_count": 0,
      "outputs": []
    }
  ]
}