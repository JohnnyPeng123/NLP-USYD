{
  "nbformat": 4,
  "nbformat_minor": 0,
  "metadata": {
    "colab": {
      "name": "Lab07.ipynb",
      "provenance": [],
      "collapsed_sections": [],
      "toc_visible": true,
      "include_colab_link": true
    },
    "kernelspec": {
      "name": "python3",
      "display_name": "Python 3"
    }
  },
  "cells": [
    {
      "cell_type": "markdown",
      "metadata": {
        "id": "view-in-github",
        "colab_type": "text"
      },
      "source": [
        "<a href=\"https://colab.research.google.com/github/JohnnyPeng123/NLP-USYD/blob/master/Lab07.ipynb\" target=\"_parent\"><img src=\"https://colab.research.google.com/assets/colab-badge.svg\" alt=\"Open In Colab\"/></a>"
      ]
    },
    {
      "cell_type": "markdown",
      "metadata": {
        "id": "rFBFgEEkIaQ-",
        "colab_type": "text"
      },
      "source": [
        "# Lab 07 Dependency parsing\n"
      ]
    },
    {
      "cell_type": "markdown",
      "metadata": {
        "id": "bJkHSIOyIpUh",
        "colab_type": "text"
      },
      "source": [
        "## Dependency Parsing Exercise\n",
        "\n",
        "Let's parse the following sentences! (Use your skill that you learned in the lecture)\n",
        "\n",
        "*  I prefer the morning flight through Denver\n",
        "*  eat sushi with tuna\n",
        "*  eat sushi with chopsticks\n",
        "\n",
        "\n",
        "Do this parsing exercise with your tutor and ***check with the answer (will be released with the exercise solution)***\n"
      ]
    },
    {
      "cell_type": "markdown",
      "metadata": {
        "id": "Nlu9so31PX7a",
        "colab_type": "text"
      },
      "source": [
        "**Dependency parsing process:** (Need more detailed parsing step? Please watch the lecture 7 recording!)\n",
        "\n",
        "You can start the parsing with finding the predicate. For example, the head of token 'John' is token 'lives', because 'John' is the suject object of the predicate 'lives'. The head of 'live' is a fake token 'ROOT', we do this just for simplificity that every sentence has a same root node, which is the head of the entire structure"
      ]
    },
    {
      "cell_type": "markdown",
      "metadata": {
        "id": "dK4z5pWkQEMe",
        "colab_type": "text"
      },
      "source": [
        "## Off-the-Shelf Tool (Spacy Parser)\n",
        "Now let's use [spaCy](https://spacy.io/) to automatically parse sentences.\n",
        "The spacy parser was developed based on the neural network based parser.\n",
        "\n",
        "Parse the sentence ***'The woman showed a wellshaped smile in the dark.'***\n"
      ]
    },
    {
      "cell_type": "code",
      "metadata": {
        "id": "LBrzHpnzIBrl",
        "colab_type": "code",
        "outputId": "b2ec63b7-4b85-4008-f08b-1f9fa3a46aa1",
        "colab": {
          "base_uri": "https://localhost:8080/",
          "height": 305
        }
      },
      "source": [
        "import spacy\n",
        "#PrettyTable is a Python library for generating simple ASCII tables.\n",
        "from prettytable import PrettyTable\n",
        "\n",
        "#load the spacy api with the pre-trained statistical models for English. English multi-task CNN trained on OntoNotes\n",
        "nlp = spacy.load(\"en_core_web_sm\")\n",
        "\n",
        "#define the sentence\n",
        "sentence = \"The woman showed a wellshaped smile in the dark.\"\n",
        "parse = nlp(sentence)\n",
        "\n",
        "\n",
        "x = PrettyTable()\n",
        "#define column names\n",
        "x.field_names = [\"TokenID\", \"Token\", \"HeadID\", \"Dependency\"]\n",
        "\n",
        "#spacy does not provide the fake ROOT so add a row for the fake Root\n",
        "x.add_row([0,\"ROOT\",0,\"-\"])\n",
        "\n",
        "#parsing reculsively\n",
        "for token in parse:\n",
        "  if token.dep_==\"ROOT\":\n",
        "    x.add_row([token.i+1,token.text,\"0\",token.dep_])\n",
        "  else:  \n",
        "    x.add_row([token.i+1,token.text,token.head.i+1,token.dep_])\n",
        "    \n",
        "\n",
        "\n",
        "print(\"Parsing Result with Spacy API\")\n",
        "#printing the table\n",
        "print(x)"
      ],
      "execution_count": 0,
      "outputs": [
        {
          "output_type": "stream",
          "text": [
            "Parsing Result with Spacy API\n",
            "+---------+------------+--------+------------+\n",
            "| TokenID |   Token    | HeadID | Dependency |\n",
            "+---------+------------+--------+------------+\n",
            "|    0    |    ROOT    |   0    |     -      |\n",
            "|    1    |    The     |   2    |    det     |\n",
            "|    2    |   woman    |   3    |   nsubj    |\n",
            "|    3    |   showed   |   0    |    ROOT    |\n",
            "|    4    |     a      |   6    |    det     |\n",
            "|    5    | wellshaped |   6    |    amod    |\n",
            "|    6    |   smile    |   3    |    dobj    |\n",
            "|    7    |     in     |   3    |    prep    |\n",
            "|    8    |    the     |   9    |    det     |\n",
            "|    9    |    dark    |   7    |    pobj    |\n",
            "|    10   |     .      |   3    |   punct    |\n",
            "+---------+------------+--------+------------+\n"
          ],
          "name": "stdout"
        }
      ]
    },
    {
      "cell_type": "markdown",
      "metadata": {
        "id": "IPFBPiKNlvs1",
        "colab_type": "text"
      },
      "source": [
        "## Parsing Visualisation\n",
        "Spacy provides its built-in visualisation suite, [displaCy](https://spacy.io/api/top-level#displacy)"
      ]
    },
    {
      "cell_type": "code",
      "metadata": {
        "id": "597ayAB7ydNw",
        "colab_type": "code",
        "outputId": "da7283cc-d58b-466b-ac60-0fe3e5040191",
        "colab": {
          "base_uri": "https://localhost:8080/",
          "height": 337
        }
      },
      "source": [
        "#spaCy comes with a built-in visualization suite\n",
        "from spacy import displacy\n",
        "\n",
        "doc = nlp(sentence)\n",
        "displacy.render(doc, style='dep', jupyter=True, options={'distance':90})\n"
      ],
      "execution_count": 0,
      "outputs": [
        {
          "output_type": "display_data",
          "data": {
            "text/html": [
              "<span class=\"tex2jax_ignore\"><svg xmlns=\"http://www.w3.org/2000/svg\" xmlns:xlink=\"http://www.w3.org/1999/xlink\" xml:lang=\"en\" id=\"69f18d69ffc841029119a7d88bea5acc-0\" class=\"displacy\" width=\"860\" height=\"317.0\" direction=\"ltr\" style=\"max-width: none; height: 317.0px; color: #000000; background: #ffffff; font-family: Arial; direction: ltr\">\n",
              "<text class=\"displacy-token\" fill=\"currentColor\" text-anchor=\"middle\" y=\"227.0\">\n",
              "    <tspan class=\"displacy-word\" fill=\"currentColor\" x=\"50\">The</tspan>\n",
              "    <tspan class=\"displacy-tag\" dy=\"2em\" fill=\"currentColor\" x=\"50\">DET</tspan>\n",
              "</text>\n",
              "\n",
              "<text class=\"displacy-token\" fill=\"currentColor\" text-anchor=\"middle\" y=\"227.0\">\n",
              "    <tspan class=\"displacy-word\" fill=\"currentColor\" x=\"140\">woman</tspan>\n",
              "    <tspan class=\"displacy-tag\" dy=\"2em\" fill=\"currentColor\" x=\"140\">NOUN</tspan>\n",
              "</text>\n",
              "\n",
              "<text class=\"displacy-token\" fill=\"currentColor\" text-anchor=\"middle\" y=\"227.0\">\n",
              "    <tspan class=\"displacy-word\" fill=\"currentColor\" x=\"230\">showed</tspan>\n",
              "    <tspan class=\"displacy-tag\" dy=\"2em\" fill=\"currentColor\" x=\"230\">VERB</tspan>\n",
              "</text>\n",
              "\n",
              "<text class=\"displacy-token\" fill=\"currentColor\" text-anchor=\"middle\" y=\"227.0\">\n",
              "    <tspan class=\"displacy-word\" fill=\"currentColor\" x=\"320\">a</tspan>\n",
              "    <tspan class=\"displacy-tag\" dy=\"2em\" fill=\"currentColor\" x=\"320\">DET</tspan>\n",
              "</text>\n",
              "\n",
              "<text class=\"displacy-token\" fill=\"currentColor\" text-anchor=\"middle\" y=\"227.0\">\n",
              "    <tspan class=\"displacy-word\" fill=\"currentColor\" x=\"410\">wellshaped</tspan>\n",
              "    <tspan class=\"displacy-tag\" dy=\"2em\" fill=\"currentColor\" x=\"410\">VERB</tspan>\n",
              "</text>\n",
              "\n",
              "<text class=\"displacy-token\" fill=\"currentColor\" text-anchor=\"middle\" y=\"227.0\">\n",
              "    <tspan class=\"displacy-word\" fill=\"currentColor\" x=\"500\">smile</tspan>\n",
              "    <tspan class=\"displacy-tag\" dy=\"2em\" fill=\"currentColor\" x=\"500\">NOUN</tspan>\n",
              "</text>\n",
              "\n",
              "<text class=\"displacy-token\" fill=\"currentColor\" text-anchor=\"middle\" y=\"227.0\">\n",
              "    <tspan class=\"displacy-word\" fill=\"currentColor\" x=\"590\">in</tspan>\n",
              "    <tspan class=\"displacy-tag\" dy=\"2em\" fill=\"currentColor\" x=\"590\">ADP</tspan>\n",
              "</text>\n",
              "\n",
              "<text class=\"displacy-token\" fill=\"currentColor\" text-anchor=\"middle\" y=\"227.0\">\n",
              "    <tspan class=\"displacy-word\" fill=\"currentColor\" x=\"680\">the</tspan>\n",
              "    <tspan class=\"displacy-tag\" dy=\"2em\" fill=\"currentColor\" x=\"680\">DET</tspan>\n",
              "</text>\n",
              "\n",
              "<text class=\"displacy-token\" fill=\"currentColor\" text-anchor=\"middle\" y=\"227.0\">\n",
              "    <tspan class=\"displacy-word\" fill=\"currentColor\" x=\"770\">dark.</tspan>\n",
              "    <tspan class=\"displacy-tag\" dy=\"2em\" fill=\"currentColor\" x=\"770\">NOUN</tspan>\n",
              "</text>\n",
              "\n",
              "<g class=\"displacy-arrow\">\n",
              "    <path class=\"displacy-arc\" id=\"arrow-69f18d69ffc841029119a7d88bea5acc-0-0\" stroke-width=\"2px\" d=\"M70,182.0 C70,137.0 125.0,137.0 125.0,182.0\" fill=\"none\" stroke=\"currentColor\"/>\n",
              "    <text dy=\"1.25em\" style=\"font-size: 0.8em; letter-spacing: 1px\">\n",
              "        <textPath xlink:href=\"#arrow-69f18d69ffc841029119a7d88bea5acc-0-0\" class=\"displacy-label\" startOffset=\"50%\" side=\"left\" fill=\"currentColor\" text-anchor=\"middle\">det</textPath>\n",
              "    </text>\n",
              "    <path class=\"displacy-arrowhead\" d=\"M70,184.0 L62,172.0 78,172.0\" fill=\"currentColor\"/>\n",
              "</g>\n",
              "\n",
              "<g class=\"displacy-arrow\">\n",
              "    <path class=\"displacy-arc\" id=\"arrow-69f18d69ffc841029119a7d88bea5acc-0-1\" stroke-width=\"2px\" d=\"M160,182.0 C160,137.0 215.0,137.0 215.0,182.0\" fill=\"none\" stroke=\"currentColor\"/>\n",
              "    <text dy=\"1.25em\" style=\"font-size: 0.8em; letter-spacing: 1px\">\n",
              "        <textPath xlink:href=\"#arrow-69f18d69ffc841029119a7d88bea5acc-0-1\" class=\"displacy-label\" startOffset=\"50%\" side=\"left\" fill=\"currentColor\" text-anchor=\"middle\">nsubj</textPath>\n",
              "    </text>\n",
              "    <path class=\"displacy-arrowhead\" d=\"M160,184.0 L152,172.0 168,172.0\" fill=\"currentColor\"/>\n",
              "</g>\n",
              "\n",
              "<g class=\"displacy-arrow\">\n",
              "    <path class=\"displacy-arc\" id=\"arrow-69f18d69ffc841029119a7d88bea5acc-0-2\" stroke-width=\"2px\" d=\"M340,182.0 C340,92.0 490.0,92.0 490.0,182.0\" fill=\"none\" stroke=\"currentColor\"/>\n",
              "    <text dy=\"1.25em\" style=\"font-size: 0.8em; letter-spacing: 1px\">\n",
              "        <textPath xlink:href=\"#arrow-69f18d69ffc841029119a7d88bea5acc-0-2\" class=\"displacy-label\" startOffset=\"50%\" side=\"left\" fill=\"currentColor\" text-anchor=\"middle\">det</textPath>\n",
              "    </text>\n",
              "    <path class=\"displacy-arrowhead\" d=\"M340,184.0 L332,172.0 348,172.0\" fill=\"currentColor\"/>\n",
              "</g>\n",
              "\n",
              "<g class=\"displacy-arrow\">\n",
              "    <path class=\"displacy-arc\" id=\"arrow-69f18d69ffc841029119a7d88bea5acc-0-3\" stroke-width=\"2px\" d=\"M430,182.0 C430,137.0 485.0,137.0 485.0,182.0\" fill=\"none\" stroke=\"currentColor\"/>\n",
              "    <text dy=\"1.25em\" style=\"font-size: 0.8em; letter-spacing: 1px\">\n",
              "        <textPath xlink:href=\"#arrow-69f18d69ffc841029119a7d88bea5acc-0-3\" class=\"displacy-label\" startOffset=\"50%\" side=\"left\" fill=\"currentColor\" text-anchor=\"middle\">amod</textPath>\n",
              "    </text>\n",
              "    <path class=\"displacy-arrowhead\" d=\"M430,184.0 L422,172.0 438,172.0\" fill=\"currentColor\"/>\n",
              "</g>\n",
              "\n",
              "<g class=\"displacy-arrow\">\n",
              "    <path class=\"displacy-arc\" id=\"arrow-69f18d69ffc841029119a7d88bea5acc-0-4\" stroke-width=\"2px\" d=\"M250,182.0 C250,47.0 495.0,47.0 495.0,182.0\" fill=\"none\" stroke=\"currentColor\"/>\n",
              "    <text dy=\"1.25em\" style=\"font-size: 0.8em; letter-spacing: 1px\">\n",
              "        <textPath xlink:href=\"#arrow-69f18d69ffc841029119a7d88bea5acc-0-4\" class=\"displacy-label\" startOffset=\"50%\" side=\"left\" fill=\"currentColor\" text-anchor=\"middle\">dobj</textPath>\n",
              "    </text>\n",
              "    <path class=\"displacy-arrowhead\" d=\"M495.0,184.0 L503.0,172.0 487.0,172.0\" fill=\"currentColor\"/>\n",
              "</g>\n",
              "\n",
              "<g class=\"displacy-arrow\">\n",
              "    <path class=\"displacy-arc\" id=\"arrow-69f18d69ffc841029119a7d88bea5acc-0-5\" stroke-width=\"2px\" d=\"M250,182.0 C250,2.0 590.0,2.0 590.0,182.0\" fill=\"none\" stroke=\"currentColor\"/>\n",
              "    <text dy=\"1.25em\" style=\"font-size: 0.8em; letter-spacing: 1px\">\n",
              "        <textPath xlink:href=\"#arrow-69f18d69ffc841029119a7d88bea5acc-0-5\" class=\"displacy-label\" startOffset=\"50%\" side=\"left\" fill=\"currentColor\" text-anchor=\"middle\">prep</textPath>\n",
              "    </text>\n",
              "    <path class=\"displacy-arrowhead\" d=\"M590.0,184.0 L598.0,172.0 582.0,172.0\" fill=\"currentColor\"/>\n",
              "</g>\n",
              "\n",
              "<g class=\"displacy-arrow\">\n",
              "    <path class=\"displacy-arc\" id=\"arrow-69f18d69ffc841029119a7d88bea5acc-0-6\" stroke-width=\"2px\" d=\"M700,182.0 C700,137.0 755.0,137.0 755.0,182.0\" fill=\"none\" stroke=\"currentColor\"/>\n",
              "    <text dy=\"1.25em\" style=\"font-size: 0.8em; letter-spacing: 1px\">\n",
              "        <textPath xlink:href=\"#arrow-69f18d69ffc841029119a7d88bea5acc-0-6\" class=\"displacy-label\" startOffset=\"50%\" side=\"left\" fill=\"currentColor\" text-anchor=\"middle\">det</textPath>\n",
              "    </text>\n",
              "    <path class=\"displacy-arrowhead\" d=\"M700,184.0 L692,172.0 708,172.0\" fill=\"currentColor\"/>\n",
              "</g>\n",
              "\n",
              "<g class=\"displacy-arrow\">\n",
              "    <path class=\"displacy-arc\" id=\"arrow-69f18d69ffc841029119a7d88bea5acc-0-7\" stroke-width=\"2px\" d=\"M610,182.0 C610,92.0 760.0,92.0 760.0,182.0\" fill=\"none\" stroke=\"currentColor\"/>\n",
              "    <text dy=\"1.25em\" style=\"font-size: 0.8em; letter-spacing: 1px\">\n",
              "        <textPath xlink:href=\"#arrow-69f18d69ffc841029119a7d88bea5acc-0-7\" class=\"displacy-label\" startOffset=\"50%\" side=\"left\" fill=\"currentColor\" text-anchor=\"middle\">pobj</textPath>\n",
              "    </text>\n",
              "    <path class=\"displacy-arrowhead\" d=\"M760.0,184.0 L768.0,172.0 752.0,172.0\" fill=\"currentColor\"/>\n",
              "</g>\n",
              "</svg></span>"
            ],
            "text/plain": [
              "<IPython.core.display.HTML object>"
            ]
          },
          "metadata": {
            "tags": []
          }
        }
      ]
    },
    {
      "cell_type": "markdown",
      "metadata": {
        "id": "3107D_pcZ4Ma",
        "colab_type": "text"
      },
      "source": [
        "Unfortunately, the parsing result is ***NOT*** perfect. \n",
        "The result shows that *the head of the token '**dark**' is 'in' rather than 'showed'*.\n",
        "\n",
        "\n",
        "### How can we evaluate the parsing result?\n",
        "\n",
        "[Universal Dependencies](http://universaldependencies.org/) is such a grammatical annotation effort. Basiclly, a bunch of linguists sit there to manually label 'which head is this token modifying' or 'which syntactic role is this token playing with respect to which predicate'. We call their annotations ground truth, and evaluate outputs from different systems against this ground truth. The higher accuracy the system achieves, the better this system is."
      ]
    },
    {
      "cell_type": "markdown",
      "metadata": {
        "id": "DjhCdUbrdmc_",
        "colab_type": "text"
      },
      "source": [
        "## Parsing Evaluation (with Universal Dependencies)\n",
        "\n",
        "The following code shows the function for evaluating the performance of spaCy parser with Universal Dependencies.\n",
        "\n",
        "\n",
        "*   [CoNLL-U formatted by Universal Dependencies](http://universaldependencies.org/format.html)\n",
        "\n"
      ]
    },
    {
      "cell_type": "code",
      "metadata": {
        "id": "DQGM_iDDeE-w",
        "colab_type": "code",
        "outputId": "605c069b-3ace-463c-c8f1-53e65cb724ce",
        "colab": {
          "base_uri": "https://localhost:8080/",
          "height": 89
        }
      },
      "source": [
        "#CoNLL-U Parser parses a CoNLL-U formatted string into a nested python dictionary. \n",
        "!pip install conllu"
      ],
      "execution_count": 0,
      "outputs": [
        {
          "output_type": "stream",
          "text": [
            "Collecting conllu\n",
            "  Downloading https://files.pythonhosted.org/packages/a8/03/4a952eb39cdc8da80a6a2416252e71784dda6bf9d726ab98065fff2aeb73/conllu-2.3.2-py2.py3-none-any.whl\n",
            "Installing collected packages: conllu\n",
            "Successfully installed conllu-2.3.2\n"
          ],
          "name": "stdout"
        }
      ]
    },
    {
      "cell_type": "markdown",
      "metadata": {
        "id": "T3l8nZ--E9tV",
        "colab_type": "text"
      },
      "source": [
        "Let's make a function for evaluation the parsing result"
      ]
    },
    {
      "cell_type": "code",
      "metadata": {
        "id": "DytKlRoEbWzA",
        "colab_type": "code",
        "colab": {}
      },
      "source": [
        "import numpy as np\n",
        "import conllu as conllu\n",
        "from conllu import parse\n",
        "\n",
        "#text: the text that you would like to text\n",
        "#gold: the gold-standard annotation for the text\n",
        "def evaluate_sentence_parsing(text, gold):\n",
        "  #parse the text with spacy API\n",
        "  parse = nlp(text)\n",
        "  #setup the table for the parsing result table\n",
        "  x = PrettyTable()\n",
        "  x.field_names = [\"TokenID\", \"Token\", \"HeadID\", \"Dependency\"]\n",
        "  x.add_row([0,\"root\",0,\"-\"])\n",
        "\n",
        "  for token in parse:\n",
        "    if token.dep_==\"ROOT\":\n",
        "      x.add_row([token.i+1,token.text,\"0\",\"root\"])\n",
        "      token.dep_=\"root\"\n",
        "    else:  \n",
        "      x.add_row([token.i+1,token.text,token.head.i+1,token.dep_])\n",
        " \n",
        "  #printing the parsing result\n",
        "  print(\"Parsing Result with Spacy API\")\n",
        "  print(x)\n",
        "  \n",
        "  #setup the table for the parsing result table\n",
        "  y = PrettyTable()\n",
        "  y.field_names = [\"TokenID\", \"Token\", \"HeadID\", \"Dependency\"]\n",
        "  y.add_row([0,\"root\",0,\"-\"])\n",
        "\n",
        "  #parse the gold-standard with conll-u parser \n",
        "  sentences = conllu.parse(gold)\n",
        "  sentence = sentences[0]\n",
        "\n",
        "  for token in sentence:\n",
        "    if token['deprel']==\"root\":\n",
        "      y.add_row([token['id'],token['form'],\"0\",token['deprel']])\n",
        "    else:  \n",
        "      y.add_row([token['id'],token['form'],token['head'],token['deprel']])\n",
        "  print(\"Gold-Standard Annotation\")\n",
        "  print(y)\n",
        "\n",
        "  #summarise the list of predicted head\n",
        "  pred_head = [t.head.i+1 if i != t.head.i else 0 for i, t in enumerate(parse)]\n",
        "  #summarise the list of gold head\n",
        "  gold_head = [token['head'] for i, token in enumerate(sentence)]\n",
        "  \n",
        "  #summarise the list of predicted dependency relations\n",
        "  pred_dep = [t.dep_ for i, t in enumerate(parse)]\n",
        "  #summarise the list of gold dependency relations\n",
        "  gold_dep = [token['deprel'] for i, token in enumerate(sentence)]\n",
        "  \n",
        "  \n",
        "  \n",
        "  print(\"\\n\\nParsing Result vs Gold - Head\")\n",
        "  print(pred_head)\n",
        "  print(gold_head)\n",
        "\n",
        "  print(\"\\n\\nParsing Result vs Gold - Dependency\")\n",
        "  print(pred_dep)\n",
        "  print(gold_dep)\n",
        "  \n",
        "  #performance evaluation - Unlabeled Attachment Score (UAS)\n",
        "  #Unlabeled Attachment Score (UAS): the percent of words that have the correct heads\n",
        "  uas_accuracy = np.sum([1 if g == p else 0 for g, p in zip(gold_head, pred_head)]) / len(gold_head)\n",
        "  \n",
        "  \n",
        "  print(\"\\n\\nUnlabeled Attachment Score (UAS)\")\n",
        "  return uas_accuracy  "
      ],
      "execution_count": 0,
      "outputs": []
    },
    {
      "cell_type": "markdown",
      "metadata": {
        "id": "QwN4Xe8Am38s",
        "colab_type": "text"
      },
      "source": [
        "With the above function, let's try to test and evaluate it.\n",
        "There are two evaluation metrics:\n",
        "1. ** Unlabeled Attachment Score (UAS)**: the percent of words that have the correct heads\n",
        "2. **Labeled Attachment Score (LAS)**: the percent of words that have the correct heads and labels \n",
        "\n"
      ]
    },
    {
      "cell_type": "code",
      "metadata": {
        "id": "-P2UHiq5c1W7",
        "colab_type": "code",
        "outputId": "d735415b-a044-4acd-e56e-4603eb7e1fd6",
        "colab": {
          "base_uri": "https://localhost:8080/",
          "height": 845
        }
      },
      "source": [
        "#testing sentence\n",
        "text = \"The woman showed a wellshaped smile in the dark.\"\n",
        "\n",
        "#gold-standard of the sentence\n",
        "gold = \"\"\"\n",
        "# text = The woman showed a wellshaped smile in the dark.\n",
        "1\tThe\tthe\tDET\tDEF\tDefinite=Def|PronType=Art\t2\tdet\t_\t_\n",
        "2\twoman\twoman\tNOUN\tSG-NOM\tNumber=Sing\t3\tnsubj\t_\t_\n",
        "3\tshowed\tshow\tVERB\tPAST\tMood=Ind|Tense=Past|VerbForm=Fin\t0\troot\t_\t_\n",
        "4\ta\ta\tDET\tIND-SG\tDefinite=Ind|PronType=Art\t6\tdet\t_\t_\n",
        "5\twellshaped\twellshaped\tADJ\tPOS\tDegree=Pos\t6\tamod\t_\t_\n",
        "6\tsmile\tsmile\tNOUN\tSG-NOM\tCase=Nom\t3\tobj\t_\t_\n",
        "7\tin\tin\tADP\t_\t_\t9\tprep\t_\t_\n",
        "8\tthe\tthe\tDET\tDEF\tDefinite=Def|PronType=Art\t9\tdet\t_\t_\n",
        "9\tdark\tdark\tADJ\tPOS\tDegree=Pos\t3\tobl\t_\tSpaceAfter=No\n",
        "10\t.\t.\tPUNCT\tPeriod\t_\t3\tpunct\t_\t_\n",
        "\n",
        "\n",
        "\"\"\"\n",
        "\n",
        "print(evaluate_sentence_parsing(text, gold))"
      ],
      "execution_count": 0,
      "outputs": [
        {
          "output_type": "stream",
          "text": [
            "Parsing Result with Spacy API\n",
            "+---------+------------+--------+------------+\n",
            "| TokenID |   Token    | HeadID | Dependency |\n",
            "+---------+------------+--------+------------+\n",
            "|    0    |    root    |   0    |     -      |\n",
            "|    1    |    The     |   2    |    det     |\n",
            "|    2    |   woman    |   3    |   nsubj    |\n",
            "|    3    |   showed   |   0    |    root    |\n",
            "|    4    |     a      |   6    |    det     |\n",
            "|    5    | wellshaped |   6    |    amod    |\n",
            "|    6    |   smile    |   3    |    dobj    |\n",
            "|    7    |     in     |   3    |    prep    |\n",
            "|    8    |    the     |   9    |    det     |\n",
            "|    9    |    dark    |   7    |    pobj    |\n",
            "|    10   |     .      |   3    |   punct    |\n",
            "+---------+------------+--------+------------+\n",
            "Gold-Standard Annotation\n",
            "+---------+------------+--------+------------+\n",
            "| TokenID |   Token    | HeadID | Dependency |\n",
            "+---------+------------+--------+------------+\n",
            "|    0    |    root    |   0    |     -      |\n",
            "|    1    |    The     |   2    |    det     |\n",
            "|    2    |   woman    |   3    |   nsubj    |\n",
            "|    3    |   showed   |   0    |    root    |\n",
            "|    4    |     a      |   6    |    det     |\n",
            "|    5    | wellshaped |   6    |    amod    |\n",
            "|    6    |   smile    |   3    |    obj     |\n",
            "|    7    |     in     |   9    |    prep    |\n",
            "|    8    |    the     |   9    |    det     |\n",
            "|    9    |    dark    |   3    |    obl     |\n",
            "|    10   |     .      |   3    |   punct    |\n",
            "+---------+------------+--------+------------+\n",
            "\n",
            "\n",
            "Parsing Result vs Gold - Head\n",
            "[2, 3, 0, 6, 6, 3, 3, 9, 7, 3]\n",
            "[2, 3, 0, 6, 6, 3, 9, 9, 3, 3]\n",
            "\n",
            "\n",
            "Parsing Result vs Gold - Dependency\n",
            "['det', 'nsubj', 'root', 'det', 'amod', 'dobj', 'prep', 'det', 'pobj', 'punct']\n",
            "['det', 'nsubj', 'root', 'det', 'amod', 'obj', 'prep', 'det', 'obl', 'punct']\n",
            "\n",
            "\n",
            "Unlabeled Attachment Score (UAS)\n",
            "0.8\n"
          ],
          "name": "stdout"
        }
      ]
    },
    {
      "cell_type": "markdown",
      "metadata": {
        "id": "f80L6uFlnH5p",
        "colab_type": "text"
      },
      "source": [
        "###Summary\n",
        "The result shows that UAS are 0.8. \n",
        "\n",
        "It means that there are 2 incorrectly predicted head out of 10. \n",
        "1.   The gold head of token 'in' is 'dark', whereas the prediction is 'smile'\n",
        "2.   The gold head of token 'dark' is 'showed', whereas the prediction is 'in'.\n",
        "\n",
        "**UAS** is the percent of words that have the correct heads\n",
        "\n",
        "**LAS** is the percent of words that have the correct heads and labels.\n",
        "\n",
        "\n",
        "---\n",
        "\n"
      ]
    },
    {
      "cell_type": "markdown",
      "metadata": {
        "id": "vtPBUrBjeSPt",
        "colab_type": "text"
      },
      "source": [
        "## Transition-based Dependency Parser\n",
        "\n",
        "Transition-based Dependency Parser is simple form of greedy discriminative dependency parser. It build only one tree, in one left-to-right seep over the input\n",
        "\n",
        "\n",
        "The transition-based model consists of:\n",
        "*   a ***buffer***, storing unprocessed text, for example, at the every beginning, it stores the input tokens\n",
        "*   a ***stack***, storing elements under-processing, by default, it always has a ROOT node.\n",
        "*   a list of ***depenedency relations***, you can also consider this as the parsing results. it is usually a list of tuples, each of which is a token and its head.\n",
        "\n",
        "The ***arc-standard*** algorithm has three actions which can be applied to change the states of buffer, stack and list:\n",
        "\n",
        "*   **LEFTARC**: assert a head-dependent relation between the word at the top of stack and the word directly beneath it; remove the lower word from the stack. Take the following figure as an example, this will create a (1 -> 2) relation, and 2 will be removed from the stack\n",
        "*   **RIGHTARC**: assert a head-dependent relation between the second word on the stack and the word at the top; remove the word at the top of the stack; Still use the previous figure as example, (2 -> 1) relation will be added to the relation list, and 1 will be removed from the stack.\n",
        "*   **SHIFT**: remove the word from the front of the input buffer and push it onto the stack. Consider the following buffer, the '3' will removed from the buffer \n",
        "\n",
        "####Lecture 7 - slide 48\n",
        "![alt text](https://drive.google.com/uc?export=view&id=1S09VzsLhwwBJadtUmOyrb5_gYRQMsBWs)\n",
        "\n"
      ]
    },
    {
      "cell_type": "code",
      "metadata": {
        "id": "i-n50-MeehIn",
        "colab_type": "code",
        "colab": {}
      },
      "source": [
        "class Parse(object):\n",
        "    def __init__(self, sentence):\n",
        "        self.sentence = sentence\n",
        "        self.stack = [\"<ROOT>\"]\n",
        "        self.buffer = sentence.split()\n",
        "        self.relations = []\n",
        "\n",
        "   #transition setup\n",
        "    def parse_step(self, action):\n",
        "        assert action in [\"SHIFT\", \"LEFTARC\", \"RIGHTARC\"]\n",
        "        if action == \"SHIFT\":\n",
        "            assert len(self.buffer) > 0\n",
        "            token = self.buffer.pop(0)\n",
        "            self.stack.append(token)\n",
        "        else:\n",
        "            assert len(self.stack) >= 2\n",
        "            if action == \"LEFTARC\":\n",
        "                relation = (self.stack[-1], self.stack[-2])\n",
        "                self.relations.append(relation)\n",
        "                self.stack.pop(-2)\n",
        "            else:\n",
        "                relation = (self.stack[-2], self.stack[-1])\n",
        "                self.relations.append(relation)\n",
        "                self.stack.pop(-1)\n",
        "\n",
        "    def parse(self, actions):\n",
        "        print(\"Let's start:\")\n",
        "        output_parse_state(self)\n",
        "        print(\"*\" * 50)\n",
        "        for action in actions:\n",
        "            self.parse_step(action)\n",
        "            print(\"after action:\", action)\n",
        "            output_parse_state(self)\n",
        "            print(\"*\" * 50)\n",
        "\n",
        "\n",
        "def output_parse_state(parse):\n",
        "    print(\"Stack:\", \" \".join(parse.stack))\n",
        "    print(\"Buffer:\", \" \".join(parse.buffer))\n",
        "    print(\"Relations:\")\n",
        "    for relation in parse.relations:\n",
        "        print(\"  %s -> %s\" % (relation[0], relation[1]))"
      ],
      "execution_count": 0,
      "outputs": []
    },
    {
      "cell_type": "code",
      "metadata": {
        "id": "FmYtwXzReh49",
        "colab_type": "code",
        "outputId": "99f5a144-4bb8-4dc9-e27f-0907efd4920e",
        "colab": {
          "base_uri": "https://localhost:8080/",
          "height": 1000
        }
      },
      "source": [
        "sentence = \"Book me the morning flight\"\n",
        "\n",
        "actions = [\"SHIFT\", \"SHIFT\", \"RIGHTARC\", \"SHIFT\", \"SHIFT\", \"SHIFT\", \"LEFTARC\", \n",
        "           \"LEFTARC\", \"RIGHTARC\", \"RIGHTARC\"]\n",
        "           \n",
        "parse_obj = Parse(sentence)\n",
        "parse_obj.parse(actions)"
      ],
      "execution_count": 0,
      "outputs": [
        {
          "output_type": "stream",
          "text": [
            "Let's start:\n",
            "Stack: <ROOT>\n",
            "Buffer: Book me the morning flight\n",
            "Relations:\n",
            "**************************************************\n",
            "after action: SHIFT\n",
            "Stack: <ROOT> Book\n",
            "Buffer: me the morning flight\n",
            "Relations:\n",
            "**************************************************\n",
            "after action: SHIFT\n",
            "Stack: <ROOT> Book me\n",
            "Buffer: the morning flight\n",
            "Relations:\n",
            "**************************************************\n",
            "after action: RIGHTARC\n",
            "Stack: <ROOT> Book\n",
            "Buffer: the morning flight\n",
            "Relations:\n",
            "  Book -> me\n",
            "**************************************************\n",
            "after action: SHIFT\n",
            "Stack: <ROOT> Book the\n",
            "Buffer: morning flight\n",
            "Relations:\n",
            "  Book -> me\n",
            "**************************************************\n",
            "after action: SHIFT\n",
            "Stack: <ROOT> Book the morning\n",
            "Buffer: flight\n",
            "Relations:\n",
            "  Book -> me\n",
            "**************************************************\n",
            "after action: SHIFT\n",
            "Stack: <ROOT> Book the morning flight\n",
            "Buffer: \n",
            "Relations:\n",
            "  Book -> me\n",
            "**************************************************\n",
            "after action: LEFTARC\n",
            "Stack: <ROOT> Book the flight\n",
            "Buffer: \n",
            "Relations:\n",
            "  Book -> me\n",
            "  flight -> morning\n",
            "**************************************************\n",
            "after action: LEFTARC\n",
            "Stack: <ROOT> Book flight\n",
            "Buffer: \n",
            "Relations:\n",
            "  Book -> me\n",
            "  flight -> morning\n",
            "  flight -> the\n",
            "**************************************************\n",
            "after action: RIGHTARC\n",
            "Stack: <ROOT> Book\n",
            "Buffer: \n",
            "Relations:\n",
            "  Book -> me\n",
            "  flight -> morning\n",
            "  flight -> the\n",
            "  Book -> flight\n",
            "**************************************************\n",
            "after action: RIGHTARC\n",
            "Stack: <ROOT>\n",
            "Buffer: \n",
            "Relations:\n",
            "  Book -> me\n",
            "  flight -> morning\n",
            "  flight -> the\n",
            "  Book -> flight\n",
            "  <ROOT> -> Book\n",
            "**************************************************\n"
          ],
          "name": "stdout"
        }
      ]
    },
    {
      "cell_type": "markdown",
      "metadata": {
        "id": "9hrQQZd9Odl9",
        "colab_type": "text"
      },
      "source": [
        "###Discussion\n",
        "Where is this list of actions come from? It looks magic, but how can I know what actions to apply? A classifier is trained to predict what the next action is given the current state.\n",
        "This machine learning classifier takes the state of buffer, stack, previous list of relations as input, and predict what the next action is. \n",
        "\n",
        "For more details, please read*** Lecture 7 from slide 65***"
      ]
    },
    {
      "cell_type": "markdown",
      "metadata": {
        "id": "SA5A4eBdcMPJ",
        "colab_type": "text"
      },
      "source": [
        "##Exercise\n",
        "Evaluate the spaCy model using Universal Dependencies annotations (You should provide the parsing performance with a metric: UAS)\n",
        "\n",
        "You are going to select the index from 10 sentences provided, and calculated the **UAS** by using spacy model, you should also **visualise the parsing graph** from the spacy model.\n",
        "\n",
        "\n",
        "\n"
      ]
    },
    {
      "cell_type": "code",
      "metadata": {
        "id": "ncurRJe1lzrl",
        "colab_type": "code",
        "colab": {}
      },
      "source": [
        "# Code to download file into Colaboratory:\n",
        "!pip install -U -q PyDrive\n",
        "from pydrive.auth import GoogleAuth\n",
        "from pydrive.drive import GoogleDrive\n",
        "from google.colab import auth\n",
        "from oauth2client.client import GoogleCredentials\n",
        "# Authenticate and create the PyDrive client.\n",
        "auth.authenticate_user()\n",
        "gauth = GoogleAuth()\n",
        "gauth.credentials = GoogleCredentials.get_application_default()\n",
        "drive = GoogleDrive(gauth)\n",
        "\n",
        "id = '1vktZbQ_yjvUqTyf0qBhkRsyvDnK0ueMe'\n",
        "downloaded = drive.CreateFile({'id':id}) \n",
        "downloaded.GetContentFile('en_lines-ud-test.conllu')  \n",
        "\n",
        "# If you want to work on your own laptop, you can download the file here: \n",
        "# https://drive.google.com/open?id=1vktZbQ_yjvUqTyf0qBhkRsyvDnK0ueMe"
      ],
      "execution_count": 0,
      "outputs": []
    },
    {
      "cell_type": "code",
      "metadata": {
        "id": "RgrmQiBng9sw",
        "colab_type": "code",
        "outputId": "b8415df4-bcae-4070-c5f8-bf32e4ebcbcd",
        "colab": {
          "base_uri": "https://localhost:8080/",
          "height": 35
        }
      },
      "source": [
        "!pip install conllu\n",
        "from io import open\n",
        "from conllu import parse_incr\n",
        "import spacy\n",
        "import numpy as np\n",
        "from spacy import displacy\n",
        "\n",
        "nlp = spacy.load(\"en_core_web_sm\")\n",
        "data_file = open(\"en_lines-ud-test.conllu\", \"r\", encoding=\"utf-8\")\n",
        "\n",
        "sent_list = []\n",
        "gold_head_list = []\n",
        "n = 0\n",
        "\n",
        "for tokenlist in parse_incr(data_file):\n",
        "    n += 1\n",
        "    if n > 20:\n",
        "        break\n",
        "\n",
        "    sent = tokenlist.metadata['text']\n",
        "    gold_head = [token['head'] for i, token in enumerate(tokenlist)]    \n",
        "\n",
        "    sent_list.append(sent)\n",
        "    gold_head_list.append(gold_head)"
      ],
      "execution_count": 0,
      "outputs": [
        {
          "output_type": "stream",
          "text": [
            "Requirement already satisfied: conllu in /usr/local/lib/python3.6/dist-packages (2.3.2)\n"
          ],
          "name": "stdout"
        }
      ]
    },
    {
      "cell_type": "markdown",
      "metadata": {
        "id": "hfXqY8dGTcso",
        "colab_type": "text"
      },
      "source": [
        "**Choose one of the sentences as the input of the following form (next cell)**"
      ]
    },
    {
      "cell_type": "code",
      "metadata": {
        "id": "Gq0GKBzKrbn6",
        "colab_type": "code",
        "outputId": "30f948bc-cc0e-4c20-8925-f8634adbfb2f",
        "colab": {
          "base_uri": "https://localhost:8080/",
          "height": 377
        }
      },
      "source": [
        "for sent in sent_list:\n",
        "    print(sent)\n",
        "#Choose one of the sentences as the input of the following form (next cell)    "
      ],
      "execution_count": 0,
      "outputs": [
        {
          "output_type": "stream",
          "text": [
            "If you plot multiple charts, you will see a drop area for multi-chart fields.\n",
            "This type of drop area is not displayed for single charts.\n",
            "Drop areas\n",
            "Moving fields to the category and series areas\n",
            "When you move a field to the series area, the unique items of data within the field are displayed as data series in the chart.\n",
            "These series are represented by colored data markers, and their names appear in the chart legend.\n",
            "When you move a field to the category area, the unique items of data are displayed as categories, or related groups of data.\n",
            "Each category consists of one point from each data series.\n",
            "Category labels usually appear across the x axis of the chart, although this can vary depending on the type of chart you are using.\n",
            "Moving fields to the data area\n",
            "Data fields provide the values to be summarized in the chart.\n",
            "When you move a field to the data area, the values from the field are used as the data that is measured in the chart.\n",
            "A filter field is similar to a page field in a Microsoft Excel PivotTable report.\n",
            "For example, when you move a Product field to the filter area, you can have the chart display category and series values for one product at a time.\n",
            "Moving fields to the MultiChart area\n",
            "For example, if you move the Salesperson field to the MultiChart area, a chart is created based on data for each salesperson in that field.\n",
            "In the following example, the Salesperson field is in the MultiChart area, but it's filtered so it displays individual charts for Buchanan and Davolio.\n",
            "Filtered Salesperson field in MultiChart area\n",
            "Moving the category or series fields to inner or outer levels\n",
            "When a chart contains multiple series or category fields, the fields that are closest to the data are referred to as inner fields.\n"
          ],
          "name": "stdout"
        }
      ]
    },
    {
      "cell_type": "markdown",
      "metadata": {
        "id": "egK0qiYYs6gf",
        "colab_type": "text"
      },
      "source": [
        "### Form [Please Complete this Part]"
      ]
    },
    {
      "cell_type": "code",
      "metadata": {
        "id": "2ILT_rxmkn7f",
        "colab_type": "code",
        "cellView": "both",
        "outputId": "27f60ff0-f9a7-4692-c7b9-8d494eb40024",
        "colab": {
          "base_uri": "https://localhost:8080/",
          "height": 400
        }
      },
      "source": [
        "#@title Input sentence, calcualte UAS and visualize graphs\n",
        "#@markdown Please select a sentence from above. \n",
        "#@markdown Then calculate UAS by using spacy model, and visualize\n",
        "#The input sentence will be selected from the above cell\n",
        "sent = \"Moving fields to the category and series areas\"  #@param {type: \"string\"}\n",
        "index_sent = sent_list.index(sent)\n",
        "\n",
        "gold_head = gold_head_list[index_sent]\n",
        "# Please complete this part\n"
      ],
      "execution_count": 0,
      "outputs": [
        {
          "output_type": "stream",
          "text": [
            "UAS: 0.6250\n"
          ],
          "name": "stdout"
        },
        {
          "output_type": "display_data",
          "data": {
            "text/html": [
              "<span class=\"tex2jax_ignore\"><svg xmlns=\"http://www.w3.org/2000/svg\" xmlns:xlink=\"http://www.w3.org/1999/xlink\" xml:lang=\"en\" id=\"18471987496c4b729235c70dc2483092-0\" class=\"displacy\" width=\"770\" height=\"362.0\" direction=\"ltr\" style=\"max-width: none; height: 362.0px; color: #000000; background: #ffffff; font-family: Arial; direction: ltr\">\n",
              "<text class=\"displacy-token\" fill=\"currentColor\" text-anchor=\"middle\" y=\"272.0\">\n",
              "    <tspan class=\"displacy-word\" fill=\"currentColor\" x=\"50\">Moving</tspan>\n",
              "    <tspan class=\"displacy-tag\" dy=\"2em\" fill=\"currentColor\" x=\"50\">VERB</tspan>\n",
              "</text>\n",
              "\n",
              "<text class=\"displacy-token\" fill=\"currentColor\" text-anchor=\"middle\" y=\"272.0\">\n",
              "    <tspan class=\"displacy-word\" fill=\"currentColor\" x=\"140\">fields</tspan>\n",
              "    <tspan class=\"displacy-tag\" dy=\"2em\" fill=\"currentColor\" x=\"140\">NOUN</tspan>\n",
              "</text>\n",
              "\n",
              "<text class=\"displacy-token\" fill=\"currentColor\" text-anchor=\"middle\" y=\"272.0\">\n",
              "    <tspan class=\"displacy-word\" fill=\"currentColor\" x=\"230\">to</tspan>\n",
              "    <tspan class=\"displacy-tag\" dy=\"2em\" fill=\"currentColor\" x=\"230\">ADP</tspan>\n",
              "</text>\n",
              "\n",
              "<text class=\"displacy-token\" fill=\"currentColor\" text-anchor=\"middle\" y=\"272.0\">\n",
              "    <tspan class=\"displacy-word\" fill=\"currentColor\" x=\"320\">the</tspan>\n",
              "    <tspan class=\"displacy-tag\" dy=\"2em\" fill=\"currentColor\" x=\"320\">DET</tspan>\n",
              "</text>\n",
              "\n",
              "<text class=\"displacy-token\" fill=\"currentColor\" text-anchor=\"middle\" y=\"272.0\">\n",
              "    <tspan class=\"displacy-word\" fill=\"currentColor\" x=\"410\">category</tspan>\n",
              "    <tspan class=\"displacy-tag\" dy=\"2em\" fill=\"currentColor\" x=\"410\">NOUN</tspan>\n",
              "</text>\n",
              "\n",
              "<text class=\"displacy-token\" fill=\"currentColor\" text-anchor=\"middle\" y=\"272.0\">\n",
              "    <tspan class=\"displacy-word\" fill=\"currentColor\" x=\"500\">and</tspan>\n",
              "    <tspan class=\"displacy-tag\" dy=\"2em\" fill=\"currentColor\" x=\"500\">CCONJ</tspan>\n",
              "</text>\n",
              "\n",
              "<text class=\"displacy-token\" fill=\"currentColor\" text-anchor=\"middle\" y=\"272.0\">\n",
              "    <tspan class=\"displacy-word\" fill=\"currentColor\" x=\"590\">series</tspan>\n",
              "    <tspan class=\"displacy-tag\" dy=\"2em\" fill=\"currentColor\" x=\"590\">NOUN</tspan>\n",
              "</text>\n",
              "\n",
              "<text class=\"displacy-token\" fill=\"currentColor\" text-anchor=\"middle\" y=\"272.0\">\n",
              "    <tspan class=\"displacy-word\" fill=\"currentColor\" x=\"680\">areas</tspan>\n",
              "    <tspan class=\"displacy-tag\" dy=\"2em\" fill=\"currentColor\" x=\"680\">NOUN</tspan>\n",
              "</text>\n",
              "\n",
              "<g class=\"displacy-arrow\">\n",
              "    <path class=\"displacy-arc\" id=\"arrow-18471987496c4b729235c70dc2483092-0-0\" stroke-width=\"2px\" d=\"M70,227.0 C70,182.0 120.0,182.0 120.0,227.0\" fill=\"none\" stroke=\"currentColor\"/>\n",
              "    <text dy=\"1.25em\" style=\"font-size: 0.8em; letter-spacing: 1px\">\n",
              "        <textPath xlink:href=\"#arrow-18471987496c4b729235c70dc2483092-0-0\" class=\"displacy-label\" startOffset=\"50%\" side=\"left\" fill=\"currentColor\" text-anchor=\"middle\">dobj</textPath>\n",
              "    </text>\n",
              "    <path class=\"displacy-arrowhead\" d=\"M120.0,229.0 L128.0,217.0 112.0,217.0\" fill=\"currentColor\"/>\n",
              "</g>\n",
              "\n",
              "<g class=\"displacy-arrow\">\n",
              "    <path class=\"displacy-arc\" id=\"arrow-18471987496c4b729235c70dc2483092-0-1\" stroke-width=\"2px\" d=\"M70,227.0 C70,137.0 215.0,137.0 215.0,227.0\" fill=\"none\" stroke=\"currentColor\"/>\n",
              "    <text dy=\"1.25em\" style=\"font-size: 0.8em; letter-spacing: 1px\">\n",
              "        <textPath xlink:href=\"#arrow-18471987496c4b729235c70dc2483092-0-1\" class=\"displacy-label\" startOffset=\"50%\" side=\"left\" fill=\"currentColor\" text-anchor=\"middle\">prep</textPath>\n",
              "    </text>\n",
              "    <path class=\"displacy-arrowhead\" d=\"M215.0,229.0 L223.0,217.0 207.0,217.0\" fill=\"currentColor\"/>\n",
              "</g>\n",
              "\n",
              "<g class=\"displacy-arrow\">\n",
              "    <path class=\"displacy-arc\" id=\"arrow-18471987496c4b729235c70dc2483092-0-2\" stroke-width=\"2px\" d=\"M340,227.0 C340,47.0 675.0,47.0 675.0,227.0\" fill=\"none\" stroke=\"currentColor\"/>\n",
              "    <text dy=\"1.25em\" style=\"font-size: 0.8em; letter-spacing: 1px\">\n",
              "        <textPath xlink:href=\"#arrow-18471987496c4b729235c70dc2483092-0-2\" class=\"displacy-label\" startOffset=\"50%\" side=\"left\" fill=\"currentColor\" text-anchor=\"middle\">det</textPath>\n",
              "    </text>\n",
              "    <path class=\"displacy-arrowhead\" d=\"M340,229.0 L332,217.0 348,217.0\" fill=\"currentColor\"/>\n",
              "</g>\n",
              "\n",
              "<g class=\"displacy-arrow\">\n",
              "    <path class=\"displacy-arc\" id=\"arrow-18471987496c4b729235c70dc2483092-0-3\" stroke-width=\"2px\" d=\"M430,227.0 C430,92.0 670.0,92.0 670.0,227.0\" fill=\"none\" stroke=\"currentColor\"/>\n",
              "    <text dy=\"1.25em\" style=\"font-size: 0.8em; letter-spacing: 1px\">\n",
              "        <textPath xlink:href=\"#arrow-18471987496c4b729235c70dc2483092-0-3\" class=\"displacy-label\" startOffset=\"50%\" side=\"left\" fill=\"currentColor\" text-anchor=\"middle\">nmod</textPath>\n",
              "    </text>\n",
              "    <path class=\"displacy-arrowhead\" d=\"M430,229.0 L422,217.0 438,217.0\" fill=\"currentColor\"/>\n",
              "</g>\n",
              "\n",
              "<g class=\"displacy-arrow\">\n",
              "    <path class=\"displacy-arc\" id=\"arrow-18471987496c4b729235c70dc2483092-0-4\" stroke-width=\"2px\" d=\"M430,227.0 C430,182.0 480.0,182.0 480.0,227.0\" fill=\"none\" stroke=\"currentColor\"/>\n",
              "    <text dy=\"1.25em\" style=\"font-size: 0.8em; letter-spacing: 1px\">\n",
              "        <textPath xlink:href=\"#arrow-18471987496c4b729235c70dc2483092-0-4\" class=\"displacy-label\" startOffset=\"50%\" side=\"left\" fill=\"currentColor\" text-anchor=\"middle\">cc</textPath>\n",
              "    </text>\n",
              "    <path class=\"displacy-arrowhead\" d=\"M480.0,229.0 L488.0,217.0 472.0,217.0\" fill=\"currentColor\"/>\n",
              "</g>\n",
              "\n",
              "<g class=\"displacy-arrow\">\n",
              "    <path class=\"displacy-arc\" id=\"arrow-18471987496c4b729235c70dc2483092-0-5\" stroke-width=\"2px\" d=\"M430,227.0 C430,137.0 575.0,137.0 575.0,227.0\" fill=\"none\" stroke=\"currentColor\"/>\n",
              "    <text dy=\"1.25em\" style=\"font-size: 0.8em; letter-spacing: 1px\">\n",
              "        <textPath xlink:href=\"#arrow-18471987496c4b729235c70dc2483092-0-5\" class=\"displacy-label\" startOffset=\"50%\" side=\"left\" fill=\"currentColor\" text-anchor=\"middle\">conj</textPath>\n",
              "    </text>\n",
              "    <path class=\"displacy-arrowhead\" d=\"M575.0,229.0 L583.0,217.0 567.0,217.0\" fill=\"currentColor\"/>\n",
              "</g>\n",
              "\n",
              "<g class=\"displacy-arrow\">\n",
              "    <path class=\"displacy-arc\" id=\"arrow-18471987496c4b729235c70dc2483092-0-6\" stroke-width=\"2px\" d=\"M250,227.0 C250,2.0 680.0,2.0 680.0,227.0\" fill=\"none\" stroke=\"currentColor\"/>\n",
              "    <text dy=\"1.25em\" style=\"font-size: 0.8em; letter-spacing: 1px\">\n",
              "        <textPath xlink:href=\"#arrow-18471987496c4b729235c70dc2483092-0-6\" class=\"displacy-label\" startOffset=\"50%\" side=\"left\" fill=\"currentColor\" text-anchor=\"middle\">pobj</textPath>\n",
              "    </text>\n",
              "    <path class=\"displacy-arrowhead\" d=\"M680.0,229.0 L688.0,217.0 672.0,217.0\" fill=\"currentColor\"/>\n",
              "</g>\n",
              "</svg></span>"
            ],
            "text/plain": [
              "<IPython.core.display.HTML object>"
            ]
          },
          "metadata": {
            "tags": []
          }
        }
      ]
    }
  ]
}